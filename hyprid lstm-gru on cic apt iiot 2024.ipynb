{
 "cells": [
  {
   "cell_type": "code",
   "execution_count": 1,
   "metadata": {
    "collapsed": true,
    "ExecuteTime": {
     "end_time": "2024-12-30T08:26:07.736131Z",
     "start_time": "2024-12-30T08:26:04.289976600Z"
    }
   },
   "outputs": [
    {
     "name": "stderr",
     "output_type": "stream",
     "text": [
      "IProgress not found. Please update jupyter and ipywidgets. See https://ipywidgets.readthedocs.io/en/stable/user_install.html\n"
     ]
    }
   ],
   "source": [
    "import numpy as np\n",
    "import pandas as pd\n",
    "import matplotlib.pyplot as plt\n",
    "import seaborn as sns\n",
    "import glob\n",
    "import os\n",
    "import shap\n",
    "import scikitplot as skplt\n",
    "from mistune.plugins.math import math\n",
    "from pyspark.sql.functions import avg\n",
    "from sklearn.model_selection import train_test_split\n",
    "from sklearn.preprocessing import StandardScaler\n",
    "from sklearn.dummy import DummyClassifier\n",
    "from sklearn.linear_model import LogisticRegression\n",
    "from sklearn.ensemble import RandomForestClassifier\n",
    "from sklearn.metrics import classification_report, precision_recall_curve, average_precision_score\n",
    "from catboost import CatBoostClassifier\n",
    "from catboost import Pool\n",
    "\n",
    "from scipy.stats import spearmanr\n",
    "from scipy.cluster import hierarchy\n",
    "from collections import defaultdict\n",
    "\n",
    "from scipy.stats import ks_2samp\n",
    "from scipy.stats import describe\n",
    "from imblearn.over_sampling import SMOTENC\n",
    "from collections import Counter\n",
    "from IPython.display import display\n",
    "\n",
    "%matplotlib inline"
   ]
  },
  {
   "cell_type": "code",
   "execution_count": 2,
   "outputs": [],
   "source": [
    "dataset_base_path = r'E:\\PycharmProjects\\pythonProject1\\iiot2024'\n"
   ],
   "metadata": {
    "collapsed": false,
    "ExecuteTime": {
     "end_time": "2024-12-30T08:26:07.738680Z",
     "start_time": "2024-12-30T08:26:07.736131Z"
    }
   }
  },
  {
   "cell_type": "code",
   "execution_count": 3,
   "outputs": [],
   "source": [
    "types = {\n",
    "    'ts': 'float64',  # Timestamp, likely in float format\n",
    "    'flow_duration': 'float32',  # Same as original\n",
    "    'Header_Length': 'int64',  # Same as original 'header_length'\n",
    "    'Source IP': 'object',  # IP addresses as strings\n",
    "    'Destination IP': 'object',  # IP addresses as strings\n",
    "    'Source Port': 'int32',  # Ports can be stored as integers\n",
    "    'Destination Port': 'int32',  # Same as source port\n",
    "    'Protocol Type': 'int8',  # Assuming small integer range for protocol types\n",
    "    'Protocol_name': 'object',  # Protocol names as strings\n",
    "    'Duration': 'float32',  # Same as original 'duration'\n",
    "    'Rate': 'float32',  # Replacing 'rate'\n",
    "    'Srate': 'float32',  # Same as original 'srate'\n",
    "    'Drate': 'float32',  # Same as original 'drate'\n",
    "    'fin_flag_number': 'uint8',  # Same as original\n",
    "    'syn_flag_number': 'uint8',  # Same as original\n",
    "    'rst_flag_number': 'uint8',  # Same as original\n",
    "    'psh_flag_number': 'uint8',  # Same as original\n",
    "    'ack_flag_number': 'uint8',  # Same as original\n",
    "    'urg_flag_number': 'uint8',  # New, inferred from context\n",
    "    'ece_flag_number': 'uint8',  # Same as original\n",
    "    'cwr_flag_number': 'uint8',  # Same as original\n",
    "    'ack_count': 'float32',  # Same as original\n",
    "    'syn_count': 'float32',  # Same as original\n",
    "    'fin_count': 'float32',  # Same as original\n",
    "    'urg_count': 'float32',  # Same as original\n",
    "    'rst_count': 'float32',  # Same as original\n",
    "    'max_duration': 'float32',  # New field inferred from context\n",
    "    'min_duration': 'float32',  # New field inferred from context\n",
    "    'sum_duration': 'float32',  # New field inferred from context\n",
    "    'average_duration': 'float32',  # New field inferred from context\n",
    "    'std_duration': 'float32',  # New field inferred from context\n",
    "    'CoAP': 'uint8',  # New field, protocol flag\n",
    "    'HTTP': 'uint8',  # Protocol flag\n",
    "    'HTTPS': 'uint8',  # Protocol flag\n",
    "    'DNS': 'uint8',  # Protocol flag\n",
    "    'Telnet': 'uint8',  # Protocol flag\n",
    "    'SMTP': 'uint8',  # Protocol flag\n",
    "    'SSH': 'uint8',  # Protocol flag\n",
    "    'IRC': 'uint8',  # Protocol flag\n",
    "    'TCP': 'uint8',  # Protocol flag\n",
    "    'UDP': 'uint8',  # Protocol flag\n",
    "    'DHCP': 'uint8',  # Protocol flag\n",
    "    'ARP': 'uint8',  # Protocol flag\n",
    "    'ICMP': 'uint8',  # Protocol flag\n",
    "    'IGMP': 'uint8',  # Protocol flag\n",
    "    'IPv': 'uint8',  # Protocol flag\n",
    "    'LLC': 'uint8',  # Protocol flag\n",
    "    'Tot sum': 'float32',  # Replacing 'tot_sum'\n",
    "    'Min': 'float32',  # Replacing 'min'\n",
    "    'Max': 'float32',  # Replacing 'max'\n",
    "    'AVG': 'float32',  # Replacing 'avg'\n",
    "    'Std': 'float32',  # Replacing 'std'\n",
    "    'Tot size': 'float32',  # Replacing 'tot_size'\n",
    "    'IAT': 'float32',  # Replacing 'iat'\n",
    "    'Number': 'float32',  # Replacing 'number'\n",
    "    'MAC': 'object',  # Likely MAC address, stored as a string\n",
    "    'Magnitue': 'float32',  # Inferred from context\n",
    "    'Radius': 'float32',  # Same as original 'radius'\n",
    "    'Covariance': 'float32',  # Same as original 'covariance'\n",
    "    'Variance': 'float32',  # Same as original 'variance'\n",
    "    'Weight': 'float32',  # Same as original 'weight'\n",
    "    'DS status': 'uint8',  # New field, inferred from context\n",
    "    'Fragments': 'uint8',  # New field, inferred from context\n",
    "    'Sequence number': 'int64',  # New field, inferred from context\n",
    "    'Protocol Version': 'int8',  # New field, inferred from context\n",
    "    'flow_idle_time': 'float32',  # New field, inferred from context\n",
    "    'flow_active_time': 'float32',  # New field, inferred from context\n",
    "    'label': 'object',  # Same as original\n",
    "    'subLabel': 'object',  # New field, inferred from context\n",
    "    'subLabelCat': 'object'  # New field, inferred from context\n",
    "}\n",
    "\n",
    "def replace_infinity_with_mean(df):\n",
    "    modified_rows = 0\n",
    "    inf_columns = [c for c in df.columns if df[df[c] == np.inf][c].count() > 0]\n",
    "    for col in inf_columns:\n",
    "        modified_rows += df[df[col] == np.inf].shape[0]\n",
    "        df[col].replace([np.inf, -np.inf], np.nan, inplace=True)\n",
    "        mean = df[col].mean()\n",
    "        df[col].fillna(mean, inplace=True)\n",
    "    return df, modified_rows\n",
    "\n",
    "def replace_negative_values_with_mean(df):\n",
    "    modified_rows = 0\n",
    "    numeric_cols = df.select_dtypes(include=[np.number]).columns.values\n",
    "    columns = [c for c in numeric_cols if df[df[c] < 0][c].count() > 0]\n",
    "    for col in columns:\n",
    "        modified_rows += df[df[col] < 0].shape[0]\n",
    "        mask = df[col] < 0\n",
    "        df.loc[mask, col] = np.nan\n",
    "        mean = df[col].mean()\n",
    "        df[col].fillna(mean, inplace=True)\n",
    "    return df, modified_rows\n",
    "\n",
    "def load_dataset(files, dtypes, cols=None):\n",
    "    df = pd.concat((pd.read_csv(f, dtype=dtypes, usecols=cols) for f in files))\n",
    "\n",
    "    df, infinity_modified_rows = replace_infinity_with_mean(df)\n",
    "    df, negative_modified_rows = replace_negative_values_with_mean(df)\n",
    "\n",
    "    total_modified_rows = infinity_modified_rows + negative_modified_rows\n",
    "    print(f'عدد السطور المعدلة للقيم اللانهائية: {infinity_modified_rows}')\n",
    "    print(f'عدد السطور المعدلة للقيم السالبة: {negative_modified_rows}')\n",
    "    print(f'إجمالي عدد السطور المعدلة: {total_modified_rows}')\n",
    "\n",
    "    return df"
   ],
   "metadata": {
    "collapsed": false,
    "ExecuteTime": {
     "end_time": "2024-12-30T08:26:07.745572300Z",
     "start_time": "2024-12-30T08:26:07.742194600Z"
    }
   }
  },
  {
   "cell_type": "code",
   "execution_count": 4,
   "outputs": [
    {
     "name": "stdout",
     "output_type": "stream",
     "text": [
      "عدد السطور المعدلة للقيم اللانهائية: 0\n",
      "عدد السطور المعدلة للقيم السالبة: 0\n",
      "إجمالي عدد السطور المعدلة: 0\n"
     ]
    },
    {
     "data": {
      "text/plain": "                   ts  flow_duration  Header_Length      Source IP  \\\n0        1.701426e+09       0.000000             66  172.16.64.128   \n1        1.701426e+09       0.002112            132  172.16.64.128   \n2        1.701426e+09       0.002328            198  172.16.64.128   \n3        1.701426e+09       0.004329            264  172.16.64.128   \n4        1.701426e+09       0.009495            330  172.16.64.128   \n...               ...            ...            ...            ...   \n9536818  1.701550e+09       2.018212           5460  172.16.66.128   \n9536819  1.701550e+09       0.021296           1432  172.16.66.128   \n9536820  1.701550e+09       2.018227           5670  172.16.66.128   \n9536821  1.701550e+09       2.018277           5880  172.16.66.128   \n9536822  1.701550e+09       2.018348           6090  172.16.66.128   \n\n          Destination IP  Source Port  Destination Port  Protocol Type  \\\n0          172.16.66.128        41750               502              6   \n1          172.16.66.128        41750               502              6   \n2          172.16.66.128        41750               502              6   \n3          172.16.66.128        41750               502              6   \n4          172.16.66.128        41750               502              6   \n...                  ...          ...               ...            ...   \n9536818  239.255.255.250        41544              1900             17   \n9536819    172.16.64.128          502             55784              6   \n9536820  239.255.255.250        41544              1900             17   \n9536821  239.255.255.250        41544              1900             17   \n9536822  239.255.255.250        41544              1900             17   \n\n        Protocol_name  Duration  ...  Weight  DS status  Fragments  \\\n0                 TCP      64.0  ...     1.0          0          0   \n1                 TCP      64.0  ...     4.0          0          0   \n2                 TCP      64.0  ...     9.0          0          0   \n3                 TCP      64.0  ...    16.0          0          0   \n4                 TCP      64.0  ...    25.0          0          0   \n...               ...       ...  ...     ...        ...        ...   \n9536818           UDP       1.0  ...   100.0          0          0   \n9536819           TCP      64.0  ...   121.0          0          0   \n9536820           UDP       1.0  ...   144.0          0          0   \n9536821           UDP       1.0  ...   169.0          0          0   \n9536822           UDP       1.0  ...   196.0          0          0   \n\n         Sequence number  Protocol Version  flow_idle_time  flow_active_time  \\\n0                      0                 0    1.701426e+09          0.000000   \n1                      0                 0    2.112150e-03          0.002112   \n2                      0                 0    2.160072e-04          0.002328   \n3                      0                 0    2.001047e-03          0.004329   \n4                      0                 0    5.165815e-03          0.009495   \n...                  ...               ...             ...               ...   \n9536818                0                 0    2.312660e-05          2.018212   \n9536819                0                 0    2.112150e-03          0.021296   \n9536820                0                 0    1.478195e-05          2.018227   \n9536821                0                 0    5.006790e-05          2.018277   \n9536822                0                 0    7.104874e-05          2.018348   \n\n         label  subLabel  subLabelCat  \n0            0         0            0  \n1            0         0            0  \n2            0         0            0  \n3            0         0            0  \n4            0         0            0  \n...        ...       ...          ...  \n9536818      0         0            0  \n9536819      0         0            0  \n9536820      0         0            0  \n9536821      0         0            0  \n9536822      0         0            0  \n\n[21599219 rows x 70 columns]",
      "text/html": "<div>\n<style scoped>\n    .dataframe tbody tr th:only-of-type {\n        vertical-align: middle;\n    }\n\n    .dataframe tbody tr th {\n        vertical-align: top;\n    }\n\n    .dataframe thead th {\n        text-align: right;\n    }\n</style>\n<table border=\"1\" class=\"dataframe\">\n  <thead>\n    <tr style=\"text-align: right;\">\n      <th></th>\n      <th>ts</th>\n      <th>flow_duration</th>\n      <th>Header_Length</th>\n      <th>Source IP</th>\n      <th>Destination IP</th>\n      <th>Source Port</th>\n      <th>Destination Port</th>\n      <th>Protocol Type</th>\n      <th>Protocol_name</th>\n      <th>Duration</th>\n      <th>...</th>\n      <th>Weight</th>\n      <th>DS status</th>\n      <th>Fragments</th>\n      <th>Sequence number</th>\n      <th>Protocol Version</th>\n      <th>flow_idle_time</th>\n      <th>flow_active_time</th>\n      <th>label</th>\n      <th>subLabel</th>\n      <th>subLabelCat</th>\n    </tr>\n  </thead>\n  <tbody>\n    <tr>\n      <th>0</th>\n      <td>1.701426e+09</td>\n      <td>0.000000</td>\n      <td>66</td>\n      <td>172.16.64.128</td>\n      <td>172.16.66.128</td>\n      <td>41750</td>\n      <td>502</td>\n      <td>6</td>\n      <td>TCP</td>\n      <td>64.0</td>\n      <td>...</td>\n      <td>1.0</td>\n      <td>0</td>\n      <td>0</td>\n      <td>0</td>\n      <td>0</td>\n      <td>1.701426e+09</td>\n      <td>0.000000</td>\n      <td>0</td>\n      <td>0</td>\n      <td>0</td>\n    </tr>\n    <tr>\n      <th>1</th>\n      <td>1.701426e+09</td>\n      <td>0.002112</td>\n      <td>132</td>\n      <td>172.16.64.128</td>\n      <td>172.16.66.128</td>\n      <td>41750</td>\n      <td>502</td>\n      <td>6</td>\n      <td>TCP</td>\n      <td>64.0</td>\n      <td>...</td>\n      <td>4.0</td>\n      <td>0</td>\n      <td>0</td>\n      <td>0</td>\n      <td>0</td>\n      <td>2.112150e-03</td>\n      <td>0.002112</td>\n      <td>0</td>\n      <td>0</td>\n      <td>0</td>\n    </tr>\n    <tr>\n      <th>2</th>\n      <td>1.701426e+09</td>\n      <td>0.002328</td>\n      <td>198</td>\n      <td>172.16.64.128</td>\n      <td>172.16.66.128</td>\n      <td>41750</td>\n      <td>502</td>\n      <td>6</td>\n      <td>TCP</td>\n      <td>64.0</td>\n      <td>...</td>\n      <td>9.0</td>\n      <td>0</td>\n      <td>0</td>\n      <td>0</td>\n      <td>0</td>\n      <td>2.160072e-04</td>\n      <td>0.002328</td>\n      <td>0</td>\n      <td>0</td>\n      <td>0</td>\n    </tr>\n    <tr>\n      <th>3</th>\n      <td>1.701426e+09</td>\n      <td>0.004329</td>\n      <td>264</td>\n      <td>172.16.64.128</td>\n      <td>172.16.66.128</td>\n      <td>41750</td>\n      <td>502</td>\n      <td>6</td>\n      <td>TCP</td>\n      <td>64.0</td>\n      <td>...</td>\n      <td>16.0</td>\n      <td>0</td>\n      <td>0</td>\n      <td>0</td>\n      <td>0</td>\n      <td>2.001047e-03</td>\n      <td>0.004329</td>\n      <td>0</td>\n      <td>0</td>\n      <td>0</td>\n    </tr>\n    <tr>\n      <th>4</th>\n      <td>1.701426e+09</td>\n      <td>0.009495</td>\n      <td>330</td>\n      <td>172.16.64.128</td>\n      <td>172.16.66.128</td>\n      <td>41750</td>\n      <td>502</td>\n      <td>6</td>\n      <td>TCP</td>\n      <td>64.0</td>\n      <td>...</td>\n      <td>25.0</td>\n      <td>0</td>\n      <td>0</td>\n      <td>0</td>\n      <td>0</td>\n      <td>5.165815e-03</td>\n      <td>0.009495</td>\n      <td>0</td>\n      <td>0</td>\n      <td>0</td>\n    </tr>\n    <tr>\n      <th>...</th>\n      <td>...</td>\n      <td>...</td>\n      <td>...</td>\n      <td>...</td>\n      <td>...</td>\n      <td>...</td>\n      <td>...</td>\n      <td>...</td>\n      <td>...</td>\n      <td>...</td>\n      <td>...</td>\n      <td>...</td>\n      <td>...</td>\n      <td>...</td>\n      <td>...</td>\n      <td>...</td>\n      <td>...</td>\n      <td>...</td>\n      <td>...</td>\n      <td>...</td>\n      <td>...</td>\n    </tr>\n    <tr>\n      <th>9536818</th>\n      <td>1.701550e+09</td>\n      <td>2.018212</td>\n      <td>5460</td>\n      <td>172.16.66.128</td>\n      <td>239.255.255.250</td>\n      <td>41544</td>\n      <td>1900</td>\n      <td>17</td>\n      <td>UDP</td>\n      <td>1.0</td>\n      <td>...</td>\n      <td>100.0</td>\n      <td>0</td>\n      <td>0</td>\n      <td>0</td>\n      <td>0</td>\n      <td>2.312660e-05</td>\n      <td>2.018212</td>\n      <td>0</td>\n      <td>0</td>\n      <td>0</td>\n    </tr>\n    <tr>\n      <th>9536819</th>\n      <td>1.701550e+09</td>\n      <td>0.021296</td>\n      <td>1432</td>\n      <td>172.16.66.128</td>\n      <td>172.16.64.128</td>\n      <td>502</td>\n      <td>55784</td>\n      <td>6</td>\n      <td>TCP</td>\n      <td>64.0</td>\n      <td>...</td>\n      <td>121.0</td>\n      <td>0</td>\n      <td>0</td>\n      <td>0</td>\n      <td>0</td>\n      <td>2.112150e-03</td>\n      <td>0.021296</td>\n      <td>0</td>\n      <td>0</td>\n      <td>0</td>\n    </tr>\n    <tr>\n      <th>9536820</th>\n      <td>1.701550e+09</td>\n      <td>2.018227</td>\n      <td>5670</td>\n      <td>172.16.66.128</td>\n      <td>239.255.255.250</td>\n      <td>41544</td>\n      <td>1900</td>\n      <td>17</td>\n      <td>UDP</td>\n      <td>1.0</td>\n      <td>...</td>\n      <td>144.0</td>\n      <td>0</td>\n      <td>0</td>\n      <td>0</td>\n      <td>0</td>\n      <td>1.478195e-05</td>\n      <td>2.018227</td>\n      <td>0</td>\n      <td>0</td>\n      <td>0</td>\n    </tr>\n    <tr>\n      <th>9536821</th>\n      <td>1.701550e+09</td>\n      <td>2.018277</td>\n      <td>5880</td>\n      <td>172.16.66.128</td>\n      <td>239.255.255.250</td>\n      <td>41544</td>\n      <td>1900</td>\n      <td>17</td>\n      <td>UDP</td>\n      <td>1.0</td>\n      <td>...</td>\n      <td>169.0</td>\n      <td>0</td>\n      <td>0</td>\n      <td>0</td>\n      <td>0</td>\n      <td>5.006790e-05</td>\n      <td>2.018277</td>\n      <td>0</td>\n      <td>0</td>\n      <td>0</td>\n    </tr>\n    <tr>\n      <th>9536822</th>\n      <td>1.701550e+09</td>\n      <td>2.018348</td>\n      <td>6090</td>\n      <td>172.16.66.128</td>\n      <td>239.255.255.250</td>\n      <td>41544</td>\n      <td>1900</td>\n      <td>17</td>\n      <td>UDP</td>\n      <td>1.0</td>\n      <td>...</td>\n      <td>196.0</td>\n      <td>0</td>\n      <td>0</td>\n      <td>0</td>\n      <td>0</td>\n      <td>7.104874e-05</td>\n      <td>2.018348</td>\n      <td>0</td>\n      <td>0</td>\n      <td>0</td>\n    </tr>\n  </tbody>\n</table>\n<p>21599219 rows × 70 columns</p>\n</div>"
     },
     "execution_count": 4,
     "metadata": {},
     "output_type": "execute_result"
    }
   ],
   "source": [
    "csv_files = glob.glob(os.path.join(dataset_base_path, '*.csv'))\n",
    "\n",
    "df = load_dataset(csv_files, types)\n",
    "df"
   ],
   "metadata": {
    "collapsed": false,
    "ExecuteTime": {
     "end_time": "2024-12-30T08:27:50.773900400Z",
     "start_time": "2024-12-30T08:26:07.745572300Z"
    }
   }
  },
  {
   "cell_type": "code",
   "execution_count": 5,
   "outputs": [
    {
     "name": "stdout",
     "output_type": "stream",
     "text": [
      "                   ts  flow_duration  Header_Length      Source IP  \\\n",
      "0        1.701426e+09       0.000000             66  172.16.64.128   \n",
      "1        1.701426e+09       0.002112            132  172.16.64.128   \n",
      "2        1.701426e+09       0.002328            198  172.16.64.128   \n",
      "3        1.701426e+09       0.004329            264  172.16.64.128   \n",
      "4        1.701426e+09       0.009495            330  172.16.64.128   \n",
      "...               ...            ...            ...            ...   \n",
      "9536818  1.701550e+09       2.018212           5460  172.16.66.128   \n",
      "9536819  1.701550e+09       0.021296           1432  172.16.66.128   \n",
      "9536820  1.701550e+09       2.018227           5670  172.16.66.128   \n",
      "9536821  1.701550e+09       2.018277           5880  172.16.66.128   \n",
      "9536822  1.701550e+09       2.018348           6090  172.16.66.128   \n",
      "\n",
      "          Destination IP  Source Port  Destination Port  Protocol Type  \\\n",
      "0          172.16.66.128        41750               502              6   \n",
      "1          172.16.66.128        41750               502              6   \n",
      "2          172.16.66.128        41750               502              6   \n",
      "3          172.16.66.128        41750               502              6   \n",
      "4          172.16.66.128        41750               502              6   \n",
      "...                  ...          ...               ...            ...   \n",
      "9536818  239.255.255.250        41544              1900             17   \n",
      "9536819    172.16.64.128          502             55784              6   \n",
      "9536820  239.255.255.250        41544              1900             17   \n",
      "9536821  239.255.255.250        41544              1900             17   \n",
      "9536822  239.255.255.250        41544              1900             17   \n",
      "\n",
      "        Protocol_name  Duration  ...  Fragments  Sequence number  \\\n",
      "0                 TCP      64.0  ...          0                0   \n",
      "1                 TCP      64.0  ...          0                0   \n",
      "2                 TCP      64.0  ...          0                0   \n",
      "3                 TCP      64.0  ...          0                0   \n",
      "4                 TCP      64.0  ...          0                0   \n",
      "...               ...       ...  ...        ...              ...   \n",
      "9536818           UDP       1.0  ...          0                0   \n",
      "9536819           TCP      64.0  ...          0                0   \n",
      "9536820           UDP       1.0  ...          0                0   \n",
      "9536821           UDP       1.0  ...          0                0   \n",
      "9536822           UDP       1.0  ...          0                0   \n",
      "\n",
      "         Protocol Version  flow_idle_time  flow_active_time  label  subLabel  \\\n",
      "0                       0    1.701426e+09          0.000000      0         0   \n",
      "1                       0    2.112150e-03          0.002112      0         0   \n",
      "2                       0    2.160072e-04          0.002328      0         0   \n",
      "3                       0    2.001047e-03          0.004329      0         0   \n",
      "4                       0    5.165815e-03          0.009495      0         0   \n",
      "...                   ...             ...               ...    ...       ...   \n",
      "9536818                 0    2.312660e-05          2.018212      0         0   \n",
      "9536819                 0    2.112150e-03          0.021296      0         0   \n",
      "9536820                 0    1.478195e-05          2.018227      0         0   \n",
      "9536821                 0    5.006790e-05          2.018277      0         0   \n",
      "9536822                 0    7.104874e-05          2.018348      0         0   \n",
      "\n",
      "         subLabelCat  Source IP (int)  Destination IP (int)  \n",
      "0                  0       2886746240            2886746752  \n",
      "1                  0       2886746240            2886746752  \n",
      "2                  0       2886746240            2886746752  \n",
      "3                  0       2886746240            2886746752  \n",
      "4                  0       2886746240            2886746752  \n",
      "...              ...              ...                   ...  \n",
      "9536818            0       2886746752            4026531834  \n",
      "9536819            0       2886746752            2886746240  \n",
      "9536820            0       2886746752            4026531834  \n",
      "9536821            0       2886746752            4026531834  \n",
      "9536822            0       2886746752            4026531834  \n",
      "\n",
      "[21599219 rows x 72 columns]\n"
     ]
    }
   ],
   "source": [
    "import socket\n",
    "import struct\n",
    "import pandas as pd\n",
    "\n",
    "def ip_to_int(ip_address):\n",
    "    try:\n",
    "        return struct.unpack(\"!I\", socket.inet_aton(ip_address))[0]\n",
    "    except socket.error:\n",
    "        return None\n",
    "\n",
    "\n",
    "\n",
    "df['Source IP (int)'] = df['Source IP'].apply(ip_to_int)\n",
    "df['Destination IP (int)'] = df['Destination IP'].apply(ip_to_int)\n",
    "\n",
    "# عرض النتائج\n",
    "print(df)\n"
   ],
   "metadata": {
    "collapsed": false,
    "ExecuteTime": {
     "end_time": "2024-12-30T08:28:06.248344500Z",
     "start_time": "2024-12-30T08:27:50.873429Z"
    }
   }
  },
  {
   "cell_type": "code",
   "execution_count": 6,
   "outputs": [],
   "source": [
    "X = df.drop(columns=['label','subLabel','subLabelCat','Source IP','Destination IP','Protocol_name'])\n",
    "y = df[['label']]"
   ],
   "metadata": {
    "collapsed": false,
    "ExecuteTime": {
     "end_time": "2024-12-30T08:28:07.277519700Z",
     "start_time": "2024-12-30T08:28:06.247341900Z"
    }
   }
  },
  {
   "cell_type": "markdown",
   "source": [],
   "metadata": {
    "collapsed": false
   }
  },
  {
   "cell_type": "code",
   "execution_count": 7,
   "outputs": [
    {
     "data": {
      "text/plain": "                   ts  flow_duration  Header_Length  Source Port  \\\n0        1.701426e+09       0.000000             66        41750   \n1        1.701426e+09       0.002112            132        41750   \n2        1.701426e+09       0.002328            198        41750   \n3        1.701426e+09       0.004329            264        41750   \n4        1.701426e+09       0.009495            330        41750   \n...               ...            ...            ...          ...   \n9536818  1.701550e+09       2.018212           5460        41544   \n9536819  1.701550e+09       0.021296           1432          502   \n9536820  1.701550e+09       2.018227           5670        41544   \n9536821  1.701550e+09       2.018277           5880        41544   \n9536822  1.701550e+09       2.018348           6090        41544   \n\n         Destination Port  Protocol Type  Duration         Rate        Srate  \\\n0                     502              6      64.0     0.000000     0.000000   \n1                     502              6      64.0   946.902344   946.902344   \n2                     502              6      64.0  1288.572632  1288.572632   \n3                     502              6      64.0   923.957275   923.957275   \n4                     502              6      64.0   526.591858   526.591858   \n...                   ...            ...       ...          ...          ...   \n9536818              1900             17       1.0    12.882689    12.882689   \n9536819             55784              6      64.0   939.142456   939.142456   \n9536820              1900             17       1.0    13.378079    13.378079   \n9536821              1900             17       1.0    13.873220    13.873220   \n9536822              1900             17       1.0    14.368186    14.368186   \n\n         Drate  ...  Variance  Weight  DS status  Fragments  Sequence number  \\\n0          0.0  ...       0.0     1.0          0          0                0   \n1          0.0  ...       0.0     4.0          0          0                0   \n2          0.0  ...       0.0     9.0          0          0                0   \n3          0.0  ...       0.0    16.0          0          0                0   \n4          0.0  ...       0.0    25.0          0          0                0   \n...        ...  ...       ...     ...        ...        ...              ...   \n9536818    0.0  ...       1.0   100.0          0          0                0   \n9536819    0.0  ...       1.0   121.0          0          0                0   \n9536820    0.0  ...       1.0   144.0          0          0                0   \n9536821    0.0  ...       1.0   169.0          0          0                0   \n9536822    0.0  ...       1.0   196.0          0          0                0   \n\n         Protocol Version  flow_idle_time  flow_active_time  Source IP (int)  \\\n0                       0    1.701426e+09          0.000000       2886746240   \n1                       0    2.112150e-03          0.002112       2886746240   \n2                       0    2.160072e-04          0.002328       2886746240   \n3                       0    2.001047e-03          0.004329       2886746240   \n4                       0    5.165815e-03          0.009495       2886746240   \n...                   ...             ...               ...              ...   \n9536818                 0    2.312660e-05          2.018212       2886746752   \n9536819                 0    2.112150e-03          0.021296       2886746752   \n9536820                 0    1.478195e-05          2.018227       2886746752   \n9536821                 0    5.006790e-05          2.018277       2886746752   \n9536822                 0    7.104874e-05          2.018348       2886746752   \n\n         Destination IP (int)  \n0                  2886746752  \n1                  2886746752  \n2                  2886746752  \n3                  2886746752  \n4                  2886746752  \n...                       ...  \n9536818            4026531834  \n9536819            2886746240  \n9536820            4026531834  \n9536821            4026531834  \n9536822            4026531834  \n\n[21599219 rows x 66 columns]",
      "text/html": "<div>\n<style scoped>\n    .dataframe tbody tr th:only-of-type {\n        vertical-align: middle;\n    }\n\n    .dataframe tbody tr th {\n        vertical-align: top;\n    }\n\n    .dataframe thead th {\n        text-align: right;\n    }\n</style>\n<table border=\"1\" class=\"dataframe\">\n  <thead>\n    <tr style=\"text-align: right;\">\n      <th></th>\n      <th>ts</th>\n      <th>flow_duration</th>\n      <th>Header_Length</th>\n      <th>Source Port</th>\n      <th>Destination Port</th>\n      <th>Protocol Type</th>\n      <th>Duration</th>\n      <th>Rate</th>\n      <th>Srate</th>\n      <th>Drate</th>\n      <th>...</th>\n      <th>Variance</th>\n      <th>Weight</th>\n      <th>DS status</th>\n      <th>Fragments</th>\n      <th>Sequence number</th>\n      <th>Protocol Version</th>\n      <th>flow_idle_time</th>\n      <th>flow_active_time</th>\n      <th>Source IP (int)</th>\n      <th>Destination IP (int)</th>\n    </tr>\n  </thead>\n  <tbody>\n    <tr>\n      <th>0</th>\n      <td>1.701426e+09</td>\n      <td>0.000000</td>\n      <td>66</td>\n      <td>41750</td>\n      <td>502</td>\n      <td>6</td>\n      <td>64.0</td>\n      <td>0.000000</td>\n      <td>0.000000</td>\n      <td>0.0</td>\n      <td>...</td>\n      <td>0.0</td>\n      <td>1.0</td>\n      <td>0</td>\n      <td>0</td>\n      <td>0</td>\n      <td>0</td>\n      <td>1.701426e+09</td>\n      <td>0.000000</td>\n      <td>2886746240</td>\n      <td>2886746752</td>\n    </tr>\n    <tr>\n      <th>1</th>\n      <td>1.701426e+09</td>\n      <td>0.002112</td>\n      <td>132</td>\n      <td>41750</td>\n      <td>502</td>\n      <td>6</td>\n      <td>64.0</td>\n      <td>946.902344</td>\n      <td>946.902344</td>\n      <td>0.0</td>\n      <td>...</td>\n      <td>0.0</td>\n      <td>4.0</td>\n      <td>0</td>\n      <td>0</td>\n      <td>0</td>\n      <td>0</td>\n      <td>2.112150e-03</td>\n      <td>0.002112</td>\n      <td>2886746240</td>\n      <td>2886746752</td>\n    </tr>\n    <tr>\n      <th>2</th>\n      <td>1.701426e+09</td>\n      <td>0.002328</td>\n      <td>198</td>\n      <td>41750</td>\n      <td>502</td>\n      <td>6</td>\n      <td>64.0</td>\n      <td>1288.572632</td>\n      <td>1288.572632</td>\n      <td>0.0</td>\n      <td>...</td>\n      <td>0.0</td>\n      <td>9.0</td>\n      <td>0</td>\n      <td>0</td>\n      <td>0</td>\n      <td>0</td>\n      <td>2.160072e-04</td>\n      <td>0.002328</td>\n      <td>2886746240</td>\n      <td>2886746752</td>\n    </tr>\n    <tr>\n      <th>3</th>\n      <td>1.701426e+09</td>\n      <td>0.004329</td>\n      <td>264</td>\n      <td>41750</td>\n      <td>502</td>\n      <td>6</td>\n      <td>64.0</td>\n      <td>923.957275</td>\n      <td>923.957275</td>\n      <td>0.0</td>\n      <td>...</td>\n      <td>0.0</td>\n      <td>16.0</td>\n      <td>0</td>\n      <td>0</td>\n      <td>0</td>\n      <td>0</td>\n      <td>2.001047e-03</td>\n      <td>0.004329</td>\n      <td>2886746240</td>\n      <td>2886746752</td>\n    </tr>\n    <tr>\n      <th>4</th>\n      <td>1.701426e+09</td>\n      <td>0.009495</td>\n      <td>330</td>\n      <td>41750</td>\n      <td>502</td>\n      <td>6</td>\n      <td>64.0</td>\n      <td>526.591858</td>\n      <td>526.591858</td>\n      <td>0.0</td>\n      <td>...</td>\n      <td>0.0</td>\n      <td>25.0</td>\n      <td>0</td>\n      <td>0</td>\n      <td>0</td>\n      <td>0</td>\n      <td>5.165815e-03</td>\n      <td>0.009495</td>\n      <td>2886746240</td>\n      <td>2886746752</td>\n    </tr>\n    <tr>\n      <th>...</th>\n      <td>...</td>\n      <td>...</td>\n      <td>...</td>\n      <td>...</td>\n      <td>...</td>\n      <td>...</td>\n      <td>...</td>\n      <td>...</td>\n      <td>...</td>\n      <td>...</td>\n      <td>...</td>\n      <td>...</td>\n      <td>...</td>\n      <td>...</td>\n      <td>...</td>\n      <td>...</td>\n      <td>...</td>\n      <td>...</td>\n      <td>...</td>\n      <td>...</td>\n      <td>...</td>\n    </tr>\n    <tr>\n      <th>9536818</th>\n      <td>1.701550e+09</td>\n      <td>2.018212</td>\n      <td>5460</td>\n      <td>41544</td>\n      <td>1900</td>\n      <td>17</td>\n      <td>1.0</td>\n      <td>12.882689</td>\n      <td>12.882689</td>\n      <td>0.0</td>\n      <td>...</td>\n      <td>1.0</td>\n      <td>100.0</td>\n      <td>0</td>\n      <td>0</td>\n      <td>0</td>\n      <td>0</td>\n      <td>2.312660e-05</td>\n      <td>2.018212</td>\n      <td>2886746752</td>\n      <td>4026531834</td>\n    </tr>\n    <tr>\n      <th>9536819</th>\n      <td>1.701550e+09</td>\n      <td>0.021296</td>\n      <td>1432</td>\n      <td>502</td>\n      <td>55784</td>\n      <td>6</td>\n      <td>64.0</td>\n      <td>939.142456</td>\n      <td>939.142456</td>\n      <td>0.0</td>\n      <td>...</td>\n      <td>1.0</td>\n      <td>121.0</td>\n      <td>0</td>\n      <td>0</td>\n      <td>0</td>\n      <td>0</td>\n      <td>2.112150e-03</td>\n      <td>0.021296</td>\n      <td>2886746752</td>\n      <td>2886746240</td>\n    </tr>\n    <tr>\n      <th>9536820</th>\n      <td>1.701550e+09</td>\n      <td>2.018227</td>\n      <td>5670</td>\n      <td>41544</td>\n      <td>1900</td>\n      <td>17</td>\n      <td>1.0</td>\n      <td>13.378079</td>\n      <td>13.378079</td>\n      <td>0.0</td>\n      <td>...</td>\n      <td>1.0</td>\n      <td>144.0</td>\n      <td>0</td>\n      <td>0</td>\n      <td>0</td>\n      <td>0</td>\n      <td>1.478195e-05</td>\n      <td>2.018227</td>\n      <td>2886746752</td>\n      <td>4026531834</td>\n    </tr>\n    <tr>\n      <th>9536821</th>\n      <td>1.701550e+09</td>\n      <td>2.018277</td>\n      <td>5880</td>\n      <td>41544</td>\n      <td>1900</td>\n      <td>17</td>\n      <td>1.0</td>\n      <td>13.873220</td>\n      <td>13.873220</td>\n      <td>0.0</td>\n      <td>...</td>\n      <td>1.0</td>\n      <td>169.0</td>\n      <td>0</td>\n      <td>0</td>\n      <td>0</td>\n      <td>0</td>\n      <td>5.006790e-05</td>\n      <td>2.018277</td>\n      <td>2886746752</td>\n      <td>4026531834</td>\n    </tr>\n    <tr>\n      <th>9536822</th>\n      <td>1.701550e+09</td>\n      <td>2.018348</td>\n      <td>6090</td>\n      <td>41544</td>\n      <td>1900</td>\n      <td>17</td>\n      <td>1.0</td>\n      <td>14.368186</td>\n      <td>14.368186</td>\n      <td>0.0</td>\n      <td>...</td>\n      <td>1.0</td>\n      <td>196.0</td>\n      <td>0</td>\n      <td>0</td>\n      <td>0</td>\n      <td>0</td>\n      <td>7.104874e-05</td>\n      <td>2.018348</td>\n      <td>2886746752</td>\n      <td>4026531834</td>\n    </tr>\n  </tbody>\n</table>\n<p>21599219 rows × 66 columns</p>\n</div>"
     },
     "execution_count": 7,
     "metadata": {},
     "output_type": "execute_result"
    }
   ],
   "source": [
    "X"
   ],
   "metadata": {
    "collapsed": false,
    "ExecuteTime": {
     "end_time": "2024-12-30T08:28:09.635072600Z",
     "start_time": "2024-12-30T08:28:07.284055300Z"
    }
   }
  },
  {
   "cell_type": "code",
   "execution_count": 8,
   "outputs": [
    {
     "data": {
      "text/plain": "label\n0    21598215\n1        1004\nName: count, dtype: int64"
     },
     "execution_count": 8,
     "metadata": {},
     "output_type": "execute_result"
    }
   ],
   "source": [
    "y.label.value_counts()"
   ],
   "metadata": {
    "collapsed": false,
    "ExecuteTime": {
     "end_time": "2024-12-30T08:28:10.017510500Z",
     "start_time": "2024-12-30T08:28:09.633073300Z"
    }
   }
  },
  {
   "cell_type": "markdown",
   "source": [],
   "metadata": {
    "collapsed": false
   }
  },
  {
   "cell_type": "code",
   "execution_count": 10,
   "outputs": [
    {
     "name": "stdout",
     "output_type": "stream",
     "text": [
      "Remaining amount of features: 33\n"
     ]
    }
   ],
   "source": [
    "selected_features = [\n",
    "    'ts', 'flow_duration', 'Source Port', 'Destination Port', 'Protocol Type', 'Duration', 'Rate',\n",
    "    'fin_flag_number', 'syn_flag_number', 'rst_flag_number', 'psh_flag_number', 'ack_flag_number',\n",
    "    'syn_count', 'urg_count', 'HTTP', 'HTTPS', 'DNS', 'SSH', 'TCP', 'ARP', 'ICMP', 'IGMP', 'IPv',\n",
    "    'Tot sum', 'Min', 'Max', 'AVG', 'Std', 'Tot size', 'IAT', 'Variance', 'Source IP (int)', 'Destination IP (int)'\n",
    "]\n",
    "X = X[selected_features]\n",
    "print(f\"Remaining amount of features: {len(X.columns)}\")"
   ],
   "metadata": {
    "collapsed": false,
    "ExecuteTime": {
     "end_time": "2024-12-30T08:28:10.531882300Z",
     "start_time": "2024-12-30T08:28:10.024688300Z"
    }
   }
  },
  {
   "cell_type": "code",
   "execution_count": 10,
   "outputs": [],
   "source": [],
   "metadata": {
    "collapsed": false,
    "ExecuteTime": {
     "end_time": "2024-12-30T08:28:10.532882500Z",
     "start_time": "2024-12-30T08:28:10.531882300Z"
    }
   }
  },
  {
   "cell_type": "code",
   "execution_count": 11,
   "outputs": [],
   "source": [
    "from sklearn.model_selection import train_test_split\n",
    "from sklearn.preprocessing import StandardScaler\n",
    "from tensorflow.keras.models import Sequential\n",
    "from tensorflow.keras.layers import LSTM, Dense, Dropout\n",
    "from tensorflow.keras.optimizers import Adam\n",
    "from tensorflow.keras.callbacks import EarlyStopping\n",
    "from tensorflow.keras.utils import to_categorical\n",
    "from sklearn.metrics import classification_report\n",
    "\n",
    "\n",
    "\n",
    "X_train, X_test, y_train, y_test = train_test_split(X, y, test_size=0.2, random_state=42, stratify=y)\n",
    "\n",
    "\n",
    "X_train = X_train.values\n",
    "X_test = X_test.values\n",
    "y_train = y_train.values\n",
    "y_test = y_test.values\n",
    "\n",
    "scaler = StandardScaler()\n",
    "X_train = scaler.fit_transform(X_train)\n",
    "X_test = scaler.transform(X_test)\n",
    "\n",
    "\n",
    "X_train = X_train.reshape(X_train.shape[0], 1, X_train.shape[1])\n",
    "X_test = X_test.reshape(X_test.shape[0], 1, X_test.shape[1])\n",
    "\n",
    "\n",
    "num_classes = len(np.unique(y_train))\n",
    "y_train_encoded = to_categorical(y_train, num_classes=num_classes)\n",
    "y_test_encoded = to_categorical(y_test, num_classes=num_classes)\n",
    "\n",
    "\n",
    "from tensorflow.keras.models import Sequential\n",
    "from tensorflow.keras.layers import LSTM, Dense, Dropout, BatchNormalization, GRU\n",
    "from tensorflow.keras.optimizers import Adam\n",
    "from tensorflow.keras.callbacks import EarlyStopping, ReduceLROnPlateau\n",
    "\n",
    "model = Sequential([\n",
    "    LSTM(units=128, input_shape=(X_train.shape[1], X_train.shape[2]), return_sequences=True),\n",
    "    Dropout(0.3),\n",
    "    BatchNormalization(),\n",
    "\n",
    "    LSTM(units=128, return_sequences=True),\n",
    "    Dropout(0.3),\n",
    "    BatchNormalization(),\n",
    "\n",
    "    GRU(units=64, return_sequences=False),\n",
    "    Dropout(0.3),\n",
    "    BatchNormalization(),\n",
    "\n",
    "    Dense(units=128, activation='relu'),\n",
    "    Dropout(0.3),\n",
    "\n",
    "    Dense(units=num_classes, activation='softmax')  # تصنيف متعدد\n",
    "])\n",
    "\n",
    "optimizer = Adam(learning_rate=0.001)\n",
    "model.compile(optimizer=optimizer, loss='categorical_crossentropy', metrics=['accuracy'])\n",
    "\n"
   ],
   "metadata": {
    "collapsed": false,
    "ExecuteTime": {
     "end_time": "2024-12-30T08:29:01.593196300Z",
     "start_time": "2024-12-30T08:28:10.532882500Z"
    }
   }
  },
  {
   "cell_type": "code",
   "execution_count": 12,
   "outputs": [
    {
     "name": "stdout",
     "output_type": "stream",
     "text": [
      "Epoch 1/100\n",
      "13500/13500 [==============================] - 219s 16ms/step - loss: 6.1201e-04 - accuracy: 0.9999 - val_loss: 1.9391e-04 - val_accuracy: 0.9999 - lr: 0.0010\n",
      "Epoch 2/100\n",
      "13500/13500 [==============================] - 232s 17ms/step - loss: 2.0065e-04 - accuracy: 1.0000 - val_loss: 1.8370e-04 - val_accuracy: 1.0000 - lr: 0.0010\n",
      "Epoch 3/100\n",
      "13500/13500 [==============================] - 241s 18ms/step - loss: 1.9097e-04 - accuracy: 1.0000 - val_loss: 1.7830e-04 - val_accuracy: 0.9999 - lr: 0.0010\n",
      "Epoch 4/100\n",
      "13500/13500 [==============================] - 250s 19ms/step - loss: 1.6308e-04 - accuracy: 1.0000 - val_loss: 1.5708e-04 - val_accuracy: 1.0000 - lr: 5.0000e-04\n",
      "Epoch 5/100\n",
      "13500/13500 [==============================] - 253s 19ms/step - loss: 1.5297e-04 - accuracy: 1.0000 - val_loss: 1.6465e-04 - val_accuracy: 1.0000 - lr: 5.0000e-04\n",
      "Epoch 6/100\n",
      "13500/13500 [==============================] - 255s 19ms/step - loss: 1.4357e-04 - accuracy: 1.0000 - val_loss: 1.4863e-04 - val_accuracy: 1.0000 - lr: 2.5000e-04\n",
      "Epoch 7/100\n",
      "13500/13500 [==============================] - 249s 18ms/step - loss: 1.3586e-04 - accuracy: 1.0000 - val_loss: 1.3507e-04 - val_accuracy: 1.0000 - lr: 2.5000e-04\n",
      "Epoch 8/100\n",
      "13500/13500 [==============================] - 247s 18ms/step - loss: 1.2782e-04 - accuracy: 1.0000 - val_loss: 1.3025e-04 - val_accuracy: 1.0000 - lr: 1.2500e-04\n",
      "Epoch 9/100\n",
      "13500/13500 [==============================] - 250s 19ms/step - loss: 1.2894e-04 - accuracy: 1.0000 - val_loss: 1.3129e-04 - val_accuracy: 1.0000 - lr: 1.2500e-04\n",
      "Epoch 10/100\n",
      "13500/13500 [==============================] - 251s 19ms/step - loss: 1.2520e-04 - accuracy: 1.0000 - val_loss: 1.2760e-04 - val_accuracy: 1.0000 - lr: 6.2500e-05\n",
      "Epoch 11/100\n",
      "13500/13500 [==============================] - 252s 19ms/step - loss: 1.1513e-04 - accuracy: 1.0000 - val_loss: 1.3196e-04 - val_accuracy: 1.0000 - lr: 6.2500e-05\n",
      "Epoch 12/100\n",
      "13500/13500 [==============================] - 246s 18ms/step - loss: 1.1691e-04 - accuracy: 1.0000 - val_loss: 1.2865e-04 - val_accuracy: 1.0000 - lr: 3.1250e-05\n",
      "Epoch 13/100\n",
      "13500/13500 [==============================] - 241s 18ms/step - loss: 1.1568e-04 - accuracy: 1.0000 - val_loss: 1.2744e-04 - val_accuracy: 1.0000 - lr: 3.1250e-05\n",
      "Epoch 14/100\n",
      "13500/13500 [==============================] - 245s 18ms/step - loss: 1.1425e-04 - accuracy: 1.0000 - val_loss: 1.2653e-04 - val_accuracy: 1.0000 - lr: 1.5625e-05\n",
      "Epoch 15/100\n",
      "13500/13500 [==============================] - 353s 26ms/step - loss: 1.1552e-04 - accuracy: 1.0000 - val_loss: 1.2658e-04 - val_accuracy: 1.0000 - lr: 1.5625e-05\n",
      "Epoch 16/100\n",
      "13500/13500 [==============================] - 372s 28ms/step - loss: 1.1188e-04 - accuracy: 1.0000 - val_loss: 1.2586e-04 - val_accuracy: 1.0000 - lr: 7.8125e-06\n",
      "Epoch 17/100\n",
      "13500/13500 [==============================] - 284s 21ms/step - loss: 1.1684e-04 - accuracy: 1.0000 - val_loss: 1.2597e-04 - val_accuracy: 1.0000 - lr: 7.8125e-06\n",
      "Epoch 18/100\n",
      "13500/13500 [==============================] - 265s 20ms/step - loss: 1.1371e-04 - accuracy: 1.0000 - val_loss: 1.2629e-04 - val_accuracy: 1.0000 - lr: 3.9063e-06\n",
      "Epoch 19/100\n",
      "13500/13500 [==============================] - 267s 20ms/step - loss: 1.1113e-04 - accuracy: 1.0000 - val_loss: 1.2617e-04 - val_accuracy: 1.0000 - lr: 3.9063e-06\n",
      "Loss: 0.0001\n",
      "Accuracy: 1.0000\n"
     ]
    }
   ],
   "source": [
    "early_stopping = EarlyStopping(monitor='val_loss', patience=3, restore_best_weights=True)\n",
    "reduce_lr = ReduceLROnPlateau(monitor='val_loss', factor=0.5, patience=2, min_lr=1e-6)\n",
    "\n",
    "history = model.fit(\n",
    "    X_train, y_train_encoded,\n",
    "    validation_split=0.2,\n",
    "    epochs=100,\n",
    "    batch_size=1024,\n",
    "    callbacks=[early_stopping, reduce_lr],\n",
    "    verbose=1\n",
    ")\n",
    "\n",
    "loss, accuracy = model.evaluate(X_test, y_test_encoded, verbose=0)\n",
    "print(f'Loss: {loss:.4f}')\n",
    "print(f'Accuracy: {accuracy:.4f}')"
   ],
   "metadata": {
    "collapsed": false,
    "ExecuteTime": {
     "end_time": "2024-12-30T09:53:28.421432200Z",
     "start_time": "2024-12-30T08:29:01.593196300Z"
    }
   }
  },
  {
   "cell_type": "code",
   "execution_count": 13,
   "outputs": [
    {
     "name": "stdout",
     "output_type": "stream",
     "text": [
      "Loss: 0.0001\n",
      "Accuracy: 1.0000\n",
      "134996/134996 [==============================] - 108s 793us/step\n"
     ]
    }
   ],
   "source": [
    "# 6. تقييم النموذج\n",
    "loss, accuracy = model.evaluate(X_test, y_test_encoded, verbose=0)\n",
    "print(f'Loss: {loss:.4f}')\n",
    "print(f'Accuracy: {accuracy:.4f}')\n",
    "\n",
    "# 7. طباعة تقرير التصنيف\n",
    "y_pred_probs = model.predict(X_test)\n",
    "y_pred = np.argmax(y_pred_probs, axis=1)\n",
    "y_true = np.argmax(y_test_encoded, axis=1)\n",
    "\n",
    "\n",
    "\n",
    "# 8. رسم منحنى التدريب\n"
   ],
   "metadata": {
    "collapsed": false,
    "ExecuteTime": {
     "end_time": "2024-12-30T09:57:24.607051900Z",
     "start_time": "2024-12-30T09:53:36.862288300Z"
    }
   }
  },
  {
   "cell_type": "code",
   "execution_count": 15,
   "outputs": [
    {
     "name": "stdout",
     "output_type": "stream",
     "text": [
      "134996/134996 [==============================] - 163s 1ms/step\n",
      "\n",
      "Classification Report:\n",
      "              precision    recall  f1-score   support\n",
      "\n",
      "           0       1.00      1.00      1.00   4319643\n",
      "           1       0.80      0.60      0.68       201\n",
      "\n",
      "    accuracy                           1.00   4319844\n",
      "   macro avg       0.90      0.80      0.84   4319844\n",
      "weighted avg       1.00      1.00      1.00   4319844\n",
      "\n"
     ]
    }
   ],
   "source": [
    "y_pred_probs = model.predict(X_test)\n",
    "y_pred = np.argmax(y_pred_probs, axis=1) # تحويل الاحتمالات إلى فئات متوقعة\n",
    "\n",
    "# **تعديل هنا: تحويل y_test إلى int**\n",
    "y_test = y_test.astype(int)\n",
    "\n",
    "\n",
    "print(\"\\nClassification Report:\")\n",
    "print(classification_report(y_test, y_pred))"
   ],
   "metadata": {
    "collapsed": false,
    "ExecuteTime": {
     "end_time": "2024-12-30T10:01:28.366707500Z",
     "start_time": "2024-12-30T09:58:25.207218700Z"
    }
   }
  },
  {
   "cell_type": "code",
   "execution_count": 2,
   "outputs": [
    {
     "ename": "NameError",
     "evalue": "name 'model' is not defined",
     "output_type": "error",
     "traceback": [
      "\u001B[1;31m---------------------------------------------------------------------------\u001B[0m",
      "\u001B[1;31mNameError\u001B[0m                                 Traceback (most recent call last)",
      "Cell \u001B[1;32mIn[2], line 1\u001B[0m\n\u001B[1;32m----> 1\u001B[0m y_pred_probs \u001B[38;5;241m=\u001B[39m \u001B[43mmodel\u001B[49m\u001B[38;5;241m.\u001B[39mpredict(X_test)\n\u001B[0;32m      2\u001B[0m y_pred \u001B[38;5;241m=\u001B[39m np\u001B[38;5;241m.\u001B[39margmax(y_pred_probs, axis\u001B[38;5;241m=\u001B[39m\u001B[38;5;241m1\u001B[39m) \u001B[38;5;66;03m# تحويل الاحتمالات إلى فئات متوقعة\u001B[39;00m\n\u001B[0;32m      4\u001B[0m \u001B[38;5;66;03m# **تعديل هنا: تحويل y_test إلى int**\u001B[39;00m\n",
      "\u001B[1;31mNameError\u001B[0m: name 'model' is not defined"
     ]
    }
   ],
   "source": [
    "y_pred_probs = model.predict(X_test)\n",
    "y_pred = np.argmax(y_pred_probs, axis=1)\n",
    "\n",
    "y_test = y_test.astype(int)\n"
   ],
   "metadata": {
    "collapsed": false,
    "ExecuteTime": {
     "end_time": "2025-01-01T23:29:04.818518700Z",
     "start_time": "2025-01-01T23:28:58.874194700Z"
    }
   }
  },
  {
   "cell_type": "code",
   "execution_count": 16,
   "outputs": [
    {
     "data": {
      "text/plain": "<Figure size 800x600 with 2 Axes>",
      "image/png": "[encoded data removed]"
     },
     "metadata": {},
     "output_type": "display_data"
    }
   ],
   "source": [
    "from sklearn.metrics import classification_report, confusion_matrix\n",
    "\n",
    "\n",
    "cm = confusion_matrix(y_test, y_pred)\n",
    "plt.figure(figsize=(8, 6))\n",
    "sns.heatmap(cm, annot=True, fmt='d', cmap='Blues',\n",
    "            xticklabels=np.unique(y_test), yticklabels=np.unique(y_test))\n",
    "plt.title('Confusion Matrix')\n",
    "plt.ylabel('True Label')\n",
    "plt.xlabel('Predicted Label')\n",
    "plt.show()"
   ],
   "metadata": {
    "collapsed": false,
    "ExecuteTime": {
     "end_time": "2024-12-30T10:01:28.813384700Z",
     "start_time": "2024-12-30T10:01:28.365198700Z"
    }
   }
  },
  {
   "cell_type": "code",
   "execution_count": 17,
   "outputs": [
    {
     "name": "stdout",
     "output_type": "stream",
     "text": [
      "134996/134996 [==============================] - 160s 1ms/step\n",
      "134996/134996 [==============================] - 284s 2ms/step\n",
      "134996/134996 [==============================] - 367s 3ms/step\n",
      "134996/134996 [==============================] - 218s 2ms/step\n",
      "134996/134996 [==============================] - 313s 2ms/step\n",
      "134996/134996 [==============================] - 156s 1ms/step\n",
      "134996/134996 [==============================] - 153s 1ms/step\n",
      "134996/134996 [==============================] - 183s 1ms/step\n",
      "134996/134996 [==============================] - 163s 1ms/step\n",
      "134996/134996 [==============================] - 173s 1ms/step\n"
     ]
    },
    {
     "data": {
      "text/plain": "5.555274332533237e-05"
     },
     "execution_count": 17,
     "metadata": {},
     "output_type": "execute_result"
    }
   ],
   "source": [
    "import time\n",
    "import numpy as np\n",
    "import pandas as pd\n",
    "from sklearn.preprocessing import StandardScaler\n",
    "\n",
    "\n",
    "def calculate_latency(model, X_test, iterations=10):\n",
    "    \"\"\"\n",
    "     Average Prediction Latency Per Sample.\n",
    "\n",
    "\n",
    "      Args:\n",
    "        model: Trained model with .predict method.\n",
    "        X_test: Test data.\n",
    "        iterations: Number of iterations to average latency over.\n",
    "      Returns:\n",
    "        average_latency_per_row: The average latency per row across all iterations\n",
    "    \"\"\"\n",
    "    total_latency = 0\n",
    "    num_rows = X_test.shape[0]\n",
    "\n",
    "    for _ in range(iterations):\n",
    "        start_time = time.time()\n",
    "\n",
    "        # Data Preparation (Dummy Preprocessing as example, replace with your processing pipeline)\n",
    "        X_test_prep = X_test.copy()  # This represents your preprocessing, you can scale as you did in your code if you want.\n",
    "\n",
    "        # Prediction step\n",
    "        model.predict(X_test_prep)\n",
    "\n",
    "        end_time = time.time()\n",
    "        total_latency += (end_time - start_time)\n",
    "\n",
    "    average_latency = total_latency / iterations\n",
    "    average_latency_per_row = average_latency / num_rows\n",
    "    return average_latency_per_row\n",
    "\n",
    "\n",
    "average_latency_cat = calculate_latency(model, X_test)\n",
    "average_latency_cat"
   ],
   "metadata": {
    "collapsed": false,
    "ExecuteTime": {
     "end_time": "2024-12-30T10:41:28.660596400Z",
     "start_time": "2024-12-30T10:01:28.813384700Z"
    }
   }
  },
  {
   "cell_type": "code",
   "execution_count": 18,
   "outputs": [
    {
     "name": "stdout",
     "output_type": "stream",
     "text": [
      "134996/134996 [==============================] - 163s 1ms/step\n",
      "Memory usage during prediction: 93.13 MB\n"
     ]
    }
   ],
   "source": [
    "import psutil\n",
    "import os\n",
    "import time\n",
    "\n",
    "\n",
    "def measure_prediction_memory_cost(model, X_test):\n",
    "    \"\"\"\n",
    "    Memory Usage During Prediction on Test Set (MB)\n",
    "\n",
    "    Args:\n",
    "      model: Trained model with .predict method.\n",
    "      X_test: Test data.\n",
    "    Returns:\n",
    "      memory_usage_mb: The increase in memory usage during the prediction, in MB.\n",
    "    \"\"\"\n",
    "\n",
    "    def get_memory_usage():\n",
    "        process = psutil.Process(os.getpid())\n",
    "        return process.memory_info().rss / (1024 ** 2)  # in MB\n",
    "\n",
    "    start_memory = get_memory_usage()\n",
    "    model.predict(X_test)\n",
    "    end_memory = get_memory_usage()\n",
    "\n",
    "    memory_usage_mb = end_memory - start_memory\n",
    "    return memory_usage_mb\n",
    "\n",
    "\n",
    "\n",
    "memory_cost = measure_prediction_memory_cost(model, X_test)\n",
    "print(f\"Memory usage during prediction: {memory_cost:.2f} MB\")"
   ],
   "metadata": {
    "collapsed": false,
    "ExecuteTime": {
     "end_time": "2024-12-30T10:45:27.969768700Z",
     "start_time": "2024-12-30T10:42:26.908720500Z"
    }
   }
  },
  {
   "cell_type": "code",
   "execution_count": 19,
   "outputs": [],
   "source": [
    "import psutil\n",
    "import os\n",
    "import time\n",
    "\n",
    "def measure_prediction_cpu_cost(model, X_test, duration=3):\n",
    "    \"\"\"\n",
    "    Average CPU Usage During Prediction on Test Set (%)\n",
    "    System CPU time during prediction on  Test Set (seconds)\n",
    "\n",
    "    Args:\n",
    "      model: Trained model with .predict method.\n",
    "      X_test: Test data.\n",
    "      duration : time in seconds to average cpu metrics over.\n",
    "    Returns:\n",
    "        cpu_percent: Average CPU usage percentage during prediction.\n",
    "        user_cpu_time: User CPU time in seconds during the prediction.\n",
    "        system_cpu_time: System CPU time in seconds during the prediction.\n",
    "    \"\"\"\n",
    "\n",
    "    def get_cpu_usage():\n",
    "      cpu_percent = psutil.cpu_percent()\n",
    "      cpu_times = psutil.cpu_times()\n",
    "      return cpu_percent, cpu_times.user, cpu_times.system\n",
    "\n",
    "    cpu_usage_list = []\n",
    "    user_cpu_time_list = []\n",
    "    system_cpu_time_list = []\n",
    "\n",
    "    start_time = time.time()\n",
    "    while time.time() - start_time <= duration:\n",
    "      cpu_percent, user_time, system_time = get_cpu_usage()\n",
    "      cpu_usage_list.append(cpu_percent)\n",
    "      user_cpu_time_list.append(user_time)\n",
    "      system_cpu_time_list.append(system_time)\n",
    "      time.sleep(0.1) # Check cpu every 0.1 second\n",
    "\n",
    "    start_cpu_percent, start_user_time, start_system_time = get_cpu_usage()\n",
    "\n",
    "    start_prediction_time = time.time()\n",
    "    model.predict(X_test)\n",
    "    end_prediction_time = time.time()\n",
    "\n",
    "    cpu_percent, end_user_time, end_system_time = get_cpu_usage()\n",
    "\n",
    "    total_user_time = end_user_time - start_user_time\n",
    "    total_system_time = end_system_time - start_system_time\n",
    "\n",
    "    return np.mean(cpu_usage_list), total_user_time, total_system_time\n",
    "\n",
    "\n"
   ],
   "metadata": {
    "collapsed": false,
    "ExecuteTime": {
     "end_time": "2024-12-30T10:49:01.634664Z",
     "start_time": "2024-12-30T10:49:01.616395200Z"
    }
   }
  },
  {
   "cell_type": "code",
   "execution_count": 21,
   "outputs": [
    {
     "name": "stdout",
     "output_type": "stream",
     "text": [
      "134996/134996 [==============================] - 164s 1ms/step\n",
      "Average CPU usage during prediction: 7.00%\n",
      "User CPU time during prediction: 99.52 seconds\n",
      "System CPU time during prediction: 58.36 seconds\n"
     ]
    }
   ],
   "source": [
    "cpu_percent, user_cpu_time, system_cpu_time = measure_prediction_cpu_cost(model, X_test)\n",
    "print(f\"Average CPU usage during prediction: {cpu_percent:.2f}%\")\n",
    "print(f\"User CPU time during prediction: {user_cpu_time:.2f} seconds\")\n",
    "print(f\"System CPU time during prediction: {system_cpu_time:.2f} seconds\")"
   ],
   "metadata": {
    "collapsed": false,
    "ExecuteTime": {
     "end_time": "2024-12-30T11:17:56.128609Z",
     "start_time": "2024-12-30T11:14:53.083421500Z"
    }
   }
  },
  {
   "cell_type": "code",
   "execution_count": 37,
   "outputs": [],
   "source": [],
   "metadata": {
    "collapsed": false,
    "ExecuteTime": {
     "end_time": "2024-12-30T19:15:35.455253100Z",
     "start_time": "2024-12-30T19:15:35.452235900Z"
    }
   }
  },
  {
   "cell_type": "code",
   "execution_count": 28,
   "outputs": [],
   "source": [
    "import time\n",
    "import numpy as np\n",
    "import matplotlib.pyplot as plt\n",
    "from sklearn.model_selection import train_test_split\n",
    "import pandas as pd\n",
    "import psutil\n",
    "import os\n",
    "\n",
    "def measure_prediction_scalability(model, X, y, test_size = 0.2, sizes = np.linspace(0.1, 1, 10), iterations = 3):\n",
    "    \"\"\"\n",
    "    Measures scalability\n",
    "\n",
    "    Args:\n",
    "      model: Trained model with .predict method.\n",
    "      X: Full Input dataframe.\n",
    "      y: Full labels of the dataframe.\n",
    "      test_size: size of the test set.\n",
    "      sizes: Fractions of test data to evaluate over.\n",
    "      iterations: Number of iterations to average over.\n",
    "    Returns:\n",
    "      sizes: Fraction of test data used in each run\n",
    "      prediction_times: time taken to do predictions with each fraction of test data\n",
    "    \"\"\"\n",
    "    prediction_times = []\n",
    "    X_train1, X_test1, y_train1, y_test1 = train_test_split(X, y, test_size=test_size, random_state=42)\n",
    "\n",
    "    for size in sizes:\n",
    "        subset_size = int(len(X_test1) * size)\n",
    "        X_test_subset = X_test1[:subset_size]\n",
    "\n",
    "\n",
    "        total_prediction_time = 0\n",
    "        for _ in range(iterations):\n",
    "             start_time = time.time()\n",
    "             model.predict(X_test_subset)\n",
    "             end_time = time.time()\n",
    "             total_prediction_time += (end_time-start_time)\n",
    "        prediction_time = total_prediction_time/iterations\n",
    "\n",
    "\n",
    "        prediction_times.append(prediction_time)\n",
    "\n",
    "    return sizes, prediction_times\n",
    "\n"
   ],
   "metadata": {
    "collapsed": false,
    "ExecuteTime": {
     "end_time": "2024-12-30T11:52:59.873085500Z",
     "start_time": "2024-12-30T11:52:59.850553900Z"
    }
   }
  },
  {
   "cell_type": "code",
   "execution_count": 30,
   "outputs": [
    {
     "name": "stdout",
     "output_type": "stream",
     "text": [
      "2700/2700 [==============================] - 4s 1ms/step\n",
      "2700/2700 [==============================] - 4s 1ms/step\n",
      "2700/2700 [==============================] - 4s 1ms/step\n",
      "5400/5400 [==============================] - 7s 1ms/step\n",
      "5400/5400 [==============================] - 8s 1ms/step\n",
      "5400/5400 [==============================] - 8s 1ms/step\n",
      "8100/8100 [==============================] - 11s 1ms/step\n",
      "8100/8100 [==============================] - 11s 1ms/step\n",
      "8100/8100 [==============================] - 12s 1ms/step\n",
      "10800/10800 [==============================] - 17s 2ms/step\n",
      "10800/10800 [==============================] - 16s 1ms/step\n",
      "10800/10800 [==============================] - 16s 1ms/step\n",
      "13500/13500 [==============================] - 19s 1ms/step\n",
      "13500/13500 [==============================] - 18s 1ms/step\n",
      "13500/13500 [==============================] - 18s 1ms/step\n",
      "16200/16200 [==============================] - 22s 1ms/step\n",
      "16200/16200 [==============================] - 22s 1ms/step\n",
      "16200/16200 [==============================] - 22s 1ms/step\n",
      "18900/18900 [==============================] - 26s 1ms/step\n",
      "18900/18900 [==============================] - 26s 1ms/step\n",
      "18900/18900 [==============================] - 26s 1ms/step\n",
      "21600/21600 [==============================] - 29s 1ms/step\n",
      "21600/21600 [==============================] - 29s 1ms/step\n",
      "21600/21600 [==============================] - 29s 1ms/step\n",
      "24300/24300 [==============================] - 32s 1ms/step\n",
      "24300/24300 [==============================] - 32s 1ms/step\n",
      "24300/24300 [==============================] - 32s 1ms/step\n",
      "27000/27000 [==============================] - 36s 1ms/step\n",
      "27000/27000 [==============================] - 37s 1ms/step\n",
      "27000/27000 [==============================] - 38s 1ms/step\n"
     ]
    },
    {
     "data": {
      "text/plain": "<Figure size 1000x600 with 1 Axes>",
      "image/png": "[encoded data removed]"
     },
     "metadata": {},
     "output_type": "display_data"
    }
   ],
   "source": [
    "sizes, prediction_times = measure_prediction_scalability(model, X_test, y_test)\n",
    "#\n",
    "plt.figure(figsize=(10, 6))\n",
    "plt.plot(sizes, prediction_times, label='Prediction Time')\n",
    "plt.xlabel('Fraction of Test Data')\n",
    "plt.ylabel('Time (seconds)')\n",
    "plt.title('Prediction Scalability Measurement')\n",
    "plt.legend()\n",
    "plt.grid(True)\n",
    "plt.show()"
   ],
   "metadata": {
    "collapsed": false,
    "ExecuteTime": {
     "end_time": "2024-12-30T12:32:56.396252Z",
     "start_time": "2024-12-30T12:21:49.598953Z"
    }
   }
  }
 ],
 "metadata": {
  "kernelspec": {
   "display_name": "Python 3",
   "language": "python",
   "name": "python3"
  },
  "language_info": {
   "codemirror_mode": {
    "name": "ipython",
    "version": 2
   },
   "file_extension": ".py",
   "mimetype": "text/x-python",
   "name": "python",
   "nbconvert_exporter": "python",
   "pygments_lexer": "ipython2",
   "version": "2.7.6"
  }
 },
 "nbformat": 4,
 "nbformat_minor": 0
}
