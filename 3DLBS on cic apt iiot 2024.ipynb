{
 "cells": [
  {
   "cell_type": "code",
   "execution_count": 1,
   "metadata": {
    "collapsed": true,
    "ExecuteTime": {
     "end_time": "2025-02-23T14:53:06.970373100Z",
     "start_time": "2025-02-23T14:53:01.292659600Z"
    }
   },
   "outputs": [
    {
     "name": "stderr",
     "output_type": "stream",
     "text": [
      "IProgress not found. Please update jupyter and ipywidgets. See https://ipywidgets.readthedocs.io/en/stable/user_install.html\n"
     ]
    }
   ],
   "source": [
    "import numpy as np\n",
    "import pandas as pd\n",
    "import matplotlib.pyplot as plt\n",
    "import seaborn as sns\n",
    "import glob\n",
    "import os\n",
    "import shap\n",
    "import scikitplot as skplt\n",
    "from mistune.plugins.math import math\n",
    "from pyspark.sql.functions import avg\n",
    "from sklearn.model_selection import train_test_split\n",
    "from sklearn.preprocessing import StandardScaler\n",
    "from sklearn.dummy import DummyClassifier\n",
    "from sklearn.linear_model import LogisticRegression\n",
    "from sklearn.ensemble import RandomForestClassifier\n",
    "from sklearn.metrics import classification_report, precision_recall_curve, average_precision_score\n",
    "from catboost import CatBoostClassifier\n",
    "from catboost import Pool\n",
    "\n",
    "from scipy.stats import spearmanr\n",
    "from scipy.cluster import hierarchy\n",
    "from collections import defaultdict\n",
    "\n",
    "from scipy.stats import ks_2samp\n",
    "from scipy.stats import describe\n",
    "from imblearn.over_sampling import SMOTENC\n",
    "from collections import Counter\n",
    "from IPython.display import display\n",
    "\n",
    "%matplotlib inline"
   ]
  },
  {
   "cell_type": "code",
   "execution_count": 2,
   "outputs": [],
   "source": [
    "dataset_base_path = r'E:\\PycharmProjects\\pythonProject1\\iiot2024'\n"
   ],
   "metadata": {
    "collapsed": false,
    "ExecuteTime": {
     "end_time": "2025-02-23T14:53:06.970373100Z",
     "start_time": "2025-02-23T14:53:06.964340200Z"
    }
   }
  },
  {
   "cell_type": "code",
   "execution_count": 3,
   "outputs": [],
   "source": [
    "types = {\n",
    "    'ts': 'float64',  # Timestamp, likely in float format\n",
    "    'flow_duration': 'float32',  # Same as original\n",
    "    'Header_Length': 'int64',  # Same as original 'header_length'\n",
    "    'Source IP': 'object',  # IP addresses as strings\n",
    "    'Destination IP': 'object',  # IP addresses as strings\n",
    "    'Source Port': 'int32',  # Ports can be stored as integers\n",
    "    'Destination Port': 'int32',  # Same as source port\n",
    "    'Protocol Type': 'int8',  # Assuming small integer range for protocol types\n",
    "    'Protocol_name': 'object',  # Protocol names as strings\n",
    "    'Duration': 'float32',  # Same as original 'duration'\n",
    "    'Rate': 'float32',  # Replacing 'rate'\n",
    "    'Srate': 'float32',  # Same as original 'srate'\n",
    "    'Drate': 'float32',  # Same as original 'drate'\n",
    "    'fin_flag_number': 'uint8',  # Same as original\n",
    "    'syn_flag_number': 'uint8',  # Same as original\n",
    "    'rst_flag_number': 'uint8',  # Same as original\n",
    "    'psh_flag_number': 'uint8',  # Same as original\n",
    "    'ack_flag_number': 'uint8',  # Same as original\n",
    "    'urg_flag_number': 'uint8',  # New, inferred from context\n",
    "    'ece_flag_number': 'uint8',  # Same as original\n",
    "    'cwr_flag_number': 'uint8',  # Same as original\n",
    "    'ack_count': 'float32',  # Same as original\n",
    "    'syn_count': 'float32',  # Same as original\n",
    "    'fin_count': 'float32',  # Same as original\n",
    "    'urg_count': 'float32',  # Same as original\n",
    "    'rst_count': 'float32',  # Same as original\n",
    "    'max_duration': 'float32',  # New field inferred from context\n",
    "    'min_duration': 'float32',  # New field inferred from context\n",
    "    'sum_duration': 'float32',  # New field inferred from context\n",
    "    'average_duration': 'float32',  # New field inferred from context\n",
    "    'std_duration': 'float32',  # New field inferred from context\n",
    "    'CoAP': 'uint8',  # New field, protocol flag\n",
    "    'HTTP': 'uint8',  # Protocol flag\n",
    "    'HTTPS': 'uint8',  # Protocol flag\n",
    "    'DNS': 'uint8',  # Protocol flag\n",
    "    'Telnet': 'uint8',  # Protocol flag\n",
    "    'SMTP': 'uint8',  # Protocol flag\n",
    "    'SSH': 'uint8',  # Protocol flag\n",
    "    'IRC': 'uint8',  # Protocol flag\n",
    "    'TCP': 'uint8',  # Protocol flag\n",
    "    'UDP': 'uint8',  # Protocol flag\n",
    "    'DHCP': 'uint8',  # Protocol flag\n",
    "    'ARP': 'uint8',  # Protocol flag\n",
    "    'ICMP': 'uint8',  # Protocol flag\n",
    "    'IGMP': 'uint8',  # Protocol flag\n",
    "    'IPv': 'uint8',  # Protocol flag\n",
    "    'LLC': 'uint8',  # Protocol flag\n",
    "    'Tot sum': 'float32',  # Replacing 'tot_sum'\n",
    "    'Min': 'float32',  # Replacing 'min'\n",
    "    'Max': 'float32',  # Replacing 'max'\n",
    "    'AVG': 'float32',  # Replacing 'avg'\n",
    "    'Std': 'float32',  # Replacing 'std'\n",
    "    'Tot size': 'float32',  # Replacing 'tot_size'\n",
    "    'IAT': 'float32',  # Replacing 'iat'\n",
    "    'Number': 'float32',  # Replacing 'number'\n",
    "    'MAC': 'object',  # Likely MAC address, stored as a string\n",
    "    'Magnitue': 'float32',  # Inferred from context\n",
    "    'Radius': 'float32',  # Same as original 'radius'\n",
    "    'Covariance': 'float32',  # Same as original 'covariance'\n",
    "    'Variance': 'float32',  # Same as original 'variance'\n",
    "    'Weight': 'float32',  # Same as original 'weight'\n",
    "    'DS status': 'uint8',  # New field, inferred from context\n",
    "    'Fragments': 'uint8',  # New field, inferred from context\n",
    "    'Sequence number': 'int64',  # New field, inferred from context\n",
    "    'Protocol Version': 'int8',  # New field, inferred from context\n",
    "    'flow_idle_time': 'float32',  # New field, inferred from context\n",
    "    'flow_active_time': 'float32',  # New field, inferred from context\n",
    "    'label': 'object',  # Same as original\n",
    "    'subLabel': 'object',  # New field, inferred from context\n",
    "    'subLabelCat': 'object'  # New field, inferred from context\n",
    "}\n",
    "\n",
    "def replace_infinity_with_mean(df):\n",
    "    modified_rows = 0\n",
    "    inf_columns = [c for c in df.columns if df[df[c] == np.inf][c].count() > 0]\n",
    "    for col in inf_columns:\n",
    "        modified_rows += df[df[col] == np.inf].shape[0]\n",
    "        df[col].replace([np.inf, -np.inf], np.nan, inplace=True)\n",
    "        mean = df[col].mean()\n",
    "        df[col].fillna(mean, inplace=True)\n",
    "    return df, modified_rows\n",
    "\n",
    "def replace_negative_values_with_mean(df):\n",
    "    modified_rows = 0\n",
    "    numeric_cols = df.select_dtypes(include=[np.number]).columns.values\n",
    "    columns = [c for c in numeric_cols if df[df[c] < 0][c].count() > 0]\n",
    "    for col in columns:\n",
    "        modified_rows += df[df[col] < 0].shape[0]\n",
    "        mask = df[col] < 0\n",
    "        df.loc[mask, col] = np.nan\n",
    "        mean = df[col].mean()\n",
    "        df[col].fillna(mean, inplace=True)\n",
    "    return df, modified_rows\n",
    "\n",
    "def load_dataset(files, dtypes, cols=None):\n",
    "    df = pd.concat((pd.read_csv(f, dtype=dtypes, usecols=cols) for f in files))\n",
    "\n",
    "    df, infinity_modified_rows = replace_infinity_with_mean(df)\n",
    "    df, negative_modified_rows = replace_negative_values_with_mean(df)\n",
    "\n",
    "    total_modified_rows = infinity_modified_rows + negative_modified_rows\n",
    "    print(f'عدد السطور المعدلة للقيم اللانهائية: {infinity_modified_rows}')\n",
    "    print(f'عدد السطور المعدلة للقيم السالبة: {negative_modified_rows}')\n",
    "    print(f'إجمالي عدد السطور المعدلة: {total_modified_rows}')\n",
    "\n",
    "    return df"
   ],
   "metadata": {
    "collapsed": false,
    "ExecuteTime": {
     "end_time": "2025-02-23T14:53:06.973384500Z",
     "start_time": "2025-02-23T14:53:06.970373100Z"
    }
   }
  },
  {
   "cell_type": "code",
   "execution_count": 4,
   "outputs": [
    {
     "name": "stdout",
     "output_type": "stream",
     "text": [
      "عدد السطور المعدلة للقيم اللانهائية: 0\n",
      "عدد السطور المعدلة للقيم السالبة: 0\n",
      "إجمالي عدد السطور المعدلة: 0\n"
     ]
    },
    {
     "data": {
      "text/plain": "                   ts  flow_duration  Header_Length      Source IP  \\\n0        1.701426e+09       0.000000             66  172.16.64.128   \n1        1.701426e+09       0.002112            132  172.16.64.128   \n2        1.701426e+09       0.002328            198  172.16.64.128   \n3        1.701426e+09       0.004329            264  172.16.64.128   \n4        1.701426e+09       0.009495            330  172.16.64.128   \n...               ...            ...            ...            ...   \n9536818  1.701550e+09       2.018212           5460  172.16.66.128   \n9536819  1.701550e+09       0.021296           1432  172.16.66.128   \n9536820  1.701550e+09       2.018227           5670  172.16.66.128   \n9536821  1.701550e+09       2.018277           5880  172.16.66.128   \n9536822  1.701550e+09       2.018348           6090  172.16.66.128   \n\n          Destination IP  Source Port  Destination Port  Protocol Type  \\\n0          172.16.66.128        41750               502              6   \n1          172.16.66.128        41750               502              6   \n2          172.16.66.128        41750               502              6   \n3          172.16.66.128        41750               502              6   \n4          172.16.66.128        41750               502              6   \n...                  ...          ...               ...            ...   \n9536818  239.255.255.250        41544              1900             17   \n9536819    172.16.64.128          502             55784              6   \n9536820  239.255.255.250        41544              1900             17   \n9536821  239.255.255.250        41544              1900             17   \n9536822  239.255.255.250        41544              1900             17   \n\n        Protocol_name  Duration  ...  Weight  DS status  Fragments  \\\n0                 TCP      64.0  ...     1.0          0          0   \n1                 TCP      64.0  ...     4.0          0          0   \n2                 TCP      64.0  ...     9.0          0          0   \n3                 TCP      64.0  ...    16.0          0          0   \n4                 TCP      64.0  ...    25.0          0          0   \n...               ...       ...  ...     ...        ...        ...   \n9536818           UDP       1.0  ...   100.0          0          0   \n9536819           TCP      64.0  ...   121.0          0          0   \n9536820           UDP       1.0  ...   144.0          0          0   \n9536821           UDP       1.0  ...   169.0          0          0   \n9536822           UDP       1.0  ...   196.0          0          0   \n\n         Sequence number  Protocol Version  flow_idle_time  flow_active_time  \\\n0                      0                 0    1.701426e+09          0.000000   \n1                      0                 0    2.112150e-03          0.002112   \n2                      0                 0    2.160072e-04          0.002328   \n3                      0                 0    2.001047e-03          0.004329   \n4                      0                 0    5.165815e-03          0.009495   \n...                  ...               ...             ...               ...   \n9536818                0                 0    2.312660e-05          2.018212   \n9536819                0                 0    2.112150e-03          0.021296   \n9536820                0                 0    1.478195e-05          2.018227   \n9536821                0                 0    5.006790e-05          2.018277   \n9536822                0                 0    7.104874e-05          2.018348   \n\n         label  subLabel  subLabelCat  \n0            0         0            0  \n1            0         0            0  \n2            0         0            0  \n3            0         0            0  \n4            0         0            0  \n...        ...       ...          ...  \n9536818      0         0            0  \n9536819      0         0            0  \n9536820      0         0            0  \n9536821      0         0            0  \n9536822      0         0            0  \n\n[21599219 rows x 70 columns]",
      "text/html": "<div>\n<style scoped>\n    .dataframe tbody tr th:only-of-type {\n        vertical-align: middle;\n    }\n\n    .dataframe tbody tr th {\n        vertical-align: top;\n    }\n\n    .dataframe thead th {\n        text-align: right;\n    }\n</style>\n<table border=\"1\" class=\"dataframe\">\n  <thead>\n    <tr style=\"text-align: right;\">\n      <th></th>\n      <th>ts</th>\n      <th>flow_duration</th>\n      <th>Header_Length</th>\n      <th>Source IP</th>\n      <th>Destination IP</th>\n      <th>Source Port</th>\n      <th>Destination Port</th>\n      <th>Protocol Type</th>\n      <th>Protocol_name</th>\n      <th>Duration</th>\n      <th>...</th>\n      <th>Weight</th>\n      <th>DS status</th>\n      <th>Fragments</th>\n      <th>Sequence number</th>\n      <th>Protocol Version</th>\n      <th>flow_idle_time</th>\n      <th>flow_active_time</th>\n      <th>label</th>\n      <th>subLabel</th>\n      <th>subLabelCat</th>\n    </tr>\n  </thead>\n  <tbody>\n    <tr>\n      <th>0</th>\n      <td>1.701426e+09</td>\n      <td>0.000000</td>\n      <td>66</td>\n      <td>172.16.64.128</td>\n      <td>172.16.66.128</td>\n      <td>41750</td>\n      <td>502</td>\n      <td>6</td>\n      <td>TCP</td>\n      <td>64.0</td>\n      <td>...</td>\n      <td>1.0</td>\n      <td>0</td>\n      <td>0</td>\n      <td>0</td>\n      <td>0</td>\n      <td>1.701426e+09</td>\n      <td>0.000000</td>\n      <td>0</td>\n      <td>0</td>\n      <td>0</td>\n    </tr>\n    <tr>\n      <th>1</th>\n      <td>1.701426e+09</td>\n      <td>0.002112</td>\n      <td>132</td>\n      <td>172.16.64.128</td>\n      <td>172.16.66.128</td>\n      <td>41750</td>\n      <td>502</td>\n      <td>6</td>\n      <td>TCP</td>\n      <td>64.0</td>\n      <td>...</td>\n      <td>4.0</td>\n      <td>0</td>\n      <td>0</td>\n      <td>0</td>\n      <td>0</td>\n      <td>2.112150e-03</td>\n      <td>0.002112</td>\n      <td>0</td>\n      <td>0</td>\n      <td>0</td>\n    </tr>\n    <tr>\n      <th>2</th>\n      <td>1.701426e+09</td>\n      <td>0.002328</td>\n      <td>198</td>\n      <td>172.16.64.128</td>\n      <td>172.16.66.128</td>\n      <td>41750</td>\n      <td>502</td>\n      <td>6</td>\n      <td>TCP</td>\n      <td>64.0</td>\n      <td>...</td>\n      <td>9.0</td>\n      <td>0</td>\n      <td>0</td>\n      <td>0</td>\n      <td>0</td>\n      <td>2.160072e-04</td>\n      <td>0.002328</td>\n      <td>0</td>\n      <td>0</td>\n      <td>0</td>\n    </tr>\n    <tr>\n      <th>3</th>\n      <td>1.701426e+09</td>\n      <td>0.004329</td>\n      <td>264</td>\n      <td>172.16.64.128</td>\n      <td>172.16.66.128</td>\n      <td>41750</td>\n      <td>502</td>\n      <td>6</td>\n      <td>TCP</td>\n      <td>64.0</td>\n      <td>...</td>\n      <td>16.0</td>\n      <td>0</td>\n      <td>0</td>\n      <td>0</td>\n      <td>0</td>\n      <td>2.001047e-03</td>\n      <td>0.004329</td>\n      <td>0</td>\n      <td>0</td>\n      <td>0</td>\n    </tr>\n    <tr>\n      <th>4</th>\n      <td>1.701426e+09</td>\n      <td>0.009495</td>\n      <td>330</td>\n      <td>172.16.64.128</td>\n      <td>172.16.66.128</td>\n      <td>41750</td>\n      <td>502</td>\n      <td>6</td>\n      <td>TCP</td>\n      <td>64.0</td>\n      <td>...</td>\n      <td>25.0</td>\n      <td>0</td>\n      <td>0</td>\n      <td>0</td>\n      <td>0</td>\n      <td>5.165815e-03</td>\n      <td>0.009495</td>\n      <td>0</td>\n      <td>0</td>\n      <td>0</td>\n    </tr>\n    <tr>\n      <th>...</th>\n      <td>...</td>\n      <td>...</td>\n      <td>...</td>\n      <td>...</td>\n      <td>...</td>\n      <td>...</td>\n      <td>...</td>\n      <td>...</td>\n      <td>...</td>\n      <td>...</td>\n      <td>...</td>\n      <td>...</td>\n      <td>...</td>\n      <td>...</td>\n      <td>...</td>\n      <td>...</td>\n      <td>...</td>\n      <td>...</td>\n      <td>...</td>\n      <td>...</td>\n      <td>...</td>\n    </tr>\n    <tr>\n      <th>9536818</th>\n      <td>1.701550e+09</td>\n      <td>2.018212</td>\n      <td>5460</td>\n      <td>172.16.66.128</td>\n      <td>239.255.255.250</td>\n      <td>41544</td>\n      <td>1900</td>\n      <td>17</td>\n      <td>UDP</td>\n      <td>1.0</td>\n      <td>...</td>\n      <td>100.0</td>\n      <td>0</td>\n      <td>0</td>\n      <td>0</td>\n      <td>0</td>\n      <td>2.312660e-05</td>\n      <td>2.018212</td>\n      <td>0</td>\n      <td>0</td>\n      <td>0</td>\n    </tr>\n    <tr>\n      <th>9536819</th>\n      <td>1.701550e+09</td>\n      <td>0.021296</td>\n      <td>1432</td>\n      <td>172.16.66.128</td>\n      <td>172.16.64.128</td>\n      <td>502</td>\n      <td>55784</td>\n      <td>6</td>\n      <td>TCP</td>\n      <td>64.0</td>\n      <td>...</td>\n      <td>121.0</td>\n      <td>0</td>\n      <td>0</td>\n      <td>0</td>\n      <td>0</td>\n      <td>2.112150e-03</td>\n      <td>0.021296</td>\n      <td>0</td>\n      <td>0</td>\n      <td>0</td>\n    </tr>\n    <tr>\n      <th>9536820</th>\n      <td>1.701550e+09</td>\n      <td>2.018227</td>\n      <td>5670</td>\n      <td>172.16.66.128</td>\n      <td>239.255.255.250</td>\n      <td>41544</td>\n      <td>1900</td>\n      <td>17</td>\n      <td>UDP</td>\n      <td>1.0</td>\n      <td>...</td>\n      <td>144.0</td>\n      <td>0</td>\n      <td>0</td>\n      <td>0</td>\n      <td>0</td>\n      <td>1.478195e-05</td>\n      <td>2.018227</td>\n      <td>0</td>\n      <td>0</td>\n      <td>0</td>\n    </tr>\n    <tr>\n      <th>9536821</th>\n      <td>1.701550e+09</td>\n      <td>2.018277</td>\n      <td>5880</td>\n      <td>172.16.66.128</td>\n      <td>239.255.255.250</td>\n      <td>41544</td>\n      <td>1900</td>\n      <td>17</td>\n      <td>UDP</td>\n      <td>1.0</td>\n      <td>...</td>\n      <td>169.0</td>\n      <td>0</td>\n      <td>0</td>\n      <td>0</td>\n      <td>0</td>\n      <td>5.006790e-05</td>\n      <td>2.018277</td>\n      <td>0</td>\n      <td>0</td>\n      <td>0</td>\n    </tr>\n    <tr>\n      <th>9536822</th>\n      <td>1.701550e+09</td>\n      <td>2.018348</td>\n      <td>6090</td>\n      <td>172.16.66.128</td>\n      <td>239.255.255.250</td>\n      <td>41544</td>\n      <td>1900</td>\n      <td>17</td>\n      <td>UDP</td>\n      <td>1.0</td>\n      <td>...</td>\n      <td>196.0</td>\n      <td>0</td>\n      <td>0</td>\n      <td>0</td>\n      <td>0</td>\n      <td>7.104874e-05</td>\n      <td>2.018348</td>\n      <td>0</td>\n      <td>0</td>\n      <td>0</td>\n    </tr>\n  </tbody>\n</table>\n<p>21599219 rows × 70 columns</p>\n</div>"
     },
     "execution_count": 4,
     "metadata": {},
     "output_type": "execute_result"
    }
   ],
   "source": [
    "csv_files = glob.glob(os.path.join(dataset_base_path, '*.csv'))\n",
    "\n",
    "df = load_dataset(csv_files, types)\n",
    "df"
   ],
   "metadata": {
    "collapsed": false,
    "ExecuteTime": {
     "end_time": "2025-02-23T14:55:15.345578900Z",
     "start_time": "2025-02-23T14:53:06.974889400Z"
    }
   }
  },
  {
   "cell_type": "code",
   "execution_count": 5,
   "outputs": [
    {
     "name": "stdout",
     "output_type": "stream",
     "text": [
      "                   ts  flow_duration  Header_Length      Source IP  \\\n",
      "0        1.701426e+09       0.000000             66  172.16.64.128   \n",
      "1        1.701426e+09       0.002112            132  172.16.64.128   \n",
      "2        1.701426e+09       0.002328            198  172.16.64.128   \n",
      "3        1.701426e+09       0.004329            264  172.16.64.128   \n",
      "4        1.701426e+09       0.009495            330  172.16.64.128   \n",
      "...               ...            ...            ...            ...   \n",
      "9536818  1.701550e+09       2.018212           5460  172.16.66.128   \n",
      "9536819  1.701550e+09       0.021296           1432  172.16.66.128   \n",
      "9536820  1.701550e+09       2.018227           5670  172.16.66.128   \n",
      "9536821  1.701550e+09       2.018277           5880  172.16.66.128   \n",
      "9536822  1.701550e+09       2.018348           6090  172.16.66.128   \n",
      "\n",
      "          Destination IP  Source Port  Destination Port  Protocol Type  \\\n",
      "0          172.16.66.128        41750               502              6   \n",
      "1          172.16.66.128        41750               502              6   \n",
      "2          172.16.66.128        41750               502              6   \n",
      "3          172.16.66.128        41750               502              6   \n",
      "4          172.16.66.128        41750               502              6   \n",
      "...                  ...          ...               ...            ...   \n",
      "9536818  239.255.255.250        41544              1900             17   \n",
      "9536819    172.16.64.128          502             55784              6   \n",
      "9536820  239.255.255.250        41544              1900             17   \n",
      "9536821  239.255.255.250        41544              1900             17   \n",
      "9536822  239.255.255.250        41544              1900             17   \n",
      "\n",
      "        Protocol_name  Duration  ...  Fragments  Sequence number  \\\n",
      "0                 TCP      64.0  ...          0                0   \n",
      "1                 TCP      64.0  ...          0                0   \n",
      "2                 TCP      64.0  ...          0                0   \n",
      "3                 TCP      64.0  ...          0                0   \n",
      "4                 TCP      64.0  ...          0                0   \n",
      "...               ...       ...  ...        ...              ...   \n",
      "9536818           UDP       1.0  ...          0                0   \n",
      "9536819           TCP      64.0  ...          0                0   \n",
      "9536820           UDP       1.0  ...          0                0   \n",
      "9536821           UDP       1.0  ...          0                0   \n",
      "9536822           UDP       1.0  ...          0                0   \n",
      "\n",
      "         Protocol Version  flow_idle_time  flow_active_time  label  subLabel  \\\n",
      "0                       0    1.701426e+09          0.000000      0         0   \n",
      "1                       0    2.112150e-03          0.002112      0         0   \n",
      "2                       0    2.160072e-04          0.002328      0         0   \n",
      "3                       0    2.001047e-03          0.004329      0         0   \n",
      "4                       0    5.165815e-03          0.009495      0         0   \n",
      "...                   ...             ...               ...    ...       ...   \n",
      "9536818                 0    2.312660e-05          2.018212      0         0   \n",
      "9536819                 0    2.112150e-03          0.021296      0         0   \n",
      "9536820                 0    1.478195e-05          2.018227      0         0   \n",
      "9536821                 0    5.006790e-05          2.018277      0         0   \n",
      "9536822                 0    7.104874e-05          2.018348      0         0   \n",
      "\n",
      "         subLabelCat  Source IP (int)  Destination IP (int)  \n",
      "0                  0       2886746240            2886746752  \n",
      "1                  0       2886746240            2886746752  \n",
      "2                  0       2886746240            2886746752  \n",
      "3                  0       2886746240            2886746752  \n",
      "4                  0       2886746240            2886746752  \n",
      "...              ...              ...                   ...  \n",
      "9536818            0       2886746752            4026531834  \n",
      "9536819            0       2886746752            2886746240  \n",
      "9536820            0       2886746752            4026531834  \n",
      "9536821            0       2886746752            4026531834  \n",
      "9536822            0       2886746752            4026531834  \n",
      "\n",
      "[21599219 rows x 72 columns]\n"
     ]
    }
   ],
   "source": [
    "import socket\n",
    "import struct\n",
    "import pandas as pd\n",
    "\n",
    "def ip_to_int(ip_address):\n",
    "    try:\n",
    "        return struct.unpack(\"!I\", socket.inet_aton(ip_address))[0]\n",
    "    except socket.error:\n",
    "        return None\n",
    "\n",
    "\n",
    "\n",
    "df['Source IP (int)'] = df['Source IP'].apply(ip_to_int)\n",
    "df['Destination IP (int)'] = df['Destination IP'].apply(ip_to_int)\n",
    "\n",
    "print(df)\n"
   ],
   "metadata": {
    "collapsed": false,
    "ExecuteTime": {
     "end_time": "2025-02-23T14:55:30.618320400Z",
     "start_time": "2025-02-23T14:55:15.393942300Z"
    }
   }
  },
  {
   "cell_type": "code",
   "execution_count": 6,
   "outputs": [],
   "source": [
    "X = df.drop(columns=['label','subLabel','subLabelCat','Source IP','Destination IP','Protocol_name'])\n",
    "y = df[['label']]"
   ],
   "metadata": {
    "collapsed": false,
    "ExecuteTime": {
     "end_time": "2025-02-23T14:55:31.726199700Z",
     "start_time": "2025-02-23T14:55:30.621335300Z"
    }
   }
  },
  {
   "cell_type": "markdown",
   "source": [],
   "metadata": {
    "collapsed": false
   }
  },
  {
   "cell_type": "code",
   "execution_count": 7,
   "outputs": [
    {
     "data": {
      "text/plain": "                   ts  flow_duration  Header_Length  Source Port  \\\n0        1.701426e+09       0.000000             66        41750   \n1        1.701426e+09       0.002112            132        41750   \n2        1.701426e+09       0.002328            198        41750   \n3        1.701426e+09       0.004329            264        41750   \n4        1.701426e+09       0.009495            330        41750   \n...               ...            ...            ...          ...   \n9536818  1.701550e+09       2.018212           5460        41544   \n9536819  1.701550e+09       0.021296           1432          502   \n9536820  1.701550e+09       2.018227           5670        41544   \n9536821  1.701550e+09       2.018277           5880        41544   \n9536822  1.701550e+09       2.018348           6090        41544   \n\n         Destination Port  Protocol Type  Duration         Rate        Srate  \\\n0                     502              6      64.0     0.000000     0.000000   \n1                     502              6      64.0   946.902344   946.902344   \n2                     502              6      64.0  1288.572632  1288.572632   \n3                     502              6      64.0   923.957275   923.957275   \n4                     502              6      64.0   526.591858   526.591858   \n...                   ...            ...       ...          ...          ...   \n9536818              1900             17       1.0    12.882689    12.882689   \n9536819             55784              6      64.0   939.142456   939.142456   \n9536820              1900             17       1.0    13.378079    13.378079   \n9536821              1900             17       1.0    13.873220    13.873220   \n9536822              1900             17       1.0    14.368186    14.368186   \n\n         Drate  ...  Variance  Weight  DS status  Fragments  Sequence number  \\\n0          0.0  ...       0.0     1.0          0          0                0   \n1          0.0  ...       0.0     4.0          0          0                0   \n2          0.0  ...       0.0     9.0          0          0                0   \n3          0.0  ...       0.0    16.0          0          0                0   \n4          0.0  ...       0.0    25.0          0          0                0   \n...        ...  ...       ...     ...        ...        ...              ...   \n9536818    0.0  ...       1.0   100.0          0          0                0   \n9536819    0.0  ...       1.0   121.0          0          0                0   \n9536820    0.0  ...       1.0   144.0          0          0                0   \n9536821    0.0  ...       1.0   169.0          0          0                0   \n9536822    0.0  ...       1.0   196.0          0          0                0   \n\n         Protocol Version  flow_idle_time  flow_active_time  Source IP (int)  \\\n0                       0    1.701426e+09          0.000000       2886746240   \n1                       0    2.112150e-03          0.002112       2886746240   \n2                       0    2.160072e-04          0.002328       2886746240   \n3                       0    2.001047e-03          0.004329       2886746240   \n4                       0    5.165815e-03          0.009495       2886746240   \n...                   ...             ...               ...              ...   \n9536818                 0    2.312660e-05          2.018212       2886746752   \n9536819                 0    2.112150e-03          0.021296       2886746752   \n9536820                 0    1.478195e-05          2.018227       2886746752   \n9536821                 0    5.006790e-05          2.018277       2886746752   \n9536822                 0    7.104874e-05          2.018348       2886746752   \n\n         Destination IP (int)  \n0                  2886746752  \n1                  2886746752  \n2                  2886746752  \n3                  2886746752  \n4                  2886746752  \n...                       ...  \n9536818            4026531834  \n9536819            2886746240  \n9536820            4026531834  \n9536821            4026531834  \n9536822            4026531834  \n\n[21599219 rows x 66 columns]",
      "text/html": "<div>\n<style scoped>\n    .dataframe tbody tr th:only-of-type {\n        vertical-align: middle;\n    }\n\n    .dataframe tbody tr th {\n        vertical-align: top;\n    }\n\n    .dataframe thead th {\n        text-align: right;\n    }\n</style>\n<table border=\"1\" class=\"dataframe\">\n  <thead>\n    <tr style=\"text-align: right;\">\n      <th></th>\n      <th>ts</th>\n      <th>flow_duration</th>\n      <th>Header_Length</th>\n      <th>Source Port</th>\n      <th>Destination Port</th>\n      <th>Protocol Type</th>\n      <th>Duration</th>\n      <th>Rate</th>\n      <th>Srate</th>\n      <th>Drate</th>\n      <th>...</th>\n      <th>Variance</th>\n      <th>Weight</th>\n      <th>DS status</th>\n      <th>Fragments</th>\n      <th>Sequence number</th>\n      <th>Protocol Version</th>\n      <th>flow_idle_time</th>\n      <th>flow_active_time</th>\n      <th>Source IP (int)</th>\n      <th>Destination IP (int)</th>\n    </tr>\n  </thead>\n  <tbody>\n    <tr>\n      <th>0</th>\n      <td>1.701426e+09</td>\n      <td>0.000000</td>\n      <td>66</td>\n      <td>41750</td>\n      <td>502</td>\n      <td>6</td>\n      <td>64.0</td>\n      <td>0.000000</td>\n      <td>0.000000</td>\n      <td>0.0</td>\n      <td>...</td>\n      <td>0.0</td>\n      <td>1.0</td>\n      <td>0</td>\n      <td>0</td>\n      <td>0</td>\n      <td>0</td>\n      <td>1.701426e+09</td>\n      <td>0.000000</td>\n      <td>2886746240</td>\n      <td>2886746752</td>\n    </tr>\n    <tr>\n      <th>1</th>\n      <td>1.701426e+09</td>\n      <td>0.002112</td>\n      <td>132</td>\n      <td>41750</td>\n      <td>502</td>\n      <td>6</td>\n      <td>64.0</td>\n      <td>946.902344</td>\n      <td>946.902344</td>\n      <td>0.0</td>\n      <td>...</td>\n      <td>0.0</td>\n      <td>4.0</td>\n      <td>0</td>\n      <td>0</td>\n      <td>0</td>\n      <td>0</td>\n      <td>2.112150e-03</td>\n      <td>0.002112</td>\n      <td>2886746240</td>\n      <td>2886746752</td>\n    </tr>\n    <tr>\n      <th>2</th>\n      <td>1.701426e+09</td>\n      <td>0.002328</td>\n      <td>198</td>\n      <td>41750</td>\n      <td>502</td>\n      <td>6</td>\n      <td>64.0</td>\n      <td>1288.572632</td>\n      <td>1288.572632</td>\n      <td>0.0</td>\n      <td>...</td>\n      <td>0.0</td>\n      <td>9.0</td>\n      <td>0</td>\n      <td>0</td>\n      <td>0</td>\n      <td>0</td>\n      <td>2.160072e-04</td>\n      <td>0.002328</td>\n      <td>2886746240</td>\n      <td>2886746752</td>\n    </tr>\n    <tr>\n      <th>3</th>\n      <td>1.701426e+09</td>\n      <td>0.004329</td>\n      <td>264</td>\n      <td>41750</td>\n      <td>502</td>\n      <td>6</td>\n      <td>64.0</td>\n      <td>923.957275</td>\n      <td>923.957275</td>\n      <td>0.0</td>\n      <td>...</td>\n      <td>0.0</td>\n      <td>16.0</td>\n      <td>0</td>\n      <td>0</td>\n      <td>0</td>\n      <td>0</td>\n      <td>2.001047e-03</td>\n      <td>0.004329</td>\n      <td>2886746240</td>\n      <td>2886746752</td>\n    </tr>\n    <tr>\n      <th>4</th>\n      <td>1.701426e+09</td>\n      <td>0.009495</td>\n      <td>330</td>\n      <td>41750</td>\n      <td>502</td>\n      <td>6</td>\n      <td>64.0</td>\n      <td>526.591858</td>\n      <td>526.591858</td>\n      <td>0.0</td>\n      <td>...</td>\n      <td>0.0</td>\n      <td>25.0</td>\n      <td>0</td>\n      <td>0</td>\n      <td>0</td>\n      <td>0</td>\n      <td>5.165815e-03</td>\n      <td>0.009495</td>\n      <td>2886746240</td>\n      <td>2886746752</td>\n    </tr>\n    <tr>\n      <th>...</th>\n      <td>...</td>\n      <td>...</td>\n      <td>...</td>\n      <td>...</td>\n      <td>...</td>\n      <td>...</td>\n      <td>...</td>\n      <td>...</td>\n      <td>...</td>\n      <td>...</td>\n      <td>...</td>\n      <td>...</td>\n      <td>...</td>\n      <td>...</td>\n      <td>...</td>\n      <td>...</td>\n      <td>...</td>\n      <td>...</td>\n      <td>...</td>\n      <td>...</td>\n      <td>...</td>\n    </tr>\n    <tr>\n      <th>9536818</th>\n      <td>1.701550e+09</td>\n      <td>2.018212</td>\n      <td>5460</td>\n      <td>41544</td>\n      <td>1900</td>\n      <td>17</td>\n      <td>1.0</td>\n      <td>12.882689</td>\n      <td>12.882689</td>\n      <td>0.0</td>\n      <td>...</td>\n      <td>1.0</td>\n      <td>100.0</td>\n      <td>0</td>\n      <td>0</td>\n      <td>0</td>\n      <td>0</td>\n      <td>2.312660e-05</td>\n      <td>2.018212</td>\n      <td>2886746752</td>\n      <td>4026531834</td>\n    </tr>\n    <tr>\n      <th>9536819</th>\n      <td>1.701550e+09</td>\n      <td>0.021296</td>\n      <td>1432</td>\n      <td>502</td>\n      <td>55784</td>\n      <td>6</td>\n      <td>64.0</td>\n      <td>939.142456</td>\n      <td>939.142456</td>\n      <td>0.0</td>\n      <td>...</td>\n      <td>1.0</td>\n      <td>121.0</td>\n      <td>0</td>\n      <td>0</td>\n      <td>0</td>\n      <td>0</td>\n      <td>2.112150e-03</td>\n      <td>0.021296</td>\n      <td>2886746752</td>\n      <td>2886746240</td>\n    </tr>\n    <tr>\n      <th>9536820</th>\n      <td>1.701550e+09</td>\n      <td>2.018227</td>\n      <td>5670</td>\n      <td>41544</td>\n      <td>1900</td>\n      <td>17</td>\n      <td>1.0</td>\n      <td>13.378079</td>\n      <td>13.378079</td>\n      <td>0.0</td>\n      <td>...</td>\n      <td>1.0</td>\n      <td>144.0</td>\n      <td>0</td>\n      <td>0</td>\n      <td>0</td>\n      <td>0</td>\n      <td>1.478195e-05</td>\n      <td>2.018227</td>\n      <td>2886746752</td>\n      <td>4026531834</td>\n    </tr>\n    <tr>\n      <th>9536821</th>\n      <td>1.701550e+09</td>\n      <td>2.018277</td>\n      <td>5880</td>\n      <td>41544</td>\n      <td>1900</td>\n      <td>17</td>\n      <td>1.0</td>\n      <td>13.873220</td>\n      <td>13.873220</td>\n      <td>0.0</td>\n      <td>...</td>\n      <td>1.0</td>\n      <td>169.0</td>\n      <td>0</td>\n      <td>0</td>\n      <td>0</td>\n      <td>0</td>\n      <td>5.006790e-05</td>\n      <td>2.018277</td>\n      <td>2886746752</td>\n      <td>4026531834</td>\n    </tr>\n    <tr>\n      <th>9536822</th>\n      <td>1.701550e+09</td>\n      <td>2.018348</td>\n      <td>6090</td>\n      <td>41544</td>\n      <td>1900</td>\n      <td>17</td>\n      <td>1.0</td>\n      <td>14.368186</td>\n      <td>14.368186</td>\n      <td>0.0</td>\n      <td>...</td>\n      <td>1.0</td>\n      <td>196.0</td>\n      <td>0</td>\n      <td>0</td>\n      <td>0</td>\n      <td>0</td>\n      <td>7.104874e-05</td>\n      <td>2.018348</td>\n      <td>2886746752</td>\n      <td>4026531834</td>\n    </tr>\n  </tbody>\n</table>\n<p>21599219 rows × 66 columns</p>\n</div>"
     },
     "execution_count": 7,
     "metadata": {},
     "output_type": "execute_result"
    }
   ],
   "source": [
    "X"
   ],
   "metadata": {
    "collapsed": false,
    "ExecuteTime": {
     "end_time": "2025-02-23T14:55:34.364304500Z",
     "start_time": "2025-02-23T14:55:31.726199700Z"
    }
   }
  },
  {
   "cell_type": "code",
   "execution_count": 8,
   "outputs": [
    {
     "data": {
      "text/plain": "label\n0    21598215\n1        1004\nName: count, dtype: int64"
     },
     "execution_count": 8,
     "metadata": {},
     "output_type": "execute_result"
    }
   ],
   "source": [
    "y.label.value_counts()"
   ],
   "metadata": {
    "collapsed": false,
    "ExecuteTime": {
     "end_time": "2025-02-23T14:55:34.778028500Z",
     "start_time": "2025-02-23T14:55:34.376887Z"
    }
   }
  },
  {
   "cell_type": "code",
   "execution_count": 9,
   "outputs": [
    {
     "data": {
      "text/plain": "        label\n0           0\n1           0\n2           0\n3           0\n4           0\n...       ...\n9536818     0\n9536819     0\n9536820     0\n9536821     0\n9536822     0\n\n[21599219 rows x 1 columns]",
      "text/html": "<div>\n<style scoped>\n    .dataframe tbody tr th:only-of-type {\n        vertical-align: middle;\n    }\n\n    .dataframe tbody tr th {\n        vertical-align: top;\n    }\n\n    .dataframe thead th {\n        text-align: right;\n    }\n</style>\n<table border=\"1\" class=\"dataframe\">\n  <thead>\n    <tr style=\"text-align: right;\">\n      <th></th>\n      <th>label</th>\n    </tr>\n  </thead>\n  <tbody>\n    <tr>\n      <th>0</th>\n      <td>0</td>\n    </tr>\n    <tr>\n      <th>1</th>\n      <td>0</td>\n    </tr>\n    <tr>\n      <th>2</th>\n      <td>0</td>\n    </tr>\n    <tr>\n      <th>3</th>\n      <td>0</td>\n    </tr>\n    <tr>\n      <th>4</th>\n      <td>0</td>\n    </tr>\n    <tr>\n      <th>...</th>\n      <td>...</td>\n    </tr>\n    <tr>\n      <th>9536818</th>\n      <td>0</td>\n    </tr>\n    <tr>\n      <th>9536819</th>\n      <td>0</td>\n    </tr>\n    <tr>\n      <th>9536820</th>\n      <td>0</td>\n    </tr>\n    <tr>\n      <th>9536821</th>\n      <td>0</td>\n    </tr>\n    <tr>\n      <th>9536822</th>\n      <td>0</td>\n    </tr>\n  </tbody>\n</table>\n<p>21599219 rows × 1 columns</p>\n</div>"
     },
     "execution_count": 9,
     "metadata": {},
     "output_type": "execute_result"
    }
   ],
   "source": [
    "y"
   ],
   "metadata": {
    "collapsed": false,
    "ExecuteTime": {
     "end_time": "2025-02-23T14:55:34.784563300Z",
     "start_time": "2025-02-23T14:55:34.776523100Z"
    }
   }
  },
  {
   "cell_type": "markdown",
   "source": [],
   "metadata": {
    "collapsed": false
   }
  },
  {
   "cell_type": "code",
   "execution_count": 10,
   "outputs": [
    {
     "name": "stdout",
     "output_type": "stream",
     "text": [
      "Remaining amount of features: 33\n"
     ]
    }
   ],
   "source": [
    "selected_features = [\n",
    "    'ts', 'flow_duration', 'Source Port', 'Destination Port', 'Protocol Type', 'Duration', 'Rate',\n",
    "    'fin_flag_number', 'syn_flag_number', 'rst_flag_number', 'psh_flag_number', 'ack_flag_number',\n",
    "    'syn_count', 'urg_count', 'HTTP', 'HTTPS', 'DNS', 'SSH', 'TCP', 'ARP', 'ICMP', 'IGMP', 'IPv',\n",
    "    'Tot sum', 'Min', 'Max', 'AVG', 'Std', 'Tot size', 'IAT', 'Variance', 'Source IP (int)', 'Destination IP (int)'\n",
    "]\n",
    "X = X[selected_features]\n",
    "print(f\"Remaining amount of features: {len(X.columns)}\")"
   ],
   "metadata": {
    "collapsed": false,
    "ExecuteTime": {
     "end_time": "2025-02-23T14:55:35.365081500Z",
     "start_time": "2025-02-23T14:55:34.787586800Z"
    }
   }
  },
  {
   "cell_type": "markdown",
   "source": [],
   "metadata": {
    "collapsed": false
   }
  },
  {
   "cell_type": "code",
   "execution_count": 12,
   "outputs": [
    {
     "name": "stderr",
     "output_type": "stream",
     "text": [
      "A column-vector y was passed when a 1d array was expected. Please change the shape of y to (n_samples, ), for example using ravel().\n"
     ]
    },
    {
     "name": "stdout",
     "output_type": "stream",
     "text": [
      "Shape of X_train_reshaped: (17279375, 7, 7, 2)\n",
      "Shape of X_test_reshaped: (4319844, 7, 7, 2)\n"
     ]
    }
   ],
   "source": [
    "import numpy as np\n",
    "import pandas as pd\n",
    "import tensorflow as tf\n",
    "from sklearn.model_selection import train_test_split\n",
    "from sklearn.preprocessing import StandardScaler, LabelEncoder\n",
    "from tensorflow.keras.models import Model, Sequential\n",
    "from tensorflow.keras.layers import Input, Conv2D, LSTM, Dense, Dropout, Reshape, Permute, Flatten, BatchNormalization, concatenate\n",
    "from tensorflow.keras.optimizers import Adam\n",
    "from sklearn.metrics import classification_report, confusion_matrix, roc_auc_score, roc_curve\n",
    "import matplotlib.pyplot as plt\n",
    "from tensorflow.keras.callbacks import EarlyStopping, ReduceLROnPlateau\n",
    "\n",
    "\n",
    "label_encoder = LabelEncoder()\n",
    "y = label_encoder.fit_transform(y)\n",
    "\n",
    "X_train, X_test, y_train, y_test = train_test_split(X, y, test_size=0.2, random_state=42, stratify=y)\n",
    "\n",
    "X_train = np.array(X_train)\n",
    "X_test = np.array(X_test)\n",
    "y_train = np.array(y_train)\n",
    "y_test = np.array(y_test)\n",
    "\n",
    "scaler = StandardScaler()\n",
    "X_train = scaler.fit_transform(X_train)\n",
    "X_test = scaler.transform(X_test)\n",
    "\n",
    "def reshape_and_permute(data):\n",
    "    num_padding = 49 - data.shape[1]\n",
    "    if num_padding > 0:\n",
    "        padding = np.zeros((data.shape[0], num_padding))\n",
    "        data = np.concatenate([data, padding], axis=1)\n",
    "\n",
    "    data = data.reshape((data.shape[0], 7, 7))\n",
    "\n",
    "    data = np.expand_dims(data, axis=-1)\n",
    "\n",
    "    data = np.concatenate([data, data], axis=-1)\n",
    "    return data\n",
    "\n",
    "X_train_reshaped = reshape_and_permute(X_train)\n",
    "X_test_reshaped = reshape_and_permute(X_test)\n",
    "\n",
    "print(\"Shape of X_train_reshaped:\", X_train_reshaped.shape)\n",
    "print(\"Shape of X_test_reshaped:\", X_test_reshaped.shape)\n",
    "\n",
    "\n",
    "# 7. 3DLBS - نموذج\n",
    "def create_3dlbs_model(input_shape):\n",
    "    \"\"\"إنشاء نموذج 3DLBS.\"\"\"\n",
    "    input_layer = Input(shape=input_shape)\n",
    "\n",
    "\n",
    "    permute_1 = Permute((1, 2, 3))(input_layer)\n",
    "    permute_2 = Permute((1, 2, 3))(input_layer)\n",
    "\n",
    "    # Branch 1 (CNN)\n",
    "    conv2d_1 = Conv2D(filters=4, kernel_size=(1, 1), activation='relu', padding='same')(permute_1)\n",
    "    conv2d_2 = Conv2D(filters=128, kernel_size=(2, 2), activation='relu', padding='same')(conv2d_1)\n",
    "    conv2d_3 = Conv2D(filters=32, kernel_size=(1, 1), activation='relu', padding='same')(conv2d_2)\n",
    "    flatten_1 = Flatten()(conv2d_3)\n",
    "    dropout_1 = Dropout(0.2)(flatten_1)\n",
    "\n",
    "    # Branch 2 (LSTM)\n",
    "    flatten_2 = Flatten()(permute_2)\n",
    "    reshape_2_1 = Reshape((1, 7*7*2))(flatten_2)  # إعادة التشكيل لجعله (samples, timesteps, features)\n",
    "\n",
    "    lstm_1 = LSTM(units=64)(reshape_2_1)\n",
    "    dropout_2 = Dropout(0.2)(lstm_1)\n",
    "\n",
    "    # Merge\n",
    "    merged = concatenate([dropout_1, dropout_2])\n",
    "    merged = BatchNormalization()(merged)\n",
    "\n",
    "    # Booster\n",
    "    dense_1 = Dense(units=128, activation='relu')(merged)\n",
    "    dropout_3 = Dropout(0.3)(dense_1)\n",
    "    output = Dense(units=1, activation='sigmoid')(dropout_3)\n",
    "\n",
    "    model = Model(inputs=input_layer, outputs=output)\n",
    "    return model\n",
    "\n",
    "\n",
    "input_shape = (7, 7, 2)\n",
    "model = create_3dlbs_model(input_shape)\n",
    "\n",
    "optimizer = Adam(learning_rate=0.001)\n",
    "model.compile(optimizer=optimizer, loss='binary_crossentropy', metrics=['accuracy'])\n",
    "\n",
    "early_stopping = EarlyStopping(monitor='val_loss', patience=4, restore_best_weights=True)\n",
    "reduce_lr = ReduceLROnPlateau(monitor='val_loss', factor=0.5, patience=2, min_lr=1e-6)\n"
   ],
   "metadata": {
    "collapsed": false,
    "ExecuteTime": {
     "end_time": "2025-02-23T14:57:32.509890200Z",
     "start_time": "2025-02-23T14:55:45.037725200Z"
    }
   }
  },
  {
   "cell_type": "code",
   "execution_count": 13,
   "outputs": [
    {
     "name": "stdout",
     "output_type": "stream",
     "text": [
      "Epoch 1/100\n",
      "6750/6750 [==============================] - 434s 64ms/step - loss: 6.0013e-04 - accuracy: 0.9998 - val_loss: 2.0610e-04 - val_accuracy: 1.0000 - lr: 0.0010\n",
      "Epoch 2/100\n",
      "6750/6750 [==============================] - 443s 66ms/step - loss: 1.4581e-04 - accuracy: 1.0000 - val_loss: 1.3189e-04 - val_accuracy: 1.0000 - lr: 0.0010\n",
      "Epoch 3/100\n",
      "6750/6750 [==============================] - 454s 67ms/step - loss: 1.2510e-04 - accuracy: 1.0000 - val_loss: 1.4197e-04 - val_accuracy: 1.0000 - lr: 0.0010\n",
      "Epoch 4/100\n",
      "6750/6750 [==============================] - 461s 68ms/step - loss: 9.7115e-05 - accuracy: 1.0000 - val_loss: 8.9848e-05 - val_accuracy: 1.0000 - lr: 5.0000e-04\n",
      "Epoch 5/100\n",
      "6750/6750 [==============================] - 465s 69ms/step - loss: 8.6884e-05 - accuracy: 1.0000 - val_loss: 8.5668e-05 - val_accuracy: 1.0000 - lr: 5.0000e-04\n",
      "Epoch 6/100\n",
      "6750/6750 [==============================] - 471s 70ms/step - loss: 8.5024e-05 - accuracy: 1.0000 - val_loss: 1.0267e-04 - val_accuracy: 1.0000 - lr: 5.0000e-04\n",
      "Epoch 7/100\n",
      "6750/6750 [==============================] - 473s 70ms/step - loss: 6.8421e-05 - accuracy: 1.0000 - val_loss: 7.9918e-05 - val_accuracy: 1.0000 - lr: 2.5000e-04\n",
      "Epoch 8/100\n",
      "6750/6750 [==============================] - 491s 73ms/step - loss: 6.6430e-05 - accuracy: 1.0000 - val_loss: 7.2080e-05 - val_accuracy: 1.0000 - lr: 2.5000e-04\n",
      "Epoch 9/100\n",
      "6750/6750 [==============================] - 584s 86ms/step - loss: 6.1530e-05 - accuracy: 1.0000 - val_loss: 6.6245e-05 - val_accuracy: 1.0000 - lr: 1.2500e-04\n",
      "Epoch 10/100\n",
      "6750/6750 [==============================] - 475s 70ms/step - loss: 5.8775e-05 - accuracy: 1.0000 - val_loss: 6.9460e-05 - val_accuracy: 1.0000 - lr: 1.2500e-04\n",
      "Epoch 11/100\n",
      "6750/6750 [==============================] - 488s 72ms/step - loss: 5.3326e-05 - accuracy: 1.0000 - val_loss: 6.9200e-05 - val_accuracy: 1.0000 - lr: 6.2500e-05\n",
      "Epoch 12/100\n",
      "6750/6750 [==============================] - 495s 73ms/step - loss: 5.4126e-05 - accuracy: 1.0000 - val_loss: 6.5343e-05 - val_accuracy: 1.0000 - lr: 6.2500e-05\n",
      "Epoch 13/100\n",
      "6750/6750 [==============================] - 487s 72ms/step - loss: 5.1560e-05 - accuracy: 1.0000 - val_loss: 6.6554e-05 - val_accuracy: 1.0000 - lr: 3.1250e-05\n",
      "Epoch 14/100\n",
      "6750/6750 [==============================] - 495s 73ms/step - loss: 5.3942e-05 - accuracy: 1.0000 - val_loss: 6.4284e-05 - val_accuracy: 1.0000 - lr: 3.1250e-05\n",
      "Epoch 15/100\n",
      "6750/6750 [==============================] - 519s 77ms/step - loss: 5.0154e-05 - accuracy: 1.0000 - val_loss: 6.4870e-05 - val_accuracy: 1.0000 - lr: 1.5625e-05\n",
      "Epoch 16/100\n",
      "6750/6750 [==============================] - 509s 75ms/step - loss: 4.7879e-05 - accuracy: 1.0000 - val_loss: 6.5881e-05 - val_accuracy: 1.0000 - lr: 1.5625e-05\n",
      "Epoch 17/100\n",
      "6750/6750 [==============================] - 513s 76ms/step - loss: 5.0332e-05 - accuracy: 1.0000 - val_loss: 6.5876e-05 - val_accuracy: 1.0000 - lr: 7.8125e-06\n",
      "Epoch 18/100\n",
      "6750/6750 [==============================] - 508s 75ms/step - loss: 4.9095e-05 - accuracy: 1.0000 - val_loss: 6.5110e-05 - val_accuracy: 1.0000 - lr: 7.8125e-06\n"
     ]
    }
   ],
   "source": [
    "history = model.fit(\n",
    "    X_train_reshaped, y_train,\n",
    "    validation_split=0.2,\n",
    "    epochs=100,\n",
    "    batch_size=2048,\n",
    "    callbacks=[early_stopping, reduce_lr],\n",
    "    verbose=1\n",
    ")"
   ],
   "metadata": {
    "collapsed": false,
    "ExecuteTime": {
     "end_time": "2025-02-23T17:25:06.031561900Z",
     "start_time": "2025-02-23T14:57:32.026602200Z"
    }
   }
  },
  {
   "cell_type": "code",
   "execution_count": null,
   "outputs": [],
   "source": [],
   "metadata": {
    "collapsed": false
   }
  },
  {
   "cell_type": "code",
   "execution_count": 14,
   "outputs": [
    {
     "name": "stdout",
     "output_type": "stream",
     "text": [
      "Loss: 0.0001\n",
      "Accuracy: 1.0000\n",
      "134996/134996 [==============================] - 128s 944us/step\n",
      "\n",
      "Classification Report:\n",
      "              precision    recall  f1-score   support\n",
      "\n",
      "           0       1.00      1.00      1.00   4319643\n",
      "           1       0.85      0.64      0.73       201\n",
      "\n",
      "    accuracy                           1.00   4319844\n",
      "   macro avg       0.92      0.82      0.86   4319844\n",
      "weighted avg       1.00      1.00      1.00   4319844\n",
      "\n",
      "\n",
      "Confusion Matrix\n",
      "[[4319620      23]\n",
      " [     73     128]]\n"
     ]
    }
   ],
   "source": [
    "loss, accuracy = model.evaluate(X_test_reshaped, y_test, verbose=0)\n",
    "print(f'Loss: {loss:.4f}')\n",
    "print(f'Accuracy: {accuracy:.4f}')\n",
    "\n",
    "# Get binary predictions (0 or 1)\n",
    "y_pred_probs = model.predict(X_test_reshaped)\n",
    "y_pred = (y_pred_probs > 0.5).astype(int)  # Threshold at 0.5 for binary classification\n",
    "y_true = y_test # No need for argmax, y_test is already 0 or 1\n",
    "\n",
    "print(\"\\nClassification Report:\")\n",
    "print(classification_report(y_true, y_pred, target_names=label_encoder.classes_))\n",
    "print(\"\\nConfusion Matrix\")\n",
    "print(confusion_matrix(y_true, y_pred))"
   ],
   "metadata": {
    "collapsed": false,
    "ExecuteTime": {
     "end_time": "2025-02-23T17:34:34.295833300Z",
     "start_time": "2025-02-23T17:29:39.807690700Z"
    }
   }
  },
  {
   "cell_type": "code",
   "execution_count": 29,
   "outputs": [
    {
     "data": {
      "text/plain": "4.1211642780164485e-05"
     },
     "execution_count": 29,
     "metadata": {},
     "output_type": "execute_result"
    }
   ],
   "source": [
    "import time\n",
    "import numpy as np\n",
    "import pandas as pd\n",
    "from sklearn.preprocessing import StandardScaler\n",
    "\n",
    "\n",
    "def calculate_latency(model, X_test_preprocessed, X_test_reshaped, reshape_and_permute_func, iterations=10):\n",
    "    \"\"\"\n",
    "     Average Prediction Latency Per Sample.\n",
    "\n",
    "\n",
    "    Args:\n",
    "        model: Trained Keras model.\n",
    "        X_test_preprocessed:  X_test data *after* scaling, but *before* reshaping.\n",
    "        X_test_reshaped: X_test data after scaling and reshaping.  Used for model.predict.\n",
    "        reshape_and_permute_func: The function used to reshape the data.\n",
    "        iterations: Number of iterations to average over.\n",
    "\n",
    "    Returns:\n",
    "        float: Average latency per row (sample) in seconds.\n",
    "    \"\"\"\n",
    "    total_latency = 0\n",
    "    num_rows = X_test_preprocessed.shape[0]\n",
    "\n",
    "    for _ in range(iterations):\n",
    "        start_time = time.time()\n",
    "\n",
    "        # 1. Data Preprocessing: Reshape for this iteration\n",
    "        X_test_current = reshape_and_permute_func(X_test_preprocessed)\n",
    "\n",
    "        # 2. Prediction\n",
    "        model.predict(X_test_current, verbose=0)  # Use the reshaped data\n",
    "\n",
    "        end_time = time.time()\n",
    "        total_latency += (end_time - start_time)\n",
    "\n",
    "    average_latency = total_latency / iterations\n",
    "    average_latency_per_row = average_latency / num_rows\n",
    "    return average_latency_per_row\n",
    "\n",
    "\n",
    "average_latency = calculate_latency(model, X_test, X_test_reshaped, reshape_and_permute, iterations=5)\n",
    "\n",
    "average_latency"
   ],
   "metadata": {
    "collapsed": false,
    "ExecuteTime": {
     "end_time": "2025-02-23T18:32:01.633445600Z",
     "start_time": "2025-02-23T18:17:11.374690300Z"
    }
   }
  },
  {
   "cell_type": "code",
   "execution_count": 24,
   "outputs": [],
   "source": [
    "import psutil\n",
    "import os\n",
    "import time\n",
    "\n",
    "\n",
    "def measure_prediction_memory_cost(model, X_test_reshaped):\n",
    "    \"\"\"\n",
    "    Memory Usage During Prediction on Test Set (MB)\n",
    "\n",
    "\n",
    "    Args:\n",
    "      model: Trained model with .predict method.\n",
    "      X_test_reshaped:  The *reshaped* test data.\n",
    "\n",
    "    Returns:\n",
    "      memory_usage_mb: The increase in memory usage during the prediction, in MB.\n",
    "    \"\"\"\n",
    "\n",
    "    def get_memory_usage():\n",
    "        process = psutil.Process(os.getpid())\n",
    "        return process.memory_info().rss / (1024 ** 2)  # in MB\n",
    "\n",
    "    start_memory = get_memory_usage()\n",
    "    model.predict(X_test_reshaped, verbose=0) #reshaped test data\n",
    "    end_memory = get_memory_usage()\n",
    "\n",
    "    memory_usage_mb = end_memory - start_memory\n",
    "    return memory_usage_mb\n",
    "\n",
    "\n"
   ],
   "metadata": {
    "collapsed": false,
    "ExecuteTime": {
     "end_time": "2025-02-23T18:04:45.833284300Z",
     "start_time": "2025-02-23T18:04:45.809847600Z"
    }
   }
  },
  {
   "cell_type": "code",
   "execution_count": 39,
   "outputs": [
    {
     "name": "stdout",
     "output_type": "stream",
     "text": [
      "Memory usage during prediction: 67.36 MB\n"
     ]
    }
   ],
   "source": [
    "memory_cost = measure_prediction_memory_cost(model, X_test_reshaped)\n",
    "print(f\"Memory usage during prediction: {memory_cost:.2f} MB\")"
   ],
   "metadata": {
    "collapsed": false,
    "ExecuteTime": {
     "end_time": "2025-02-22T00:13:13.033632400Z",
     "start_time": "2025-02-22T00:08:31.156560600Z"
    }
   }
  },
  {
   "cell_type": "code",
   "execution_count": 21,
   "outputs": [],
   "source": [
    "import psutil\n",
    "import os\n",
    "import time\n",
    "\n",
    "def measure_prediction_cpu_cost(model, X_test, duration=3):\n",
    "    \"\"\"\n",
    "    Average CPU Usage During Prediction on Test Set (%)\n",
    "    System CPU time during prediction on  Test Set (seconds)\n",
    "\n",
    "    Args:\n",
    "      model: Trained model with .predict method.\n",
    "      X_test: Test data.\n",
    "      duration : time in seconds to average cpu metrics over.\n",
    "    Returns:\n",
    "        cpu_percent: Average CPU usage percentage during prediction.\n",
    "        user_cpu_time: User CPU time in seconds during the prediction.\n",
    "        system_cpu_time: System CPU time in seconds during the prediction.\n",
    "    \"\"\"\n",
    "\n",
    "    def get_cpu_usage():\n",
    "      cpu_percent = psutil.cpu_percent()\n",
    "      cpu_times = psutil.cpu_times()\n",
    "      return cpu_percent, cpu_times.user, cpu_times.system\n",
    "\n",
    "    cpu_usage_list = []\n",
    "    user_cpu_time_list = []\n",
    "    system_cpu_time_list = []\n",
    "\n",
    "    start_time = time.time()\n",
    "    while time.time() - start_time <= duration:\n",
    "      cpu_percent, user_time, system_time = get_cpu_usage()\n",
    "      cpu_usage_list.append(cpu_percent)\n",
    "      user_cpu_time_list.append(user_time)\n",
    "      system_cpu_time_list.append(system_time)\n",
    "      time.sleep(0.1) # Check cpu every 0.1 second\n",
    "\n",
    "    start_cpu_percent, start_user_time, start_system_time = get_cpu_usage()\n",
    "\n",
    "    start_prediction_time = time.time()\n",
    "    model.predict(X_test)\n",
    "    end_prediction_time = time.time()\n",
    "\n",
    "    cpu_percent, end_user_time, end_system_time = get_cpu_usage()\n",
    "\n",
    "    total_user_time = end_user_time - start_user_time\n",
    "    total_system_time = end_system_time - start_system_time\n",
    "\n",
    "    return np.mean(cpu_usage_list), total_user_time, total_system_time\n",
    "\n",
    "\n"
   ],
   "metadata": {
    "collapsed": false,
    "ExecuteTime": {
     "end_time": "2025-02-23T18:00:19.681724300Z",
     "start_time": "2025-02-23T18:00:19.656541700Z"
    }
   }
  },
  {
   "cell_type": "code",
   "execution_count": 23,
   "outputs": [
    {
     "name": "stdout",
     "output_type": "stream",
     "text": [
      "134996/134996 [==============================] - 139s 1ms/step\n",
      "Average CPU usage during prediction: 8.77%\n",
      "User CPU time during prediction: 528.88 seconds\n",
      "System CPU time during prediction: 523.83 seconds\n"
     ]
    }
   ],
   "source": [
    "cpu_percent, user_cpu_time, system_cpu_time = measure_prediction_cpu_cost(model, X_test_reshaped)\n",
    "print(f\"Average CPU usage during prediction: {cpu_percent:.2f}%\")\n",
    "print(f\"User CPU time during prediction: {user_cpu_time:.2f} seconds\")\n",
    "print(f\"System CPU time during prediction: {system_cpu_time:.2f} seconds\")"
   ],
   "metadata": {
    "collapsed": false,
    "ExecuteTime": {
     "end_time": "2025-02-23T18:03:41.913750Z",
     "start_time": "2025-02-23T18:00:51.683059600Z"
    }
   }
  },
  {
   "cell_type": "code",
   "execution_count": 37,
   "outputs": [],
   "source": [],
   "metadata": {
    "collapsed": false,
    "ExecuteTime": {
     "end_time": "2024-12-30T19:15:35.455253100Z",
     "start_time": "2024-12-30T19:15:35.452235900Z"
    }
   }
  },
  {
   "cell_type": "code",
   "execution_count": 30,
   "outputs": [],
   "source": [
    "import time\n",
    "import numpy as np\n",
    "import matplotlib.pyplot as plt\n",
    "from sklearn.model_selection import train_test_split\n",
    "import pandas as pd\n",
    "import psutil\n",
    "import os\n",
    "\n",
    "def measure_prediction_scalability(model, X, y, test_size = 0.2, sizes = np.linspace(0.1, 1, 10), iterations = 3):\n",
    "    \"\"\"\n",
    "    Measures scalability\n",
    "\n",
    "    Args:\n",
    "      model: Trained model with .predict method.\n",
    "      X: Full Input dataframe.\n",
    "      y: Full labels of the dataframe.\n",
    "      test_size: size of the test set.\n",
    "      sizes: Fractions of test data to evaluate over.\n",
    "      iterations: Number of iterations to average over.\n",
    "    Returns:\n",
    "      sizes: Fraction of test data used in each run\n",
    "      prediction_times: time taken to do predictions with each fraction of test data\n",
    "    \"\"\"\n",
    "    prediction_times = []\n",
    "    X_train1, X_test1, y_train1, y_test1 = train_test_split(X, y, test_size=test_size, random_state=42)\n",
    "\n",
    "    for size in sizes:\n",
    "        subset_size = int(len(X_test1) * size)\n",
    "        X_test_subset = X_test1[:subset_size]\n",
    "\n",
    "\n",
    "        total_prediction_time = 0\n",
    "        for _ in range(iterations):\n",
    "             start_time = time.time()\n",
    "             model.predict(X_test_subset)\n",
    "             end_time = time.time()\n",
    "             total_prediction_time += (end_time-start_time)\n",
    "        prediction_time = total_prediction_time/iterations\n",
    "\n",
    "\n",
    "        prediction_times.append(prediction_time)\n",
    "\n",
    "    return sizes, prediction_times\n",
    "\n",
    "\n"
   ],
   "metadata": {
    "collapsed": false,
    "ExecuteTime": {
     "end_time": "2025-02-23T18:34:08.186532600Z",
     "start_time": "2025-02-23T18:34:08.154151400Z"
    }
   }
  },
  {
   "cell_type": "code",
   "execution_count": 31,
   "outputs": [
    {
     "name": "stdout",
     "output_type": "stream",
     "text": [
      "2700/2700 [==============================] - 5s 2ms/step\n",
      "2700/2700 [==============================] - 4s 2ms/step\n",
      "2700/2700 [==============================] - 5s 2ms/step\n",
      "5400/5400 [==============================] - 9s 2ms/step\n",
      "5400/5400 [==============================] - 7s 1ms/step\n",
      "5400/5400 [==============================] - 8s 2ms/step\n",
      "8100/8100 [==============================] - 13s 2ms/step\n",
      "8100/8100 [==============================] - 13s 2ms/step\n",
      "8100/8100 [==============================] - 13s 2ms/step\n",
      "10800/10800 [==============================] - 16s 1ms/step\n",
      "10800/10800 [==============================] - 16s 1ms/step\n",
      "10800/10800 [==============================] - 16s 2ms/step\n",
      "13500/13500 [==============================] - 19s 1ms/step\n",
      "13500/13500 [==============================] - 20s 1ms/step\n",
      "13500/13500 [==============================] - 19s 1ms/step\n",
      "16200/16200 [==============================] - 24s 1ms/step\n",
      "16200/16200 [==============================] - 24s 1ms/step\n",
      "16200/16200 [==============================] - 25s 2ms/step\n",
      "18900/18900 [==============================] - 29s 2ms/step\n",
      "18900/18900 [==============================] - 35s 2ms/step\n",
      "18900/18900 [==============================] - 31s 2ms/step\n",
      "21600/21600 [==============================] - 36s 2ms/step\n",
      "21600/21600 [==============================] - 38s 2ms/step\n",
      "21600/21600 [==============================] - 38s 2ms/step\n",
      "24300/24300 [==============================] - 44s 2ms/step\n",
      "24300/24300 [==============================] - 44s 2ms/step\n",
      "24300/24300 [==============================] - 44s 2ms/step\n",
      "27000/27000 [==============================] - 48s 2ms/step\n",
      "27000/27000 [==============================] - 49s 2ms/step\n",
      "27000/27000 [==============================] - 49s 2ms/step\n"
     ]
    },
    {
     "data": {
      "text/plain": "<Figure size 1000x600 with 1 Axes>",
      "image/png": "[encoded data removed]"
     },
     "metadata": {},
     "output_type": "display_data"
    }
   ],
   "source": [
    "sizes, prediction_times = measure_prediction_scalability(model, X_test_reshaped, y_test)\n",
    "#\n",
    "plt.figure(figsize=(10, 6))\n",
    "plt.plot(sizes, prediction_times, label='Prediction Time')\n",
    "plt.xlabel('Fraction of Test Data')\n",
    "plt.ylabel('Time (seconds)')\n",
    "plt.title('Prediction Scalability Measurement')\n",
    "plt.legend()\n",
    "plt.grid(True)\n",
    "plt.show()"
   ],
   "metadata": {
    "collapsed": false,
    "ExecuteTime": {
     "end_time": "2025-02-23T18:47:44.889073Z",
     "start_time": "2025-02-23T18:34:14.475132Z"
    }
   }
  },
  {
   "cell_type": "code",
   "execution_count": null,
   "outputs": [],
   "source": [],
   "metadata": {
    "collapsed": false
   }
  }
 ],
 "metadata": {
  "kernelspec": {
   "display_name": "Python 3",
   "language": "python",
   "name": "python3"
  },
  "language_info": {
   "codemirror_mode": {
    "name": "ipython",
    "version": 2
   },
   "file_extension": ".py",
   "mimetype": "text/x-python",
   "name": "python",
   "nbconvert_exporter": "python",
   "pygments_lexer": "ipython2",
   "version": "2.7.6"
  }
 },
 "nbformat": 4,
 "nbformat_minor": 0
}
