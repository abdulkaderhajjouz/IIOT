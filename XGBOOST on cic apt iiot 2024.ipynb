{
 "cells": [
  {
   "cell_type": "code",
   "execution_count": 1,
   "metadata": {
    "collapsed": true,
    "ExecuteTime": {
     "end_time": "2025-01-02T15:07:08.297131900Z",
     "start_time": "2025-01-02T15:07:04.657291100Z"
    }
   },
   "outputs": [
    {
     "name": "stderr",
     "output_type": "stream",
     "text": [
      "IProgress not found. Please update jupyter and ipywidgets. See https://ipywidgets.readthedocs.io/en/stable/user_install.html\n"
     ]
    }
   ],
   "source": [
    "import numpy as np\n",
    "import pandas as pd\n",
    "import matplotlib.pyplot as plt\n",
    "import seaborn as sns\n",
    "import glob\n",
    "import os\n",
    "import shap\n",
    "import scikitplot as skplt\n",
    "from mistune.plugins.math import math\n",
    "from pyspark.sql.functions import avg\n",
    "from sklearn.model_selection import train_test_split\n",
    "from sklearn.preprocessing import StandardScaler\n",
    "from sklearn.dummy import DummyClassifier\n",
    "from sklearn.linear_model import LogisticRegression\n",
    "from sklearn.ensemble import RandomForestClassifier\n",
    "from sklearn.metrics import classification_report, precision_recall_curve, average_precision_score\n",
    "from catboost import CatBoostClassifier\n",
    "from catboost import Pool\n",
    "\n",
    "from scipy.stats import spearmanr\n",
    "from scipy.cluster import hierarchy\n",
    "from collections import defaultdict\n",
    "\n",
    "from scipy.stats import ks_2samp\n",
    "from scipy.stats import describe\n",
    "from imblearn.over_sampling import SMOTENC\n",
    "from collections import Counter\n",
    "from IPython.display import display\n",
    "\n",
    "%matplotlib inline"
   ]
  },
  {
   "cell_type": "code",
   "execution_count": 2,
   "outputs": [],
   "source": [
    "dataset_base_path = r'E:\\PycharmProjects\\pythonProject1\\iiot2024'\n"
   ],
   "metadata": {
    "collapsed": false,
    "ExecuteTime": {
     "end_time": "2025-01-02T15:07:08.312171300Z",
     "start_time": "2025-01-02T15:07:08.262074500Z"
    }
   }
  },
  {
   "cell_type": "code",
   "execution_count": 3,
   "outputs": [],
   "source": [
    "types = {\n",
    "    'ts': 'float64',  # Timestamp, likely in float format\n",
    "    'flow_duration': 'float32',  # Same as original\n",
    "    'Header_Length': 'int64',  # Same as original 'header_length'\n",
    "    'Source IP': 'object',  # IP addresses as strings\n",
    "    'Destination IP': 'object',  # IP addresses as strings\n",
    "    'Source Port': 'int32',  # Ports can be stored as integers\n",
    "    'Destination Port': 'int32',  # Same as source port\n",
    "    'Protocol Type': 'int8',  # Assuming small integer range for protocol types\n",
    "    'Protocol_name': 'object',  # Protocol names as strings\n",
    "    'Duration': 'float32',  # Same as original 'duration'\n",
    "    'Rate': 'float32',  # Replacing 'rate'\n",
    "    'Srate': 'float32',  # Same as original 'srate'\n",
    "    'Drate': 'float32',  # Same as original 'drate'\n",
    "    'fin_flag_number': 'uint8',  # Same as original\n",
    "    'syn_flag_number': 'uint8',  # Same as original\n",
    "    'rst_flag_number': 'uint8',  # Same as original\n",
    "    'psh_flag_number': 'uint8',  # Same as original\n",
    "    'ack_flag_number': 'uint8',  # Same as original\n",
    "    'urg_flag_number': 'uint8',  # New, inferred from context\n",
    "    'ece_flag_number': 'uint8',  # Same as original\n",
    "    'cwr_flag_number': 'uint8',  # Same as original\n",
    "    'ack_count': 'float32',  # Same as original\n",
    "    'syn_count': 'float32',  # Same as original\n",
    "    'fin_count': 'float32',  # Same as original\n",
    "    'urg_count': 'float32',  # Same as original\n",
    "    'rst_count': 'float32',  # Same as original\n",
    "    'max_duration': 'float32',  # New field inferred from context\n",
    "    'min_duration': 'float32',  # New field inferred from context\n",
    "    'sum_duration': 'float32',  # New field inferred from context\n",
    "    'average_duration': 'float32',  # New field inferred from context\n",
    "    'std_duration': 'float32',  # New field inferred from context\n",
    "    'CoAP': 'uint8',  # New field, protocol flag\n",
    "    'HTTP': 'uint8',  # Protocol flag\n",
    "    'HTTPS': 'uint8',  # Protocol flag\n",
    "    'DNS': 'uint8',  # Protocol flag\n",
    "    'Telnet': 'uint8',  # Protocol flag\n",
    "    'SMTP': 'uint8',  # Protocol flag\n",
    "    'SSH': 'uint8',  # Protocol flag\n",
    "    'IRC': 'uint8',  # Protocol flag\n",
    "    'TCP': 'uint8',  # Protocol flag\n",
    "    'UDP': 'uint8',  # Protocol flag\n",
    "    'DHCP': 'uint8',  # Protocol flag\n",
    "    'ARP': 'uint8',  # Protocol flag\n",
    "    'ICMP': 'uint8',  # Protocol flag\n",
    "    'IGMP': 'uint8',  # Protocol flag\n",
    "    'IPv': 'uint8',  # Protocol flag\n",
    "    'LLC': 'uint8',  # Protocol flag\n",
    "    'Tot sum': 'float32',  # Replacing 'tot_sum'\n",
    "    'Min': 'float32',  # Replacing 'min'\n",
    "    'Max': 'float32',  # Replacing 'max'\n",
    "    'AVG': 'float32',  # Replacing 'avg'\n",
    "    'Std': 'float32',  # Replacing 'std'\n",
    "    'Tot size': 'float32',  # Replacing 'tot_size'\n",
    "    'IAT': 'float32',  # Replacing 'iat'\n",
    "    'Number': 'float32',  # Replacing 'number'\n",
    "    'MAC': 'object',  # Likely MAC address, stored as a string\n",
    "    'Magnitue': 'float32',  # Inferred from context\n",
    "    'Radius': 'float32',  # Same as original 'radius'\n",
    "    'Covariance': 'float32',  # Same as original 'covariance'\n",
    "    'Variance': 'float32',  # Same as original 'variance'\n",
    "    'Weight': 'float32',  # Same as original 'weight'\n",
    "    'DS status': 'uint8',  # New field, inferred from context\n",
    "    'Fragments': 'uint8',  # New field, inferred from context\n",
    "    'Sequence number': 'int64',  # New field, inferred from context\n",
    "    'Protocol Version': 'int8',  # New field, inferred from context\n",
    "    'flow_idle_time': 'float32',  # New field, inferred from context\n",
    "    'flow_active_time': 'float32',  # New field, inferred from context\n",
    "    'label': 'object',  # Same as original\n",
    "    'subLabel': 'object',  # New field, inferred from context\n",
    "    'subLabelCat': 'object'  # New field, inferred from context\n",
    "}\n",
    "\n",
    "def replace_infinity_with_mean(df):\n",
    "    inf_columns = [c for c in df.columns if df[df[c] == np.inf][c].count() > 0]\n",
    "    for col in inf_columns:\n",
    "        df[col].replace([np.inf, -np.inf], np.nan, inplace=True)\n",
    "        mean = df[col].mean()\n",
    "        df[col].fillna(mean, inplace=True)\n",
    "    return df\n",
    "\n",
    "\n",
    "def replace_negative_values_with_mean(df):\n",
    "    numeric_cols = df.select_dtypes(include=[np.number]).columns.values\n",
    "\n",
    "    columns = [c for c in numeric_cols if df[df[c] < 0][c].count() > 0]\n",
    "    for col in columns:\n",
    "        mask = df[col] < 0\n",
    "        df.loc[mask, col] = np.nan\n",
    "        mean = df[col].mean()\n",
    "        df[col].fillna(mean, inplace=True)\n",
    "    return df\n",
    "\n",
    "\n",
    "def load_dataset(files, dtypes, cols=None):\n",
    "    df = pd.concat((pd.read_csv(f, dtype=dtypes, usecols=cols) for f in files))\n",
    "\n",
    "    df = replace_infinity_with_mean(df)\n",
    "    df = replace_negative_values_with_mean(df)\n",
    "\n",
    "\n",
    "    return df"
   ],
   "metadata": {
    "collapsed": false,
    "ExecuteTime": {
     "end_time": "2025-01-02T15:07:08.313142500Z",
     "start_time": "2025-01-02T15:07:08.267581Z"
    }
   }
  },
  {
   "cell_type": "code",
   "execution_count": 4,
   "outputs": [
    {
     "data": {
      "text/plain": "                   ts  flow_duration  Header_Length      Source IP  \\\n0        1.701426e+09       0.000000             66  172.16.64.128   \n1        1.701426e+09       0.002112            132  172.16.64.128   \n2        1.701426e+09       0.002328            198  172.16.64.128   \n3        1.701426e+09       0.004329            264  172.16.64.128   \n4        1.701426e+09       0.009495            330  172.16.64.128   \n...               ...            ...            ...            ...   \n9536818  1.701550e+09       2.018212           5460  172.16.66.128   \n9536819  1.701550e+09       0.021296           1432  172.16.66.128   \n9536820  1.701550e+09       2.018227           5670  172.16.66.128   \n9536821  1.701550e+09       2.018277           5880  172.16.66.128   \n9536822  1.701550e+09       2.018348           6090  172.16.66.128   \n\n          Destination IP  Source Port  Destination Port  Protocol Type  \\\n0          172.16.66.128        41750               502              6   \n1          172.16.66.128        41750               502              6   \n2          172.16.66.128        41750               502              6   \n3          172.16.66.128        41750               502              6   \n4          172.16.66.128        41750               502              6   \n...                  ...          ...               ...            ...   \n9536818  239.255.255.250        41544              1900             17   \n9536819    172.16.64.128          502             55784              6   \n9536820  239.255.255.250        41544              1900             17   \n9536821  239.255.255.250        41544              1900             17   \n9536822  239.255.255.250        41544              1900             17   \n\n        Protocol_name  Duration  ...  Weight  DS status  Fragments  \\\n0                 TCP      64.0  ...     1.0          0          0   \n1                 TCP      64.0  ...     4.0          0          0   \n2                 TCP      64.0  ...     9.0          0          0   \n3                 TCP      64.0  ...    16.0          0          0   \n4                 TCP      64.0  ...    25.0          0          0   \n...               ...       ...  ...     ...        ...        ...   \n9536818           UDP       1.0  ...   100.0          0          0   \n9536819           TCP      64.0  ...   121.0          0          0   \n9536820           UDP       1.0  ...   144.0          0          0   \n9536821           UDP       1.0  ...   169.0          0          0   \n9536822           UDP       1.0  ...   196.0          0          0   \n\n         Sequence number  Protocol Version  flow_idle_time  flow_active_time  \\\n0                      0                 0    1.701426e+09          0.000000   \n1                      0                 0    2.112150e-03          0.002112   \n2                      0                 0    2.160072e-04          0.002328   \n3                      0                 0    2.001047e-03          0.004329   \n4                      0                 0    5.165815e-03          0.009495   \n...                  ...               ...             ...               ...   \n9536818                0                 0    2.312660e-05          2.018212   \n9536819                0                 0    2.112150e-03          0.021296   \n9536820                0                 0    1.478195e-05          2.018227   \n9536821                0                 0    5.006790e-05          2.018277   \n9536822                0                 0    7.104874e-05          2.018348   \n\n         label  subLabel  subLabelCat  \n0            0         0            0  \n1            0         0            0  \n2            0         0            0  \n3            0         0            0  \n4            0         0            0  \n...        ...       ...          ...  \n9536818      0         0            0  \n9536819      0         0            0  \n9536820      0         0            0  \n9536821      0         0            0  \n9536822      0         0            0  \n\n[21599219 rows x 70 columns]",
      "text/html": "<div>\n<style scoped>\n    .dataframe tbody tr th:only-of-type {\n        vertical-align: middle;\n    }\n\n    .dataframe tbody tr th {\n        vertical-align: top;\n    }\n\n    .dataframe thead th {\n        text-align: right;\n    }\n</style>\n<table border=\"1\" class=\"dataframe\">\n  <thead>\n    <tr style=\"text-align: right;\">\n      <th></th>\n      <th>ts</th>\n      <th>flow_duration</th>\n      <th>Header_Length</th>\n      <th>Source IP</th>\n      <th>Destination IP</th>\n      <th>Source Port</th>\n      <th>Destination Port</th>\n      <th>Protocol Type</th>\n      <th>Protocol_name</th>\n      <th>Duration</th>\n      <th>...</th>\n      <th>Weight</th>\n      <th>DS status</th>\n      <th>Fragments</th>\n      <th>Sequence number</th>\n      <th>Protocol Version</th>\n      <th>flow_idle_time</th>\n      <th>flow_active_time</th>\n      <th>label</th>\n      <th>subLabel</th>\n      <th>subLabelCat</th>\n    </tr>\n  </thead>\n  <tbody>\n    <tr>\n      <th>0</th>\n      <td>1.701426e+09</td>\n      <td>0.000000</td>\n      <td>66</td>\n      <td>172.16.64.128</td>\n      <td>172.16.66.128</td>\n      <td>41750</td>\n      <td>502</td>\n      <td>6</td>\n      <td>TCP</td>\n      <td>64.0</td>\n      <td>...</td>\n      <td>1.0</td>\n      <td>0</td>\n      <td>0</td>\n      <td>0</td>\n      <td>0</td>\n      <td>1.701426e+09</td>\n      <td>0.000000</td>\n      <td>0</td>\n      <td>0</td>\n      <td>0</td>\n    </tr>\n    <tr>\n      <th>1</th>\n      <td>1.701426e+09</td>\n      <td>0.002112</td>\n      <td>132</td>\n      <td>172.16.64.128</td>\n      <td>172.16.66.128</td>\n      <td>41750</td>\n      <td>502</td>\n      <td>6</td>\n      <td>TCP</td>\n      <td>64.0</td>\n      <td>...</td>\n      <td>4.0</td>\n      <td>0</td>\n      <td>0</td>\n      <td>0</td>\n      <td>0</td>\n      <td>2.112150e-03</td>\n      <td>0.002112</td>\n      <td>0</td>\n      <td>0</td>\n      <td>0</td>\n    </tr>\n    <tr>\n      <th>2</th>\n      <td>1.701426e+09</td>\n      <td>0.002328</td>\n      <td>198</td>\n      <td>172.16.64.128</td>\n      <td>172.16.66.128</td>\n      <td>41750</td>\n      <td>502</td>\n      <td>6</td>\n      <td>TCP</td>\n      <td>64.0</td>\n      <td>...</td>\n      <td>9.0</td>\n      <td>0</td>\n      <td>0</td>\n      <td>0</td>\n      <td>0</td>\n      <td>2.160072e-04</td>\n      <td>0.002328</td>\n      <td>0</td>\n      <td>0</td>\n      <td>0</td>\n    </tr>\n    <tr>\n      <th>3</th>\n      <td>1.701426e+09</td>\n      <td>0.004329</td>\n      <td>264</td>\n      <td>172.16.64.128</td>\n      <td>172.16.66.128</td>\n      <td>41750</td>\n      <td>502</td>\n      <td>6</td>\n      <td>TCP</td>\n      <td>64.0</td>\n      <td>...</td>\n      <td>16.0</td>\n      <td>0</td>\n      <td>0</td>\n      <td>0</td>\n      <td>0</td>\n      <td>2.001047e-03</td>\n      <td>0.004329</td>\n      <td>0</td>\n      <td>0</td>\n      <td>0</td>\n    </tr>\n    <tr>\n      <th>4</th>\n      <td>1.701426e+09</td>\n      <td>0.009495</td>\n      <td>330</td>\n      <td>172.16.64.128</td>\n      <td>172.16.66.128</td>\n      <td>41750</td>\n      <td>502</td>\n      <td>6</td>\n      <td>TCP</td>\n      <td>64.0</td>\n      <td>...</td>\n      <td>25.0</td>\n      <td>0</td>\n      <td>0</td>\n      <td>0</td>\n      <td>0</td>\n      <td>5.165815e-03</td>\n      <td>0.009495</td>\n      <td>0</td>\n      <td>0</td>\n      <td>0</td>\n    </tr>\n    <tr>\n      <th>...</th>\n      <td>...</td>\n      <td>...</td>\n      <td>...</td>\n      <td>...</td>\n      <td>...</td>\n      <td>...</td>\n      <td>...</td>\n      <td>...</td>\n      <td>...</td>\n      <td>...</td>\n      <td>...</td>\n      <td>...</td>\n      <td>...</td>\n      <td>...</td>\n      <td>...</td>\n      <td>...</td>\n      <td>...</td>\n      <td>...</td>\n      <td>...</td>\n      <td>...</td>\n      <td>...</td>\n    </tr>\n    <tr>\n      <th>9536818</th>\n      <td>1.701550e+09</td>\n      <td>2.018212</td>\n      <td>5460</td>\n      <td>172.16.66.128</td>\n      <td>239.255.255.250</td>\n      <td>41544</td>\n      <td>1900</td>\n      <td>17</td>\n      <td>UDP</td>\n      <td>1.0</td>\n      <td>...</td>\n      <td>100.0</td>\n      <td>0</td>\n      <td>0</td>\n      <td>0</td>\n      <td>0</td>\n      <td>2.312660e-05</td>\n      <td>2.018212</td>\n      <td>0</td>\n      <td>0</td>\n      <td>0</td>\n    </tr>\n    <tr>\n      <th>9536819</th>\n      <td>1.701550e+09</td>\n      <td>0.021296</td>\n      <td>1432</td>\n      <td>172.16.66.128</td>\n      <td>172.16.64.128</td>\n      <td>502</td>\n      <td>55784</td>\n      <td>6</td>\n      <td>TCP</td>\n      <td>64.0</td>\n      <td>...</td>\n      <td>121.0</td>\n      <td>0</td>\n      <td>0</td>\n      <td>0</td>\n      <td>0</td>\n      <td>2.112150e-03</td>\n      <td>0.021296</td>\n      <td>0</td>\n      <td>0</td>\n      <td>0</td>\n    </tr>\n    <tr>\n      <th>9536820</th>\n      <td>1.701550e+09</td>\n      <td>2.018227</td>\n      <td>5670</td>\n      <td>172.16.66.128</td>\n      <td>239.255.255.250</td>\n      <td>41544</td>\n      <td>1900</td>\n      <td>17</td>\n      <td>UDP</td>\n      <td>1.0</td>\n      <td>...</td>\n      <td>144.0</td>\n      <td>0</td>\n      <td>0</td>\n      <td>0</td>\n      <td>0</td>\n      <td>1.478195e-05</td>\n      <td>2.018227</td>\n      <td>0</td>\n      <td>0</td>\n      <td>0</td>\n    </tr>\n    <tr>\n      <th>9536821</th>\n      <td>1.701550e+09</td>\n      <td>2.018277</td>\n      <td>5880</td>\n      <td>172.16.66.128</td>\n      <td>239.255.255.250</td>\n      <td>41544</td>\n      <td>1900</td>\n      <td>17</td>\n      <td>UDP</td>\n      <td>1.0</td>\n      <td>...</td>\n      <td>169.0</td>\n      <td>0</td>\n      <td>0</td>\n      <td>0</td>\n      <td>0</td>\n      <td>5.006790e-05</td>\n      <td>2.018277</td>\n      <td>0</td>\n      <td>0</td>\n      <td>0</td>\n    </tr>\n    <tr>\n      <th>9536822</th>\n      <td>1.701550e+09</td>\n      <td>2.018348</td>\n      <td>6090</td>\n      <td>172.16.66.128</td>\n      <td>239.255.255.250</td>\n      <td>41544</td>\n      <td>1900</td>\n      <td>17</td>\n      <td>UDP</td>\n      <td>1.0</td>\n      <td>...</td>\n      <td>196.0</td>\n      <td>0</td>\n      <td>0</td>\n      <td>0</td>\n      <td>0</td>\n      <td>7.104874e-05</td>\n      <td>2.018348</td>\n      <td>0</td>\n      <td>0</td>\n      <td>0</td>\n    </tr>\n  </tbody>\n</table>\n<p>21599219 rows × 70 columns</p>\n</div>"
     },
     "execution_count": 4,
     "metadata": {},
     "output_type": "execute_result"
    }
   ],
   "source": [
    "csv_files = glob.glob(os.path.join(dataset_base_path, '*.csv'))\n",
    "\n",
    "df = load_dataset(csv_files, types)\n",
    "df"
   ],
   "metadata": {
    "collapsed": false,
    "ExecuteTime": {
     "end_time": "2025-01-02T15:09:27.724951500Z",
     "start_time": "2025-01-02T15:07:08.270131900Z"
    }
   }
  },
  {
   "cell_type": "code",
   "execution_count": 5,
   "outputs": [
    {
     "name": "stdout",
     "output_type": "stream",
     "text": [
      "                   ts  flow_duration  Header_Length      Source IP  \\\n",
      "0        1.701426e+09       0.000000             66  172.16.64.128   \n",
      "1        1.701426e+09       0.002112            132  172.16.64.128   \n",
      "2        1.701426e+09       0.002328            198  172.16.64.128   \n",
      "3        1.701426e+09       0.004329            264  172.16.64.128   \n",
      "4        1.701426e+09       0.009495            330  172.16.64.128   \n",
      "...               ...            ...            ...            ...   \n",
      "9536818  1.701550e+09       2.018212           5460  172.16.66.128   \n",
      "9536819  1.701550e+09       0.021296           1432  172.16.66.128   \n",
      "9536820  1.701550e+09       2.018227           5670  172.16.66.128   \n",
      "9536821  1.701550e+09       2.018277           5880  172.16.66.128   \n",
      "9536822  1.701550e+09       2.018348           6090  172.16.66.128   \n",
      "\n",
      "          Destination IP  Source Port  Destination Port  Protocol Type  \\\n",
      "0          172.16.66.128        41750               502              6   \n",
      "1          172.16.66.128        41750               502              6   \n",
      "2          172.16.66.128        41750               502              6   \n",
      "3          172.16.66.128        41750               502              6   \n",
      "4          172.16.66.128        41750               502              6   \n",
      "...                  ...          ...               ...            ...   \n",
      "9536818  239.255.255.250        41544              1900             17   \n",
      "9536819    172.16.64.128          502             55784              6   \n",
      "9536820  239.255.255.250        41544              1900             17   \n",
      "9536821  239.255.255.250        41544              1900             17   \n",
      "9536822  239.255.255.250        41544              1900             17   \n",
      "\n",
      "        Protocol_name  Duration  ...  Fragments  Sequence number  \\\n",
      "0                 TCP      64.0  ...          0                0   \n",
      "1                 TCP      64.0  ...          0                0   \n",
      "2                 TCP      64.0  ...          0                0   \n",
      "3                 TCP      64.0  ...          0                0   \n",
      "4                 TCP      64.0  ...          0                0   \n",
      "...               ...       ...  ...        ...              ...   \n",
      "9536818           UDP       1.0  ...          0                0   \n",
      "9536819           TCP      64.0  ...          0                0   \n",
      "9536820           UDP       1.0  ...          0                0   \n",
      "9536821           UDP       1.0  ...          0                0   \n",
      "9536822           UDP       1.0  ...          0                0   \n",
      "\n",
      "         Protocol Version  flow_idle_time  flow_active_time  label  subLabel  \\\n",
      "0                       0    1.701426e+09          0.000000      0         0   \n",
      "1                       0    2.112150e-03          0.002112      0         0   \n",
      "2                       0    2.160072e-04          0.002328      0         0   \n",
      "3                       0    2.001047e-03          0.004329      0         0   \n",
      "4                       0    5.165815e-03          0.009495      0         0   \n",
      "...                   ...             ...               ...    ...       ...   \n",
      "9536818                 0    2.312660e-05          2.018212      0         0   \n",
      "9536819                 0    2.112150e-03          0.021296      0         0   \n",
      "9536820                 0    1.478195e-05          2.018227      0         0   \n",
      "9536821                 0    5.006790e-05          2.018277      0         0   \n",
      "9536822                 0    7.104874e-05          2.018348      0         0   \n",
      "\n",
      "         subLabelCat  Source IP (int)  Destination IP (int)  \n",
      "0                  0       2886746240            2886746752  \n",
      "1                  0       2886746240            2886746752  \n",
      "2                  0       2886746240            2886746752  \n",
      "3                  0       2886746240            2886746752  \n",
      "4                  0       2886746240            2886746752  \n",
      "...              ...              ...                   ...  \n",
      "9536818            0       2886746752            4026531834  \n",
      "9536819            0       2886746752            2886746240  \n",
      "9536820            0       2886746752            4026531834  \n",
      "9536821            0       2886746752            4026531834  \n",
      "9536822            0       2886746752            4026531834  \n",
      "\n",
      "[21599219 rows x 72 columns]\n"
     ]
    }
   ],
   "source": [
    "import socket\n",
    "import struct\n",
    "import pandas as pd\n",
    "\n",
    "def ip_to_int(ip_address):\n",
    "    try:\n",
    "        return struct.unpack(\"!I\", socket.inet_aton(ip_address))[0]\n",
    "    except socket.error:\n",
    "        return None\n",
    "\n",
    "\n",
    "\n",
    "df['Source IP (int)'] = df['Source IP'].apply(ip_to_int)\n",
    "df['Destination IP (int)'] = df['Destination IP'].apply(ip_to_int)\n",
    "\n",
    "print(df)\n"
   ],
   "metadata": {
    "collapsed": false,
    "ExecuteTime": {
     "end_time": "2025-01-02T15:09:42.823317900Z",
     "start_time": "2025-01-02T15:09:27.723951500Z"
    }
   }
  },
  {
   "cell_type": "code",
   "execution_count": 6,
   "outputs": [],
   "source": [
    "X = df.drop(columns=['label','subLabel','subLabelCat','Source IP','Destination IP'])\n",
    "y = df[['label']]"
   ],
   "metadata": {
    "collapsed": false,
    "ExecuteTime": {
     "end_time": "2025-01-02T15:09:44.051180500Z",
     "start_time": "2025-01-02T15:09:42.821317700Z"
    }
   }
  },
  {
   "cell_type": "markdown",
   "source": [],
   "metadata": {
    "collapsed": false
   }
  },
  {
   "cell_type": "code",
   "execution_count": 7,
   "outputs": [
    {
     "data": {
      "text/plain": "label\n0    21598215\n1        1004\nName: count, dtype: int64"
     },
     "execution_count": 7,
     "metadata": {},
     "output_type": "execute_result"
    }
   ],
   "source": [
    "y.label.value_counts()"
   ],
   "metadata": {
    "collapsed": false,
    "ExecuteTime": {
     "end_time": "2025-01-02T15:09:44.470996300Z",
     "start_time": "2025-01-02T15:09:44.052180300Z"
    }
   }
  },
  {
   "cell_type": "code",
   "execution_count": 8,
   "outputs": [
    {
     "data": {
      "text/plain": "                   ts  flow_duration  Header_Length  Source Port  \\\n0        1.701426e+09       0.000000             66        41750   \n1        1.701426e+09       0.002112            132        41750   \n2        1.701426e+09       0.002328            198        41750   \n3        1.701426e+09       0.004329            264        41750   \n4        1.701426e+09       0.009495            330        41750   \n...               ...            ...            ...          ...   \n9536818  1.701550e+09       2.018212           5460        41544   \n9536819  1.701550e+09       0.021296           1432          502   \n9536820  1.701550e+09       2.018227           5670        41544   \n9536821  1.701550e+09       2.018277           5880        41544   \n9536822  1.701550e+09       2.018348           6090        41544   \n\n         Destination Port  Protocol Type Protocol_name  Duration         Rate  \\\n0                     502              6           TCP      64.0     0.000000   \n1                     502              6           TCP      64.0   946.902344   \n2                     502              6           TCP      64.0  1288.572632   \n3                     502              6           TCP      64.0   923.957275   \n4                     502              6           TCP      64.0   526.591858   \n...                   ...            ...           ...       ...          ...   \n9536818              1900             17           UDP       1.0    12.882689   \n9536819             55784              6           TCP      64.0   939.142456   \n9536820              1900             17           UDP       1.0    13.378079   \n9536821              1900             17           UDP       1.0    13.873220   \n9536822              1900             17           UDP       1.0    14.368186   \n\n               Srate  ...  Variance  Weight  DS status  Fragments  \\\n0           0.000000  ...       0.0     1.0          0          0   \n1         946.902344  ...       0.0     4.0          0          0   \n2        1288.572632  ...       0.0     9.0          0          0   \n3         923.957275  ...       0.0    16.0          0          0   \n4         526.591858  ...       0.0    25.0          0          0   \n...              ...  ...       ...     ...        ...        ...   \n9536818    12.882689  ...       1.0   100.0          0          0   \n9536819   939.142456  ...       1.0   121.0          0          0   \n9536820    13.378079  ...       1.0   144.0          0          0   \n9536821    13.873220  ...       1.0   169.0          0          0   \n9536822    14.368186  ...       1.0   196.0          0          0   \n\n         Sequence number  Protocol Version  flow_idle_time  flow_active_time  \\\n0                      0                 0    1.701426e+09          0.000000   \n1                      0                 0    2.112150e-03          0.002112   \n2                      0                 0    2.160072e-04          0.002328   \n3                      0                 0    2.001047e-03          0.004329   \n4                      0                 0    5.165815e-03          0.009495   \n...                  ...               ...             ...               ...   \n9536818                0                 0    2.312660e-05          2.018212   \n9536819                0                 0    2.112150e-03          0.021296   \n9536820                0                 0    1.478195e-05          2.018227   \n9536821                0                 0    5.006790e-05          2.018277   \n9536822                0                 0    7.104874e-05          2.018348   \n\n         Source IP (int)  Destination IP (int)  \n0             2886746240            2886746752  \n1             2886746240            2886746752  \n2             2886746240            2886746752  \n3             2886746240            2886746752  \n4             2886746240            2886746752  \n...                  ...                   ...  \n9536818       2886746752            4026531834  \n9536819       2886746752            2886746240  \n9536820       2886746752            4026531834  \n9536821       2886746752            4026531834  \n9536822       2886746752            4026531834  \n\n[21599219 rows x 67 columns]",
      "text/html": "<div>\n<style scoped>\n    .dataframe tbody tr th:only-of-type {\n        vertical-align: middle;\n    }\n\n    .dataframe tbody tr th {\n        vertical-align: top;\n    }\n\n    .dataframe thead th {\n        text-align: right;\n    }\n</style>\n<table border=\"1\" class=\"dataframe\">\n  <thead>\n    <tr style=\"text-align: right;\">\n      <th></th>\n      <th>ts</th>\n      <th>flow_duration</th>\n      <th>Header_Length</th>\n      <th>Source Port</th>\n      <th>Destination Port</th>\n      <th>Protocol Type</th>\n      <th>Protocol_name</th>\n      <th>Duration</th>\n      <th>Rate</th>\n      <th>Srate</th>\n      <th>...</th>\n      <th>Variance</th>\n      <th>Weight</th>\n      <th>DS status</th>\n      <th>Fragments</th>\n      <th>Sequence number</th>\n      <th>Protocol Version</th>\n      <th>flow_idle_time</th>\n      <th>flow_active_time</th>\n      <th>Source IP (int)</th>\n      <th>Destination IP (int)</th>\n    </tr>\n  </thead>\n  <tbody>\n    <tr>\n      <th>0</th>\n      <td>1.701426e+09</td>\n      <td>0.000000</td>\n      <td>66</td>\n      <td>41750</td>\n      <td>502</td>\n      <td>6</td>\n      <td>TCP</td>\n      <td>64.0</td>\n      <td>0.000000</td>\n      <td>0.000000</td>\n      <td>...</td>\n      <td>0.0</td>\n      <td>1.0</td>\n      <td>0</td>\n      <td>0</td>\n      <td>0</td>\n      <td>0</td>\n      <td>1.701426e+09</td>\n      <td>0.000000</td>\n      <td>2886746240</td>\n      <td>2886746752</td>\n    </tr>\n    <tr>\n      <th>1</th>\n      <td>1.701426e+09</td>\n      <td>0.002112</td>\n      <td>132</td>\n      <td>41750</td>\n      <td>502</td>\n      <td>6</td>\n      <td>TCP</td>\n      <td>64.0</td>\n      <td>946.902344</td>\n      <td>946.902344</td>\n      <td>...</td>\n      <td>0.0</td>\n      <td>4.0</td>\n      <td>0</td>\n      <td>0</td>\n      <td>0</td>\n      <td>0</td>\n      <td>2.112150e-03</td>\n      <td>0.002112</td>\n      <td>2886746240</td>\n      <td>2886746752</td>\n    </tr>\n    <tr>\n      <th>2</th>\n      <td>1.701426e+09</td>\n      <td>0.002328</td>\n      <td>198</td>\n      <td>41750</td>\n      <td>502</td>\n      <td>6</td>\n      <td>TCP</td>\n      <td>64.0</td>\n      <td>1288.572632</td>\n      <td>1288.572632</td>\n      <td>...</td>\n      <td>0.0</td>\n      <td>9.0</td>\n      <td>0</td>\n      <td>0</td>\n      <td>0</td>\n      <td>0</td>\n      <td>2.160072e-04</td>\n      <td>0.002328</td>\n      <td>2886746240</td>\n      <td>2886746752</td>\n    </tr>\n    <tr>\n      <th>3</th>\n      <td>1.701426e+09</td>\n      <td>0.004329</td>\n      <td>264</td>\n      <td>41750</td>\n      <td>502</td>\n      <td>6</td>\n      <td>TCP</td>\n      <td>64.0</td>\n      <td>923.957275</td>\n      <td>923.957275</td>\n      <td>...</td>\n      <td>0.0</td>\n      <td>16.0</td>\n      <td>0</td>\n      <td>0</td>\n      <td>0</td>\n      <td>0</td>\n      <td>2.001047e-03</td>\n      <td>0.004329</td>\n      <td>2886746240</td>\n      <td>2886746752</td>\n    </tr>\n    <tr>\n      <th>4</th>\n      <td>1.701426e+09</td>\n      <td>0.009495</td>\n      <td>330</td>\n      <td>41750</td>\n      <td>502</td>\n      <td>6</td>\n      <td>TCP</td>\n      <td>64.0</td>\n      <td>526.591858</td>\n      <td>526.591858</td>\n      <td>...</td>\n      <td>0.0</td>\n      <td>25.0</td>\n      <td>0</td>\n      <td>0</td>\n      <td>0</td>\n      <td>0</td>\n      <td>5.165815e-03</td>\n      <td>0.009495</td>\n      <td>2886746240</td>\n      <td>2886746752</td>\n    </tr>\n    <tr>\n      <th>...</th>\n      <td>...</td>\n      <td>...</td>\n      <td>...</td>\n      <td>...</td>\n      <td>...</td>\n      <td>...</td>\n      <td>...</td>\n      <td>...</td>\n      <td>...</td>\n      <td>...</td>\n      <td>...</td>\n      <td>...</td>\n      <td>...</td>\n      <td>...</td>\n      <td>...</td>\n      <td>...</td>\n      <td>...</td>\n      <td>...</td>\n      <td>...</td>\n      <td>...</td>\n      <td>...</td>\n    </tr>\n    <tr>\n      <th>9536818</th>\n      <td>1.701550e+09</td>\n      <td>2.018212</td>\n      <td>5460</td>\n      <td>41544</td>\n      <td>1900</td>\n      <td>17</td>\n      <td>UDP</td>\n      <td>1.0</td>\n      <td>12.882689</td>\n      <td>12.882689</td>\n      <td>...</td>\n      <td>1.0</td>\n      <td>100.0</td>\n      <td>0</td>\n      <td>0</td>\n      <td>0</td>\n      <td>0</td>\n      <td>2.312660e-05</td>\n      <td>2.018212</td>\n      <td>2886746752</td>\n      <td>4026531834</td>\n    </tr>\n    <tr>\n      <th>9536819</th>\n      <td>1.701550e+09</td>\n      <td>0.021296</td>\n      <td>1432</td>\n      <td>502</td>\n      <td>55784</td>\n      <td>6</td>\n      <td>TCP</td>\n      <td>64.0</td>\n      <td>939.142456</td>\n      <td>939.142456</td>\n      <td>...</td>\n      <td>1.0</td>\n      <td>121.0</td>\n      <td>0</td>\n      <td>0</td>\n      <td>0</td>\n      <td>0</td>\n      <td>2.112150e-03</td>\n      <td>0.021296</td>\n      <td>2886746752</td>\n      <td>2886746240</td>\n    </tr>\n    <tr>\n      <th>9536820</th>\n      <td>1.701550e+09</td>\n      <td>2.018227</td>\n      <td>5670</td>\n      <td>41544</td>\n      <td>1900</td>\n      <td>17</td>\n      <td>UDP</td>\n      <td>1.0</td>\n      <td>13.378079</td>\n      <td>13.378079</td>\n      <td>...</td>\n      <td>1.0</td>\n      <td>144.0</td>\n      <td>0</td>\n      <td>0</td>\n      <td>0</td>\n      <td>0</td>\n      <td>1.478195e-05</td>\n      <td>2.018227</td>\n      <td>2886746752</td>\n      <td>4026531834</td>\n    </tr>\n    <tr>\n      <th>9536821</th>\n      <td>1.701550e+09</td>\n      <td>2.018277</td>\n      <td>5880</td>\n      <td>41544</td>\n      <td>1900</td>\n      <td>17</td>\n      <td>UDP</td>\n      <td>1.0</td>\n      <td>13.873220</td>\n      <td>13.873220</td>\n      <td>...</td>\n      <td>1.0</td>\n      <td>169.0</td>\n      <td>0</td>\n      <td>0</td>\n      <td>0</td>\n      <td>0</td>\n      <td>5.006790e-05</td>\n      <td>2.018277</td>\n      <td>2886746752</td>\n      <td>4026531834</td>\n    </tr>\n    <tr>\n      <th>9536822</th>\n      <td>1.701550e+09</td>\n      <td>2.018348</td>\n      <td>6090</td>\n      <td>41544</td>\n      <td>1900</td>\n      <td>17</td>\n      <td>UDP</td>\n      <td>1.0</td>\n      <td>14.368186</td>\n      <td>14.368186</td>\n      <td>...</td>\n      <td>1.0</td>\n      <td>196.0</td>\n      <td>0</td>\n      <td>0</td>\n      <td>0</td>\n      <td>0</td>\n      <td>7.104874e-05</td>\n      <td>2.018348</td>\n      <td>2886746752</td>\n      <td>4026531834</td>\n    </tr>\n  </tbody>\n</table>\n<p>21599219 rows × 67 columns</p>\n</div>"
     },
     "execution_count": 8,
     "metadata": {},
     "output_type": "execute_result"
    }
   ],
   "source": [
    "X"
   ],
   "metadata": {
    "collapsed": false,
    "ExecuteTime": {
     "end_time": "2025-01-02T15:09:47.247784400Z",
     "start_time": "2025-01-02T15:09:44.469996700Z"
    }
   }
  },
  {
   "cell_type": "code",
   "execution_count": 9,
   "outputs": [
    {
     "data": {
      "text/plain": "label\n0        21598215\n1            1004\nName: count, dtype: int64"
     },
     "execution_count": 9,
     "metadata": {},
     "output_type": "execute_result"
    }
   ],
   "source": [
    "y.value_counts()"
   ],
   "metadata": {
    "collapsed": false,
    "ExecuteTime": {
     "end_time": "2025-01-02T15:09:47.844834Z",
     "start_time": "2025-01-02T15:09:47.250786Z"
    }
   }
  },
  {
   "cell_type": "code",
   "execution_count": 10,
   "outputs": [],
   "source": [
    "selected_features = [\n",
    "    'ts', 'flow_duration', 'Source Port', 'Destination Port', 'Protocol Type', 'Duration', 'Rate',\n",
    "    'fin_flag_number', 'syn_flag_number', 'rst_flag_number', 'psh_flag_number', 'ack_flag_number',\n",
    "    'syn_count', 'urg_count', 'HTTP', 'HTTPS', 'DNS', 'SSH', 'TCP', 'ARP', 'ICMP', 'IGMP', 'IPv',\n",
    "    'Tot sum', 'Min', 'Max', 'AVG', 'Std', 'Tot size', 'IAT', 'Variance', 'Source IP (int)', 'Destination IP (int)'\n",
    "]"
   ],
   "metadata": {
    "collapsed": false,
    "ExecuteTime": {
     "end_time": "2025-01-02T15:09:47.960686600Z",
     "start_time": "2025-01-02T15:09:47.929043300Z"
    }
   }
  },
  {
   "cell_type": "code",
   "execution_count": 11,
   "outputs": [
    {
     "name": "stdout",
     "output_type": "stream",
     "text": [
      "Remaining amount of features: 33\n"
     ]
    }
   ],
   "source": [
    "X = X[selected_features]\n",
    "print(f\"Remaining amount of features: {len(X.columns)}\")"
   ],
   "metadata": {
    "collapsed": false,
    "ExecuteTime": {
     "end_time": "2025-01-02T15:09:48.591841100Z",
     "start_time": "2025-01-02T15:09:47.960686600Z"
    }
   }
  },
  {
   "cell_type": "code",
   "execution_count": 12,
   "outputs": [],
   "source": [
    "X_train, X_test, y_train, y_test = train_test_split(X, y, test_size=0.2, stratify=y)\n",
    "\n"
   ],
   "metadata": {
    "collapsed": false,
    "ExecuteTime": {
     "end_time": "2025-01-02T15:10:21.958815300Z",
     "start_time": "2025-01-02T15:09:48.592841600Z"
    }
   }
  },
  {
   "cell_type": "markdown",
   "source": [],
   "metadata": {
    "collapsed": false
   }
  },
  {
   "cell_type": "code",
   "execution_count": 65,
   "outputs": [
    {
     "name": "stderr",
     "output_type": "stream",
     "text": [
      "`use_label_encoder` is deprecated in 1.7.0.\n"
     ]
    }
   ],
   "source": [
    "from sklearn.preprocessing import LabelEncoder\n",
    "import xgboost as xgb\n",
    "from sklearn.metrics import accuracy_score\n",
    "\n",
    "\n",
    "from sklearn.preprocessing import LabelEncoder\n",
    "import xgboost as xgb\n",
    "from sklearn.metrics import accuracy_score\n",
    "\n",
    "\n",
    "# Initialize the XGBoost model\n",
    "# Initialize the XGBoost model with GPU support\n",
    "model = xgb.XGBClassifier(\n",
    "    objective='binary:logistic',\n",
    "    eval_metric='logloss',\n",
    "    use_label_encoder=False,\n",
    "    tree_method='gpu_hist',\n",
    "    max_depth=9,\n",
    "    learning_rate=0.1,\n",
    "    n_estimators=1000,\n",
    "    subsample=0.8,\n",
    "    colsample_bytree=0.8,\n",
    "    gamma=0,\n",
    "    reg_alpha=0.1,\n",
    "    reg_lambda=1,\n",
    "    scale_pos_weight=1\n",
    ")"
   ],
   "metadata": {
    "collapsed": false,
    "ExecuteTime": {
     "end_time": "2025-01-02T15:32:23.374129Z",
     "start_time": "2025-01-02T15:32:23.359119800Z"
    }
   }
  },
  {
   "cell_type": "markdown",
   "source": [],
   "metadata": {
    "collapsed": false
   }
  },
  {
   "cell_type": "code",
   "execution_count": 66,
   "outputs": [],
   "source": [
    "y_train = y_train.astype(int)\n",
    "y_test = y_test.astype(int)"
   ],
   "metadata": {
    "collapsed": false,
    "ExecuteTime": {
     "end_time": "2025-01-02T15:32:23.475886500Z",
     "start_time": "2025-01-02T15:32:23.363419300Z"
    }
   }
  },
  {
   "cell_type": "code",
   "execution_count": 67,
   "outputs": [
    {
     "data": {
      "text/plain": "XGBClassifier(base_score=None, booster=None, callbacks=None,\n              colsample_bylevel=None, colsample_bynode=None,\n              colsample_bytree=0.8, early_stopping_rounds=None,\n              enable_categorical=False, eval_metric='logloss',\n              feature_types=None, gamma=0, gpu_id=None, grow_policy=None,\n              importance_type=None, interaction_constraints=None,\n              learning_rate=0.1, max_bin=None, max_cat_threshold=None,\n              max_cat_to_onehot=None, max_delta_step=None, max_depth=9,\n              max_leaves=None, min_child_weight=None, missing=nan,\n              monotone_constraints=None, n_estimators=1000, n_jobs=None,\n              num_parallel_tree=None, predictor=None, random_state=None, ...)",
      "text/html": "<style>#sk-container-id-4 {color: black;}#sk-container-id-4 pre{padding: 0;}#sk-container-id-4 div.sk-toggleable {background-color: white;}#sk-container-id-4 label.sk-toggleable__label {cursor: pointer;display: block;width: 100%;margin-bottom: 0;padding: 0.3em;box-sizing: border-box;text-align: center;}#sk-container-id-4 label.sk-toggleable__label-arrow:before {content: \"▸\";float: left;margin-right: 0.25em;color: #696969;}#sk-container-id-4 label.sk-toggleable__label-arrow:hover:before {color: black;}#sk-container-id-4 div.sk-estimator:hover label.sk-toggleable__label-arrow:before {color: black;}#sk-container-id-4 div.sk-toggleable__content {max-height: 0;max-width: 0;overflow: hidden;text-align: left;background-color: #f0f8ff;}#sk-container-id-4 div.sk-toggleable__content pre {margin: 0.2em;color: black;border-radius: 0.25em;background-color: #f0f8ff;}#sk-container-id-4 input.sk-toggleable__control:checked~div.sk-toggleable__content {max-height: 200px;max-width: 100%;overflow: auto;}#sk-container-id-4 input.sk-toggleable__control:checked~label.sk-toggleable__label-arrow:before {content: \"▾\";}#sk-container-id-4 div.sk-estimator input.sk-toggleable__control:checked~label.sk-toggleable__label {background-color: #d4ebff;}#sk-container-id-4 div.sk-label input.sk-toggleable__control:checked~label.sk-toggleable__label {background-color: #d4ebff;}#sk-container-id-4 input.sk-hidden--visually {border: 0;clip: rect(1px 1px 1px 1px);clip: rect(1px, 1px, 1px, 1px);height: 1px;margin: -1px;overflow: hidden;padding: 0;position: absolute;width: 1px;}#sk-container-id-4 div.sk-estimator {font-family: monospace;background-color: #f0f8ff;border: 1px dotted black;border-radius: 0.25em;box-sizing: border-box;margin-bottom: 0.5em;}#sk-container-id-4 div.sk-estimator:hover {background-color: #d4ebff;}#sk-container-id-4 div.sk-parallel-item::after {content: \"\";width: 100%;border-bottom: 1px solid gray;flex-grow: 1;}#sk-container-id-4 div.sk-label:hover label.sk-toggleable__label {background-color: #d4ebff;}#sk-container-id-4 div.sk-serial::before {content: \"\";position: absolute;border-left: 1px solid gray;box-sizing: border-box;top: 0;bottom: 0;left: 50%;z-index: 0;}#sk-container-id-4 div.sk-serial {display: flex;flex-direction: column;align-items: center;background-color: white;padding-right: 0.2em;padding-left: 0.2em;position: relative;}#sk-container-id-4 div.sk-item {position: relative;z-index: 1;}#sk-container-id-4 div.sk-parallel {display: flex;align-items: stretch;justify-content: center;background-color: white;position: relative;}#sk-container-id-4 div.sk-item::before, #sk-container-id-4 div.sk-parallel-item::before {content: \"\";position: absolute;border-left: 1px solid gray;box-sizing: border-box;top: 0;bottom: 0;left: 50%;z-index: -1;}#sk-container-id-4 div.sk-parallel-item {display: flex;flex-direction: column;z-index: 1;position: relative;background-color: white;}#sk-container-id-4 div.sk-parallel-item:first-child::after {align-self: flex-end;width: 50%;}#sk-container-id-4 div.sk-parallel-item:last-child::after {align-self: flex-start;width: 50%;}#sk-container-id-4 div.sk-parallel-item:only-child::after {width: 0;}#sk-container-id-4 div.sk-dashed-wrapped {border: 1px dashed gray;margin: 0 0.4em 0.5em 0.4em;box-sizing: border-box;padding-bottom: 0.4em;background-color: white;}#sk-container-id-4 div.sk-label label {font-family: monospace;font-weight: bold;display: inline-block;line-height: 1.2em;}#sk-container-id-4 div.sk-label-container {text-align: center;}#sk-container-id-4 div.sk-container {/* jupyter's `normalize.less` sets `[hidden] { display: none; }` but bootstrap.min.css set `[hidden] { display: none !important; }` so we also need the `!important` here to be able to override the default hidden behavior on the sphinx rendered scikit-learn.org. See: https://github.com/scikit-learn/scikit-learn/issues/21755 */display: inline-block !important;position: relative;}#sk-container-id-4 div.sk-text-repr-fallback {display: none;}</style><div id=\"sk-container-id-4\" class=\"sk-top-container\"><div class=\"sk-text-repr-fallback\"><pre>XGBClassifier(base_score=None, booster=None, callbacks=None,\n              colsample_bylevel=None, colsample_bynode=None,\n              colsample_bytree=0.8, early_stopping_rounds=None,\n              enable_categorical=False, eval_metric=&#x27;logloss&#x27;,\n              feature_types=None, gamma=0, gpu_id=None, grow_policy=None,\n              importance_type=None, interaction_constraints=None,\n              learning_rate=0.1, max_bin=None, max_cat_threshold=None,\n              max_cat_to_onehot=None, max_delta_step=None, max_depth=9,\n              max_leaves=None, min_child_weight=None, missing=nan,\n              monotone_constraints=None, n_estimators=1000, n_jobs=None,\n              num_parallel_tree=None, predictor=None, random_state=None, ...)</pre><b>In a Jupyter environment, please rerun this cell to show the HTML representation or trust the notebook. <br />On GitHub, the HTML representation is unable to render, please try loading this page with nbviewer.org.</b></div><div class=\"sk-container\" hidden><div class=\"sk-item\"><div class=\"sk-estimator sk-toggleable\"><input class=\"sk-toggleable__control sk-hidden--visually\" id=\"sk-estimator-id-4\" type=\"checkbox\" checked><label for=\"sk-estimator-id-4\" class=\"sk-toggleable__label sk-toggleable__label-arrow\">XGBClassifier</label><div class=\"sk-toggleable__content\"><pre>XGBClassifier(base_score=None, booster=None, callbacks=None,\n              colsample_bylevel=None, colsample_bynode=None,\n              colsample_bytree=0.8, early_stopping_rounds=None,\n              enable_categorical=False, eval_metric=&#x27;logloss&#x27;,\n              feature_types=None, gamma=0, gpu_id=None, grow_policy=None,\n              importance_type=None, interaction_constraints=None,\n              learning_rate=0.1, max_bin=None, max_cat_threshold=None,\n              max_cat_to_onehot=None, max_delta_step=None, max_depth=9,\n              max_leaves=None, min_child_weight=None, missing=nan,\n              monotone_constraints=None, n_estimators=1000, n_jobs=None,\n              num_parallel_tree=None, predictor=None, random_state=None, ...)</pre></div></div></div></div></div>"
     },
     "execution_count": 67,
     "metadata": {},
     "output_type": "execute_result"
    }
   ],
   "source": [
    "model.fit(X_train, y_train)\n"
   ],
   "metadata": {
    "collapsed": false,
    "ExecuteTime": {
     "end_time": "2025-01-02T15:33:24.605419100Z",
     "start_time": "2025-01-02T15:32:23.441254800Z"
    }
   }
  },
  {
   "cell_type": "code",
   "execution_count": 68,
   "outputs": [
    {
     "name": "stdout",
     "output_type": "stream",
     "text": [
      "0.9999981480812733\n",
      "              precision    recall  f1-score   support\n",
      "\n",
      "           0       1.00      1.00      1.00   4319643\n",
      "           1       1.00      0.96      0.98       201\n",
      "\n",
      "    accuracy                           1.00   4319844\n",
      "   macro avg       1.00      0.98      0.99   4319844\n",
      "weighted avg       1.00      1.00      1.00   4319844\n",
      "\n"
     ]
    }
   ],
   "source": [
    "from sklearn.metrics import classification_report, accuracy_score\n",
    "\n",
    "y_pred = model.predict(X_test)\n",
    "print(accuracy_score(y_test, y_pred))\n",
    "print(classification_report(y_test, y_pred))\n"
   ],
   "metadata": {
    "collapsed": false,
    "ExecuteTime": {
     "end_time": "2025-01-02T15:34:20.409279200Z",
     "start_time": "2025-01-02T15:34:09.195932800Z"
    }
   }
  },
  {
   "cell_type": "code",
   "execution_count": 69,
   "outputs": [],
   "source": [
    "class_names = [\n",
    "    \"0\",\n",
    "    \"1\"\n",
    "\n",
    "]\n"
   ],
   "metadata": {
    "collapsed": false,
    "ExecuteTime": {
     "end_time": "2025-01-02T15:34:20.414279500Z",
     "start_time": "2025-01-02T15:34:20.409279200Z"
    }
   }
  },
  {
   "cell_type": "code",
   "execution_count": 70,
   "outputs": [
    {
     "data": {
      "text/plain": "<Figure size 1000x800 with 2 Axes>",
      "image/png": "[encoded data removed]"
     },
     "metadata": {},
     "output_type": "display_data"
    }
   ],
   "source": [
    "from sklearn.metrics import confusion_matrix\n",
    "\n",
    "\n",
    "# Ensure y_test has the same type as y_pred\n",
    "y_test = y_test.astype(int)\n",
    "\n",
    "# Calculate the confusion matrix\n",
    "cm = confusion_matrix(y_test, y_pred)\n",
    "\n",
    "# Plot the confusion matrix using seaborn\n",
    "plt.figure(figsize=(10, 8))\n",
    "sns.heatmap(cm, annot=True, fmt=\"d\", cmap=\"Blues\", xticklabels=class_names, yticklabels=class_names)\n",
    "plt.title('Confusion Matrix')\n",
    "plt.xlabel('Predicted Label')\n",
    "plt.ylabel('True Label')\n",
    "plt.xticks(rotation=90)  # Rotate X-axis labels for readability if they are long\n",
    "plt.yticks(rotation=0)\n",
    "plt.show()\n"
   ],
   "metadata": {
    "collapsed": false,
    "ExecuteTime": {
     "end_time": "2025-01-02T15:34:21.126800Z",
     "start_time": "2025-01-02T15:34:20.409279200Z"
    }
   }
  },
  {
   "cell_type": "code",
   "execution_count": 73,
   "outputs": [],
   "source": [
    "target_names = [      0,1\n",
    "]\n"
   ],
   "metadata": {
    "collapsed": false,
    "ExecuteTime": {
     "end_time": "2025-01-02T15:34:21.296596200Z",
     "start_time": "2025-01-02T15:34:21.162775700Z"
    }
   }
  },
  {
   "cell_type": "code",
   "execution_count": 74,
   "outputs": [
    {
     "name": "stdout",
     "output_type": "stream",
     "text": [
      "+---------+-----------+----------+----------+---------+\n",
      "|  Class  | Precision |  Recall  | F1-score | Support |\n",
      "+---------+-----------+----------+----------+---------+\n",
      "| Class 0 |  0.999998 | 1.000000 | 0.999999 | 4319643 |\n",
      "| Class 1 |  1.000000 | 0.960199 | 0.979695 |   201   |\n",
      "+---------+-----------+----------+----------+---------+\n",
      "\n",
      "Overall Accuracy: 0.999998\n"
     ]
    }
   ],
   "source": [
    "from prettytable import PrettyTable\n",
    "from sklearn.metrics import precision_recall_fscore_support\n",
    "\n",
    "def display_metrics_table(y_true, y_pred):\n",
    "    # Convert y_true to numpy array if it's a DataFrame\n",
    "    if hasattr(y_true, 'values'):\n",
    "        y_true = y_true.values\n",
    "\n",
    "    # Flatten y_true to match the shape of y_pred\n",
    "    y_true = y_true.ravel()\n",
    "\n",
    "    # Convert y_true to integers to match y_pred\n",
    "    y_true = y_true.astype(int)\n",
    "\n",
    "    precision, recall, f1, support = precision_recall_fscore_support(y_true, y_pred)\n",
    "\n",
    "    # Create a table\n",
    "    table = PrettyTable()\n",
    "    table.field_names = [\"Class\", \"Precision\", \"Recall\", \"F1-score\", \"Support\"]\n",
    "\n",
    "    for i, (p, r, f, s) in enumerate(zip(precision, recall, f1, support)):\n",
    "        table.add_row([f\"Class {i}\", f\"{p:.6f}\", f\"{r:.6f}\", f\"{f:.6f}\", s])\n",
    "\n",
    "    print(table)\n",
    "\n",
    "    # Calculate accuracy\n",
    "    accuracy = (y_pred == y_true).sum() / len(y_true)\n",
    "    print(f\"\\nOverall Accuracy: {accuracy:.6f}\")\n",
    "\n",
    "# Convert y_test to a numpy array if necessary, and flatten it\n",
    "if hasattr(y_test, 'values'):\n",
    "    y_test = y_test.values\n",
    "\n",
    "y_test = y_test.ravel()\n",
    "\n",
    "# Convert y_test from strings to integers\n",
    "y_test = y_test.astype(int)\n",
    "\n",
    "y_pred = model.predict(X_test).ravel()\n",
    "y_pred = y_pred.astype(int)\n",
    "\n",
    "display_metrics_table(y_test, y_pred)\n"
   ],
   "metadata": {
    "collapsed": false,
    "ExecuteTime": {
     "end_time": "2025-01-02T15:34:26.986206900Z",
     "start_time": "2025-01-02T15:34:21.173665200Z"
    }
   }
  },
  {
   "cell_type": "code",
   "execution_count": null,
   "outputs": [],
   "source": [],
   "metadata": {
    "collapsed": false
   }
  },
  {
   "cell_type": "code",
   "execution_count": 75,
   "outputs": [],
   "source": [
    "import time\n",
    "import numpy as np\n",
    "import pandas as pd\n",
    "from sklearn.preprocessing import StandardScaler\n",
    "\n",
    "def calculate_latency(model, X_test,  iterations=10):\n",
    "  \"\"\"\n",
    "    Average Prediction Latency Per Sample.\n",
    "\n",
    "\n",
    "    Args:\n",
    "      model: Trained model with .predict method.\n",
    "      X_test: Test data.\n",
    "      iterations: Number of iterations to average latency over.\n",
    "    Returns:\n",
    "      average_latency_per_row: The average latency per row across all iterations\n",
    "  \"\"\"\n",
    "  total_latency = 0\n",
    "  num_rows = X_test.shape[0]\n",
    "\n",
    "  for _ in range(iterations):\n",
    "      start_time = time.time()\n",
    "\n",
    "      # Data Preparation (Dummy Preprocessing as example, replace with your processing pipeline)\n",
    "      X_test_prep = X_test.copy() # This represents your preprocessing, you can scale as you did in your code if you want.\n",
    "\n",
    "      # Prediction step\n",
    "      model.predict(X_test_prep)\n",
    "\n",
    "      end_time = time.time()\n",
    "      total_latency += (end_time - start_time)\n",
    "\n",
    "  average_latency = total_latency / iterations\n",
    "  average_latency_per_row = average_latency / num_rows\n",
    "  return average_latency_per_row"
   ],
   "metadata": {
    "collapsed": false,
    "ExecuteTime": {
     "end_time": "2025-01-02T15:34:55.135331700Z",
     "start_time": "2025-01-02T15:34:55.033800600Z"
    }
   }
  },
  {
   "cell_type": "code",
   "execution_count": 79,
   "outputs": [
    {
     "data": {
      "text/plain": "8.128127418548183e-07"
     },
     "execution_count": 79,
     "metadata": {},
     "output_type": "execute_result"
    }
   ],
   "source": [
    "average_latency_cat = calculate_latency(model, X_test)\n",
    "average_latency_cat"
   ],
   "metadata": {
    "collapsed": false,
    "ExecuteTime": {
     "end_time": "2025-01-02T15:39:42.652177200Z",
     "start_time": "2025-01-02T15:39:07.524681300Z"
    }
   }
  },
  {
   "cell_type": "code",
   "execution_count": 80,
   "outputs": [],
   "source": [
    "import psutil\n",
    "import os\n",
    "import time\n",
    "\n",
    "def measure_prediction_memory_cost(model, X_test):\n",
    "    \"\"\"\n",
    "    Memory Usage During Prediction on Test Set (MB)\n",
    "\n",
    "    Args:\n",
    "      model: Trained model with .predict method.\n",
    "      X_test: Test data.\n",
    "    Returns:\n",
    "      memory_usage_mb: The increase in memory usage during the prediction, in MB.\n",
    "    \"\"\"\n",
    "    def get_memory_usage():\n",
    "        process = psutil.Process(os.getpid())\n",
    "        return process.memory_info().rss / (1024 ** 2)  # in MB\n",
    "\n",
    "    start_memory = get_memory_usage()\n",
    "    model.predict(X_test)\n",
    "    end_memory = get_memory_usage()\n",
    "\n",
    "    memory_usage_mb = end_memory - start_memory\n",
    "    return memory_usage_mb\n",
    "\n"
   ],
   "metadata": {
    "collapsed": false,
    "ExecuteTime": {
     "end_time": "2025-01-02T15:40:19.191898500Z",
     "start_time": "2025-01-02T15:40:19.155015Z"
    }
   }
  },
  {
   "cell_type": "code",
   "execution_count": 114,
   "outputs": [
    {
     "name": "stdout",
     "output_type": "stream",
     "text": [
      "Memory usage during prediction: 0.02 MB\n"
     ]
    }
   ],
   "source": [
    "memory_cost = measure_prediction_memory_cost(model, X_test)\n",
    "print(f\"Memory usage during prediction: {memory_cost:.2f} MB\")"
   ],
   "metadata": {
    "collapsed": false,
    "ExecuteTime": {
     "end_time": "2025-01-02T15:47:00.005946Z",
     "start_time": "2025-01-02T15:46:57.169419200Z"
    }
   }
  },
  {
   "cell_type": "code",
   "execution_count": 116,
   "outputs": [],
   "source": [
    "import psutil\n",
    "import os\n",
    "import time\n",
    "\n",
    "def measure_prediction_cpu_cost(model, X_test, duration=3):\n",
    "    \"\"\"\n",
    "    Average CPU Usage During Prediction on Test Set (%)\n",
    "    System CPU time during prediction on  Test Set (seconds)\n",
    "\n",
    "    Args:\n",
    "      model: Trained model with .predict method.\n",
    "      X_test: Test data.\n",
    "      duration : time in seconds to average cpu metrics over.\n",
    "    Returns:\n",
    "        cpu_percent: Average CPU usage percentage during prediction.\n",
    "        user_cpu_time: User CPU time in seconds during the prediction.\n",
    "        system_cpu_time: System CPU time in seconds during the prediction.\n",
    "    \"\"\"\n",
    "\n",
    "    def get_cpu_usage():\n",
    "      cpu_percent = psutil.cpu_percent()\n",
    "      cpu_times = psutil.cpu_times()\n",
    "      return cpu_percent, cpu_times.user, cpu_times.system\n",
    "\n",
    "    cpu_usage_list = []\n",
    "    user_cpu_time_list = []\n",
    "    system_cpu_time_list = []\n",
    "\n",
    "    start_time = time.time()\n",
    "    while time.time() - start_time <= duration:\n",
    "      cpu_percent, user_time, system_time = get_cpu_usage()\n",
    "      cpu_usage_list.append(cpu_percent)\n",
    "      user_cpu_time_list.append(user_time)\n",
    "      system_cpu_time_list.append(system_time)\n",
    "      time.sleep(0.1) # Check cpu every 0.1 second\n",
    "\n",
    "    start_cpu_percent, start_user_time, start_system_time = get_cpu_usage()\n",
    "\n",
    "    start_prediction_time = time.time()\n",
    "    model.predict(X_test)\n",
    "    end_prediction_time = time.time()\n",
    "\n",
    "    cpu_percent, end_user_time, end_system_time = get_cpu_usage()\n",
    "\n",
    "    total_user_time = end_user_time - start_user_time\n",
    "    total_system_time = end_system_time - start_system_time\n",
    "\n",
    "    return np.mean(cpu_usage_list), total_user_time, total_system_time\n",
    "\n",
    "\n"
   ],
   "metadata": {
    "collapsed": false,
    "ExecuteTime": {
     "end_time": "2025-01-02T15:47:02.797378300Z",
     "start_time": "2025-01-02T15:47:02.792226400Z"
    }
   }
  },
  {
   "cell_type": "code",
   "execution_count": 117,
   "outputs": [
    {
     "name": "stdout",
     "output_type": "stream",
     "text": [
      "Average CPU usage during prediction: 3.38%\n",
      "User CPU time during prediction: 58.45 seconds\n",
      "System CPU time during prediction: 1.88 seconds\n"
     ]
    }
   ],
   "source": [
    "cpu_percent, user_cpu_time, system_cpu_time = measure_prediction_cpu_cost(model, X_test)\n",
    "print(f\"Average CPU usage during prediction: {cpu_percent:.2f}%\")\n",
    "print(f\"User CPU time during prediction: {user_cpu_time:.2f} seconds\")\n",
    "print(f\"System CPU time during prediction: {system_cpu_time:.2f} seconds\")"
   ],
   "metadata": {
    "collapsed": false,
    "ExecuteTime": {
     "end_time": "2025-01-02T15:47:08.629776700Z",
     "start_time": "2025-01-02T15:47:02.798377700Z"
    }
   }
  },
  {
   "cell_type": "code",
   "execution_count": 142,
   "outputs": [],
   "source": [],
   "metadata": {
    "collapsed": false,
    "ExecuteTime": {
     "end_time": "2025-01-02T15:52:07.083270500Z",
     "start_time": "2025-01-02T15:52:07.080681700Z"
    }
   }
  },
  {
   "cell_type": "code",
   "execution_count": 101,
   "outputs": [],
   "source": [],
   "metadata": {
    "collapsed": false,
    "ExecuteTime": {
     "end_time": "2025-01-02T15:45:21.952871900Z",
     "start_time": "2025-01-02T15:45:21.951887400Z"
    }
   }
  },
  {
   "cell_type": "code",
   "execution_count": 102,
   "outputs": [],
   "source": [
    "import time\n",
    "import numpy as np\n",
    "import matplotlib.pyplot as plt\n",
    "from sklearn.model_selection import train_test_split\n",
    "import pandas as pd\n",
    "import psutil\n",
    "import os\n",
    "\n",
    "def measure_prediction_scalability(model, X, y, test_size = 0.2, sizes = np.linspace(0.1, 1, 10), iterations = 3):\n",
    "    \"\"\"\n",
    "    Measures scalability\n",
    "\n",
    "    Args:\n",
    "      model: Trained model with .predict method.\n",
    "      X: Full Input dataframe.\n",
    "      y: Full labels of the dataframe.\n",
    "      test_size: size of the test set.\n",
    "      sizes: Fractions of test data to evaluate over.\n",
    "      iterations: Number of iterations to average over.\n",
    "    Returns:\n",
    "      sizes: Fraction of test data used in each run\n",
    "      prediction_times: time taken to do predictions with each fraction of test data\n",
    "    \"\"\"\n",
    "    prediction_times = []\n",
    "    X_train1, X_test1, y_train1, y_test1 = train_test_split(X, y, test_size=test_size, random_state=42)\n",
    "\n",
    "    for size in sizes:\n",
    "        subset_size = int(len(X_test1) * size)\n",
    "        X_test_subset = X_test1[:subset_size]\n",
    "\n",
    "\n",
    "        total_prediction_time = 0\n",
    "        for _ in range(iterations):\n",
    "             start_time = time.time()\n",
    "             model.predict(X_test_subset)\n",
    "             end_time = time.time()\n",
    "             total_prediction_time += (end_time-start_time)\n",
    "        prediction_time = total_prediction_time/iterations\n",
    "\n",
    "\n",
    "        prediction_times.append(prediction_time)\n",
    "\n",
    "    return sizes, prediction_times\n",
    "\n",
    "\n"
   ],
   "metadata": {
    "collapsed": false,
    "ExecuteTime": {
     "end_time": "2025-01-02T15:45:21.957880600Z",
     "start_time": "2025-01-02T15:45:21.955380300Z"
    }
   }
  },
  {
   "cell_type": "code",
   "execution_count": 106,
   "outputs": [
    {
     "data": {
      "text/plain": "<Figure size 1000x600 with 1 Axes>",
      "image/png": "[encoded data removed]"
     },
     "metadata": {},
     "output_type": "display_data"
    }
   ],
   "source": [
    "sizes, prediction_times = measure_prediction_scalability(model, X_test, y_test)\n",
    "#\n",
    "plt.figure(figsize=(10, 6))\n",
    "plt.plot(sizes, prediction_times, label='Prediction Time')\n",
    "plt.xlabel('Fraction of Test Data')\n",
    "plt.ylabel('Time (seconds)')\n",
    "plt.title('Prediction Scalability Measurement')\n",
    "plt.legend()\n",
    "plt.grid(True)\n",
    "plt.show()"
   ],
   "metadata": {
    "collapsed": false,
    "ExecuteTime": {
     "end_time": "2025-01-02T15:46:11.988193Z",
     "start_time": "2025-01-02T15:46:00.221367800Z"
    }
   }
  }
 ],
 "metadata": {
  "kernelspec": {
   "display_name": "Python 3",
   "language": "python",
   "name": "python3"
  },
  "language_info": {
   "codemirror_mode": {
    "name": "ipython",
    "version": 2
   },
   "file_extension": ".py",
   "mimetype": "text/x-python",
   "name": "python",
   "nbconvert_exporter": "python",
   "pygments_lexer": "ipython2",
   "version": "2.7.6"
  }
 },
 "nbformat": 4,
 "nbformat_minor": 0
}
